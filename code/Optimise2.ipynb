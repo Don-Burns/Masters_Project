{
 "cells": [
  {
   "cell_type": "markdown",
   "metadata": {
    "toc": true
   },
   "source": [
    "<h1>Table of Contents<span class=\"tocSkip\"></span></h1>\n",
    "<div class=\"toc\"><ul class=\"toc-item\"><li><span><a href=\"#Starting-Parameters\" data-toc-modified-id=\"Starting-Parameters-1\"><span class=\"toc-item-num\">1&nbsp;&nbsp;</span>Starting Parameters</a></span></li><li><span><a href=\"#Defining-Parameter-Space\" data-toc-modified-id=\"Defining-Parameter-Space-2\"><span class=\"toc-item-num\">2&nbsp;&nbsp;</span>Defining Parameter Space</a></span></li><li><span><a href=\"#Simulations\" data-toc-modified-id=\"Simulations-3\"><span class=\"toc-item-num\">3&nbsp;&nbsp;</span>Simulations</a></span></li><li><span><a href=\"#Heatmaps\" data-toc-modified-id=\"Heatmaps-4\"><span class=\"toc-item-num\">4&nbsp;&nbsp;</span>Heatmaps</a></span></li><li><span><a href=\"#Plot-Best-Curve\" data-toc-modified-id=\"Plot-Best-Curve-5\"><span class=\"toc-item-num\">5&nbsp;&nbsp;</span>Plot Best Curve</a></span></li><li><span><a href=\"#Sandbox\" data-toc-modified-id=\"Sandbox-6\"><span class=\"toc-item-num\">6&nbsp;&nbsp;</span>Sandbox</a></span></li></ul></div>"
   ]
  },
  {
   "cell_type": "code",
   "execution_count": null,
   "metadata": {},
   "outputs": [],
   "source": [
    "from numpy import isnan, nan_to_num, zeros_like, zeros, array, arange, meshgrid, around, nan\n",
    "from numpy import where, amax\n",
    "import seaborn as sb\n",
    "import matplotlib.pyplot as plt\n",
    "import Functions as F\n",
    "\n",
    "## for graphs in my darkmode\n",
    "sb.set(context='paper',style='whitegrid', rc={'figure.facecolor':'white'}, font_scale=1.2)"
   ]
  },
  {
   "cell_type": "markdown",
   "metadata": {},
   "source": [
    "start date: 14/07/2020\n",
    "\n",
    "new attempt at building the optimisation"
   ]
  },
  {
   "cell_type": "markdown",
   "metadata": {},
   "source": [
    "# Starting Parameters"
   ]
  },
  {
   "cell_type": "code",
   "execution_count": 3,
   "metadata": {},
   "outputs": [],
   "source": [
    "# Parameters\n",
    "norm_const = F.Fun_Resp(1, 10**6, \"2D\")* (60 * 60 * 24)# /s -> /min -> /hour -> /day \n",
    "\n",
    "params = {\"alpha\" : 10, \"epsilon\" : 0.7, # epsilon from peters book\n",
    "          \"norm_const\" : norm_const, \"meta_prop\" : 0.1, \"meta_exp\" : 1,\n",
    "          \"c\" : 0, \"rho\" : 0,\n",
    "          \"Xr\" : 1, \"amp\" : 0.5, \"period\" : 365, \"dimensionality\" : \"2D\"}\n",
    "\n",
    "m0 = 10**-2\n",
    "R0 = 0\n",
    "time = 1000"
   ]
  },
  {
   "cell_type": "code",
   "execution_count": null,
   "metadata": {},
   "outputs": [],
   "source": []
  },
  {
   "cell_type": "markdown",
   "metadata": {},
   "source": [
    "# Defining Parameter Space\n",
    "Defining the vectors to iterate through for `rho` and `c` values."
   ]
  },
  {
   "cell_type": "code",
   "execution_count": null,
   "metadata": {},
   "outputs": [],
   "source": [
    "# Resolution of parameter space search\n",
    "resolution = 0.1\n",
    "# highest value for c and rho, resolution added since `arange` stope before highest value given\n",
    "param_space_max = 2 #+ resolution \n",
    "\n",
    "# c and rho vectors\n",
    "c_vec = arange(0, param_space_max, resolution)\n",
    "rho_vec = arange(0, param_space_max, resolution)\n",
    "# c and rho arrays\n",
    "c_array, rho_array = meshgrid(c_vec, rho_vec) # rho changes by row and c by col\n",
    "\n",
    "# arrays to store results\n",
    "repro_result_array = zeros_like(c_array) # may have issues if `c` and `rho` arrays are not the same size\n",
    "mass_result_array = zeros_like(c_array)"
   ]
  },
  {
   "cell_type": "markdown",
   "metadata": {},
   "source": [
    "# Simulations"
   ]
  },
  {
   "cell_type": "code",
   "execution_count": null,
   "metadata": {
    "scrolled": false
   },
   "outputs": [],
   "source": [
    "# take some key param vals for neatness\n",
    "alpha = params[\"alpha\"]\n",
    "\n",
    "for i, rho in enumerate(rho_vec):\n",
    "    params[\"rho\"] = rho\n",
    "    \n",
    "    for j, c in enumerate(c_vec):\n",
    "        params[\"c\"] = c\n",
    "        result = F.dmdt_integrate(m0, R0, time, params)\n",
    "        mass = result[:,0]\n",
    "        repro = result[:,1]\n",
    "        \n",
    "        # check for shrinking\n",
    "        if mass[-1] < mass[alpha] or mass[0] > mass[-1] or isnan(mass[-1]):\n",
    "            mass = zeros_like(mass)\n",
    "            repro = zeros_like(repro)\n",
    "        \n",
    "        repro_result_array[i,j] = repro[-1]\n",
    "        mass_result_array[i,j] = mass[-1]\n",
    "        "
   ]
  },
  {
   "cell_type": "code",
   "execution_count": null,
   "metadata": {
    "scrolled": false
   },
   "outputs": [],
   "source": [
    "# find max\n",
    "ind = where(repro_result_array == amax(repro_result_array))\n",
    "# ind = F.find_max(repro_result_array) #returns first largest value\n",
    "i, j = ind\n"
   ]
  },
  {
   "cell_type": "code",
   "execution_count": null,
   "metadata": {},
   "outputs": [],
   "source": [
    "ind"
   ]
  },
  {
   "cell_type": "markdown",
   "metadata": {},
   "source": [
    "# Heatmaps"
   ]
  },
  {
   "cell_type": "code",
   "execution_count": null,
   "metadata": {
    "scrolled": true
   },
   "outputs": [],
   "source": [
    "plt.figure()\n",
    "sb.heatmap(repro_result_array,\n",
    "            xticklabels = around(c_vec, decimals=2), \n",
    "            yticklabels= around(rho_vec, decimals=2)).invert_yaxis()\n",
    "#scale circle for highest value with resolution of heatmap\n",
    "offset = resolution *5\n",
    "size = resolution * 2000\n",
    "# circle highest value\n",
    "plt.scatter(j+offset, i+offset, s=size, linewidth=3, facecolors='none', edgecolors='c' )\n",
    "\n",
    "plt.ylabel(\"rho\")\n",
    "plt.xlabel(\"c\")\n",
    "plt.title(\"Reproductive Output (kg)\")\n",
    "\n",
    "plt.figure()\n",
    "sb.heatmap(mass_result_array,\n",
    "            xticklabels = around(c_vec, decimals=2), \n",
    "            yticklabels = around(rho_vec, decimals=2)).invert_yaxis()\n",
    "\n",
    "# circle highest value\n",
    "plt.scatter(j+offset, i+offset, s=size, linewidth=3, facecolors='none', edgecolors='c' )\n",
    "\n",
    "plt.ylabel(\"rho\")\n",
    "plt.xlabel(\"c\")\n",
    "plt.title(\"Mass (kg)\")"
   ]
  },
  {
   "cell_type": "code",
   "execution_count": null,
   "metadata": {},
   "outputs": [],
   "source": [
    "# debugging for multiple best values\n",
    "# c_opt = 1.4\n",
    "# rho_opt = 0.8\n",
    "\n",
    "repro_result_array[ind]"
   ]
  },
  {
   "cell_type": "code",
   "execution_count": null,
   "metadata": {},
   "outputs": [],
   "source": [
    "rho_opt = float(rho_vec[i])\n",
    "c_opt = float(c_vec[j])\n",
    "print(\"c_opt:\", c_opt)\n",
    "print(\"rho_opt:\",rho_opt)\n",
    "print(\"highest reproductive output:\", repro_result_array[ind])\n",
    "print(\"mass output for optimum reproduction:\", mass_result_array[ind])"
   ]
  },
  {
   "cell_type": "markdown",
   "metadata": {},
   "source": [
    "# Plot Best Curve"
   ]
  },
  {
   "cell_type": "code",
   "execution_count": null,
   "metadata": {
    "scrolled": true
   },
   "outputs": [],
   "source": [
    "params[\"c\"] = c_opt\n",
    "params[\"rho\"] =rho_opt\n",
    "\n",
    "time=1000\n",
    "\n",
    "mR = F.dmdt_integrate(m0, R0, time, params) \n",
    "\n",
    "# unpack results\n",
    "m = mR[:,0]\n",
    "repro = mR[:,1]\n",
    "\n",
    "t = arange(0, time, 1)\n",
    "\n",
    "plt.figure()\n",
    "plt.plot(t, m, label=\"Mass\") #change dimensions from col to row\n",
    "plt.plot(t, repro, label=\"Reproductive Output\") \n",
    "plt.xlabel(\"Time (days)\")\n",
    "plt.ylabel(\"Mass (kg)\")\n",
    "\n",
    "plt.legend()\n",
    "plt.show()"
   ]
  },
  {
   "cell_type": "code",
   "execution_count": null,
   "metadata": {},
   "outputs": [],
   "source": [
    "break # to stop notebook before sandbox"
   ]
  },
  {
   "cell_type": "markdown",
   "metadata": {},
   "source": [
    "# Sandbox"
   ]
  },
  {
   "cell_type": "code",
   "execution_count": 1,
   "metadata": {},
   "outputs": [],
   "source": [
    "from numpy import isnan, nan_to_num, zeros_like, zeros, array, arange, meshgrid, around, nan\n",
    "from numpy import where, amax\n",
    "import seaborn as sb\n",
    "import matplotlib.pyplot as plt\n",
    "import Functions as F\n",
    "\n",
    "## for graphs in my darkmode\n",
    "sb.set(context='paper',style='whitegrid', rc={'figure.facecolor':'white'}, font_scale=1.2)"
   ]
  },
  {
   "cell_type": "code",
   "execution_count": 4,
   "metadata": {},
   "outputs": [
    {
     "name": "stderr",
     "output_type": "stream",
     "text": [
      "/home/donal/Documents/Project/code/Functions.py:219: RuntimeWarning: invalid value encountered in double_scalars\n",
      "  return (m**gamma) * a0\n",
      "/home/donal/Documents/Project/code/Functions.py:244: RuntimeWarning: invalid value encountered in double_scalars\n",
      "  return (m**-beta) * tk0\n"
     ]
    },
    {
     "data": {
      "image/png": "[encoded data removed]",
      "text/plain": [
       "<Figure size 432x288 with 1 Axes>"
      ]
     },
     "metadata": {},
     "output_type": "display_data"
    },
    {
     "data": {
      "text/plain": [
       "array([[1.00000000e-01, 0.00000000e+00],\n",
       "       [3.67879540e-02, 0.00000000e+00],\n",
       "       [1.35335300e-02, 0.00000000e+00],\n",
       "       [4.97872006e-03, 3.27393989e-10],\n",
       "       [1.83156861e-03, 6.74099114e-01],\n",
       "       [6.73796548e-04, 9.84141959e-01],\n",
       "       [2.47875809e-04, 1.12674201e+00],\n",
       "       [9.11884303e-05, 1.19232900e+00],\n",
       "       [3.35462834e-05, 1.22249485e+00],\n",
       "       [1.23409949e-05, 1.23636924e+00],\n",
       "       [4.53994756e-06, 1.24275058e+00],\n",
       "       [1.66982878e-06, 1.24568559e+00],\n",
       "       [6.14594987e-07, 1.24703552e+00],\n",
       "       [2.27204681e-07, 1.24765640e+00],\n",
       "       [8.48625728e-08, 1.24794196e+00],\n",
       "       [2.86618214e-08, 1.24807330e+00],\n",
       "       [           nan, 1.24813371e+00],\n",
       "       [           nan, 1.24816150e+00],\n",
       "       [           nan, 1.24817428e+00],\n",
       "       [           nan,            nan],\n",
       "       [           nan,            nan],\n",
       "       [           nan,            nan],\n",
       "       [           nan,            nan],\n",
       "       [           nan,            nan],\n",
       "       [           nan,            nan],\n",
       "       [           nan,            nan],\n",
       "       [           nan,            nan],\n",
       "       [           nan,            nan],\n",
       "       [           nan,            nan],\n",
       "       [           nan,            nan],\n",
       "       [           nan,            nan],\n",
       "       [           nan,            nan],\n",
       "       [           nan,            nan],\n",
       "       [           nan,            nan],\n",
       "       [           nan,            nan],\n",
       "       [           nan,            nan],\n",
       "       [           nan,            nan],\n",
       "       [           nan,            nan],\n",
       "       [           nan,            nan],\n",
       "       [           nan,            nan],\n",
       "       [           nan,            nan],\n",
       "       [           nan,            nan],\n",
       "       [           nan,            nan],\n",
       "       [           nan,            nan],\n",
       "       [           nan,            nan],\n",
       "       [           nan,            nan],\n",
       "       [           nan,            nan],\n",
       "       [           nan,            nan],\n",
       "       [           nan,            nan],\n",
       "       [           nan,            nan],\n",
       "       [           nan,            nan],\n",
       "       [           nan,            nan],\n",
       "       [           nan,            nan],\n",
       "       [           nan,            nan],\n",
       "       [           nan,            nan],\n",
       "       [           nan,            nan],\n",
       "       [           nan,            nan],\n",
       "       [           nan,            nan],\n",
       "       [           nan,            nan],\n",
       "       [           nan,            nan],\n",
       "       [           nan,            nan],\n",
       "       [           nan,            nan],\n",
       "       [           nan,            nan],\n",
       "       [           nan,            nan],\n",
       "       [           nan,            nan],\n",
       "       [           nan,            nan],\n",
       "       [           nan,            nan],\n",
       "       [           nan,            nan],\n",
       "       [           nan,            nan],\n",
       "       [           nan,            nan],\n",
       "       [           nan,            nan],\n",
       "       [           nan,            nan],\n",
       "       [           nan,            nan],\n",
       "       [           nan,            nan],\n",
       "       [           nan,            nan],\n",
       "       [           nan,            nan],\n",
       "       [           nan,            nan],\n",
       "       [           nan,            nan],\n",
       "       [           nan,            nan],\n",
       "       [           nan,            nan],\n",
       "       [           nan,            nan],\n",
       "       [           nan,            nan],\n",
       "       [           nan,            nan],\n",
       "       [           nan,            nan],\n",
       "       [           nan,            nan],\n",
       "       [           nan,            nan],\n",
       "       [           nan,            nan],\n",
       "       [           nan,            nan],\n",
       "       [           nan,            nan],\n",
       "       [           nan,            nan],\n",
       "       [           nan,            nan],\n",
       "       [           nan,            nan],\n",
       "       [           nan,            nan],\n",
       "       [           nan,            nan],\n",
       "       [           nan,            nan],\n",
       "       [           nan,            nan],\n",
       "       [           nan,            nan],\n",
       "       [           nan,            nan],\n",
       "       [           nan,            nan],\n",
       "       [           nan,            nan]])"
      ]
     },
     "execution_count": 4,
     "metadata": {},
     "output_type": "execute_result"
    }
   ],
   "source": [
    "\n",
    "params = {\"alpha\" : 3, \"epsilon\" : 0.7, # epsilon from peters book\n",
    "          \"norm_const\" : norm_const, \"meta_prop\" : 0.1, \"meta_exp\" : 1,\n",
    "          \"c\" : 0.1, \"rho\" : 0,\n",
    "          \"Xr\" : 1, \"amp\" : 0.5, \"period\" : 365, \"dimensionality\" : \"2D\"}\n",
    "# Parameters\n",
    "m0 = 0.1\n",
    "R0 = 0\n",
    "time = 100\n",
    "\n",
    "F.plot_supply(m0, R0, time, params)\n"
   ]
  },
  {
   "cell_type": "code",
   "execution_count": 5,
   "metadata": {},
   "outputs": [
    {
     "data": {
      "text/plain": [
       "Text(0.5, 0, 'time')"
      ]
     },
     "execution_count": 5,
     "metadata": {},
     "output_type": "execute_result"
    },
    {
     "data": {
      "image/png": "[encoded data removed]",
      "text/plain": [
       "<Figure size 432x288 with 1 Axes>"
      ]
     },
     "metadata": {},
     "output_type": "display_data"
    }
   ],
   "source": [
    "amount = 10**3\n",
    "t = arange(0,amount, 1)\n",
    "mass = arange(0.1, amount, 1)\n",
    "peters = 0.14*mass**0.751\n",
    "peters_specific = 0.14*mass**-0.249\n",
    "plt.plot(t, peters, label=\"Peters cost\")\n",
    "plt.plot(t, peters_specific, label = \"peters 'mass specific' cost\")\n",
    "plt.plot(t, F.metabolic_cost(mass), label=\"Current metabolic cost function\")\n",
    "plt.plot(params[\"epsilon\"] * F.Fun_Resp(mass, Xr=params[\"Xr\"], dimensionality=\"2D\")*24*60*60, \n",
    "         label=\"Functional Response\")\n",
    "plt.legend()\n",
    "plt.xlabel(\"time\")"
   ]
  },
  {
   "cell_type": "code",
   "execution_count": null,
   "metadata": {},
   "outputs": [],
   "source": []
  }
 ],
 "metadata": {
  "kernelspec": {
   "display_name": "Python 3",
   "language": "python",
   "name": "python3"
  },
  "language_info": {
   "codemirror_mode": {
    "name": "ipython",
    "version": 3
   },
   "file_extension": ".py",
   "mimetype": "text/x-python",
   "name": "python",
   "nbconvert_exporter": "python",
   "pygments_lexer": "ipython3",
   "version": "3.8.2"
  },
  "toc": {
   "base_numbering": 1,
   "nav_menu": {},
   "number_sections": true,
   "sideBar": true,
   "skip_h1_title": false,
   "title_cell": "Table of Contents",
   "title_sidebar": "Contents",
   "toc_cell": true,
   "toc_position": {},
   "toc_section_display": true,
   "toc_window_display": false
  },
  "varInspector": {
   "cols": {
    "lenName": 16,
    "lenType": 16,
    "lenVar": 40
   },
   "kernels_config": {
    "python": {
     "delete_cmd_postfix": "",
     "delete_cmd_prefix": "del ",
     "library": "var_list.py",
     "varRefreshCmd": "print(var_dic_list())"
    },
    "r": {
     "delete_cmd_postfix": ") ",
     "delete_cmd_prefix": "rm(",
     "library": "var_list.r",
     "varRefreshCmd": "cat(var_dic_list()) "
    }
   },
   "types_to_exclude": [
    "module",
    "function",
    "builtin_function_or_method",
    "instance",
    "_Feature"
   ],
   "window_display": false
  }
 },
 "nbformat": 4,
 "nbformat_minor": 4
}
