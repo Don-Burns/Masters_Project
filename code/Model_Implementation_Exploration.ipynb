{
 "cells": [
  {
   "cell_type": "markdown",
   "metadata": {},
   "source": [
    "# Exploration of Models \n",
    "This notebook aims to explore the models that used to construct the model used as the basis for this project. "
   ]
  },
  {
   "cell_type": "markdown",
   "metadata": {},
   "source": [
    "## Models from Luke Vassor's 2019 Project\n",
    "looking at models in the SI of the report\n",
    "\n"
   ]
  },
  {
   "cell_type": "markdown",
   "metadata": {},
   "source": [
    "## West et al. 2001\n",
    "West et al 2001\n",
    "\n",
    "the rate of energy transformation is the sum of two terms, one of which represents the maintenance of existing tissue, and the other, the creation of new tissue. This is expressed by the conservation of energy equation:\n",
    "\n",
    "* $B = \\sum [N_c B_c + E_c \\frac{dN_c}{ dt}]$\n",
    "    - where:\n",
    "        \n",
    "        $B$ = average resting metabolic rate of the organism at time $t$\n",
    "        \n",
    "        $B_c$ = metabolic rate of a single cell\n",
    "        \n",
    "        $E_c$ = metabolic energy required to create a cell\n",
    "        \n",
    "        $N_c$ = the total number of cells \n",
    "\n",
    "        **the sum is over all types of tissue**\n",
    "<p>&nbsp;</p>\n",
    "    - $N_c B_c$, is the power needed to sustain the organism in all of its activities\n",
    "    - $E_c \\frac{dN_c}{ dt}$ is the power allocated to production of new cells\n",
    "    - $E_c, B_c$, and the mass of a cell, $m_c$,are assumed to be independent of $m$ remaining constant throughout growth and development.\n",
    "    - At any time $t$ the total body mass $m = m_c N_c$\n",
    "\n",
    "\n"
   ]
  },
  {
   "cell_type": "markdown",
   "metadata": {},
   "source": [
    "### Change in mass dm/dt\n",
    "\n",
    "At a given point in time:\n",
    "\\begin{align}\n",
    "B &= N_c B_c + E_c \\frac{dN_c}{ dt}\\\\\n",
    "\\text{}\\\\\n",
    "\\text{Rearrange to get:}\\\\\n",
    "\\frac{dN_c}{ dt} &= \\frac{B - N_c B_c}{E_c}\\\\\n",
    "\\text{}\\\\\n",
    "\\text{Substitute: }  m &= N_c m_c\\\\\n",
    "\\frac{dm}{dt} &= \\frac{B m_c - N_c m_c B_c}{E_c}\\\\\n",
    "\\frac{dm}{dt} &= \\frac{B m_c}{E_c} - \\frac{m B_c}{E_c}\\\\\n",
    "\\frac{dm}{dt} &= (\\frac{m_c}{E_c})B - (\\frac{B_c}{E_c})m\\\\\n",
    "\\frac{dm}{dt} &= (\\frac{m_c}{E_c})B - (\\frac{B_c}{E_c})m\\\\\n",
    "\\text{}\\\\\n",
    "\\text{Note: } B &= B_0 m ^\\frac{3}{4}\\\\\n",
    "\\text{Therefore:}\\\\\n",
    "\\frac{dm}{dt} &= (\\frac{m_c}{E_c})B_0 m ^\\frac{3}{4} - (\\frac{B_c}{E_c})m\\\\\n",
    "\\text{}\\\\\n",
    "\\text{Substitute:}\\\\\n",
    "a \\equiv \\frac{B_0 m_c}{E_c} & \\ \\ \\ \\ b \\equiv \\frac{B_c}{E_c}\\\\\n",
    "\\frac{dm}{dt} &= am^\\frac{3}{4} - bm\n",
    "\\end{align}\n",
    "\n",
    "- $a$ = growth rate\n",
    "- $b$ = maintenace cost per cell\n",
    "\n",
    "\n",
    "\n",
    "\n",
    "\n"
   ]
  },
  {
   "cell_type": "markdown",
   "metadata": {},
   "source": [
    "### Calculation of $a$\n",
    "$a$ is the rate at which an organism is expected to grow in $g^\\frac{1}{4} / day$\n",
    "\n",
    "- $a = \\frac {B_0 m_c}{E_c}$ \n",
    "    - where:\n",
    "        $B_0$ = A constant for a given taxon, here the value for poikilotherms used, see Luke's report for more detail and refs. West et al. 2001 originally used homeotherm value.\n",
    "        - $m_c$ = mass of a single cell\n",
    "        - $E_c$ = energy needed to create a cell *in viro* (in viruses? in vitro mispelt twice?)\n",
    "\n",
    "\\begin{align}\n",
    "a &= \\frac {B_0 m_c}{E_c}\\\\\n",
    "a &= \\frac {(1.410^-1 W)(3\\cdot10^-9 g)}{1.69 \\cdot10^-5 J}\\\\\n",
    "a &= 2.4867 \\cdot10^-5 g/s\\\\\n",
    "\\end{align}\n",
    "##### convert from seconds to days\n",
    "$$\n",
    "2.4867 \\cdot10^-5 \\ \\ g/s \\cdot24 \\cdot60 \\cdot60\n",
    "$$\n",
    "\n",
    "$$\n",
    "a = 2.1485 \\ \\ g^\\frac{1}{4}/day \n",
    "$$\n"
   ]
  },
  {
   "cell_type": "code",
   "execution_count": 1,
   "metadata": {},
   "outputs": [
    {
     "name": "stdout",
     "output_type": "stream",
     "text": [
      "The mean wet weight from the data: 5634.80182857\n"
     ]
    }
   ],
   "source": [
    "# load in data for the average energy of a fish cell from Lucas' SI data \n",
    "    #(Cummins & Wuycheck, 1971; Steimle& Russell, 1980; Hartman & Brandt, 1995)\n",
    "import pandas as pd\n",
    "import scipy as sc \n",
    "fish = pd.read_csv(\"../data/test_data_lukeSI.csv\")\n",
    "Et = sc.mean(fish[\"Wet weight KJ/g\"]) * 1000 # convert from KJ/g -> J/g\n",
    "print(\"The mean wet weight from the data: \" + str(Et))\n"
   ]
  },
  {
   "cell_type": "code",
   "execution_count": 2,
   "metadata": {
    "scrolled": true
   },
   "outputs": [
    {
     "name": "stdout",
     "output_type": "stream",
     "text": [
      "Ec is equal to: 1.69044054857e-05\n",
      "a is equal to: 2.14665934455\n"
     ]
    }
   ],
   "source": [
    "B0 = 1.4 * 10**-1 # taxon constant (poikilotherms)\n",
    "mc = 3 * 10**-9 # mass of a cell\n",
    "Ec  = Et * mc # Energy content of a poikilotherm cell * \n",
    "print(\"Ec is equal to: \" + str(Ec))\n",
    "a = (B0 * mc) / Ec\n",
    "\n",
    "#### Convert from g^1/4 s^-1 to g^1/4 d^-1 ####\n",
    "a = a * 60 * 60 * 24 #  * seconds * minutes *hours\n",
    "print(\"a is equal to: \" + str(a))"
   ]
  },
  {
   "cell_type": "code",
   "execution_count": 3,
   "metadata": {},
   "outputs": [
    {
     "data": {
      "text/plain": [
       "2.1466593445517237"
      ]
     },
     "execution_count": 3,
     "metadata": {},
     "output_type": "execute_result"
    }
   ],
   "source": [
    "def calc_a(B0, mc, Et):\n",
    "    Ec = Et * mc\n",
    "    a = (B0 * mc) / Ec # calculated in seconds; g^1/4 s^-1\n",
    "    #convert to days\n",
    "    a = a * 60 * 60 * 24 #  * seconds * minutes *hours \n",
    "    return a\n",
    "calc_a(B0, mc, Et)"
   ]
  },
  {
   "cell_type": "markdown",
   "metadata": {},
   "source": [
    "### Calculation of $b$\n",
    " Defined as $\\frac{B_c}{E_c}$ i.e. $\\frac{\\text{metabolic cost of single cell}}{\\text{Energy needed to create new cell}}$\n",
    " - $E_c = E_t \\cdot m_c$ - $E_t$ is calculated the same as in $a$ calculation above.\n",
    "\n",
    "- can $b$ be back calculated given $M$ (asymptotic mass)?\n",
    "    - $b = \\frac{a}{M^\\frac{1}{4}}$\n",
    "    - (see West Equation In terms of asymptotic size $M$ section for details \n",
    "- above results in:\n",
    "    - \\begin{align}\n",
    "            \\frac{dm}{dt} &= am^\\frac{3}{4}[1 - (\\frac{m}{M})^\\frac{1}{4}] \\\\\n",
    "        \\end{align}\n",
    "    - see original West et al. 2001 eq. 4\n"
   ]
  },
  {
   "cell_type": "code",
   "execution_count": 4,
   "metadata": {},
   "outputs": [],
   "source": [
    "def no_rep_dmdt(m, M, a=2.15):\n",
    "    \n",
    "    \"\"\"  \n",
    "    Equation for West et al's 2001 model without incorperating reproduction,\n",
    "    equation rearranged based on asymtotic growth.\n",
    "        \n",
    "    Arguments:\n",
    "        m {float} -- mass (g)\n",
    "        M {float} -- asymptotic mass (g)\n",
    "        a {float} -- growth rate g^1/4 d^-1\n",
    "\n",
    "    Returns:\n",
    "        {float} -- rate of change of mass in grams^1/4 per day (g^1/4 d^-1)\n",
    "    \"\"\"\n",
    "    \n",
    "    dmdt = a * m**(3/4) * (1 - (m/M)^1.4)\n",
    "    return dmdt\n"
   ]
  },
  {
   "cell_type": "markdown",
   "metadata": {},
   "source": [
    "###  Testing West et al 2001 Equation \n",
    "**This Model does not include reproduction**\n",
    "\n",
    "The equation:\n",
    "$$\n",
    "(\\frac{m}{M})^\\frac{1}{4} = 1 - [1 - (\\frac{m_0}{M})^\\frac{1}{4}]e^{-at/4M^\\frac{1}{4}}\n",
    "$$\n",
    "Variables:\n",
    "-  $m$ = mass\n",
    "-  $M$ = asymptotic mass\n",
    "-  $m_0$ = mass at birth\n",
    "-  $a$ = growth rate\n",
    "-  $t$ = time"
   ]
  },
  {
   "cell_type": "markdown",
   "metadata": {},
   "source": [
    "#### Rearranging for $m$\n",
    "\n",
    "\n",
    "\n",
    "\n",
    "\n",
    "\n"
   ]
  },
  {
   "cell_type": "code",
   "execution_count": 5,
   "metadata": {},
   "outputs": [],
   "source": [
    "######## commented out as it messes up the rest of the notebook output #######\n",
    "## imports##\n",
    "# from sympy import init_printing, simplify, latex\n",
    "# init_printing()\n",
    "# from scipy import exp as exp\n",
    "# import matplotlib.pyplot as plt\n",
    "\n",
    "# ### body ####\n",
    "# M, m0, a, t = var('M, m0, a, t')\n",
    "# (1 - ((1 - (m0/M)**(1/4)) * E**((-a*t)/(4*M**(1/4)))))\n",
    "# # the original right hand side of the function as in west et al.\n",
    "# rhs = 1 - ((1 - (m0/M)**(1/4)) * E**((-a*t)/(4*M**(1/4))))\n",
    "# m = (M**(1/4) * (1 - ((1 - (m0/M)**(1/4)) * E**((-a*t)/(4*M**(1/4))))))**4\n",
    "# print(latex(m))\n",
    "\n",
    "# print(latex(simplify(m)))\n",
    "# simplify(m)\n",
    "# init_printing(pretty_print=False) # turn off sympy printing"
   ]
  },
  {
   "cell_type": "markdown",
   "metadata": {},
   "source": [
    "**output of above code**\n",
    "\\begin{align}\n",
    "m &= M^{1.0} \\left(- \\left(- \\left(\\frac{m_{0}}{M}\\right)^{0.25} + 1\\right) e^{- \\frac{a t}{4 M^{0.25}}} + 1\\right)^{4}\\\\\n",
    "\\text{Simplified}\\\\\n",
    "m &= M^{1.0} \\left(- \\left(\\frac{m_{0}}{M}\\right)^{0.25} - e^{\\frac{a t}{4 M^{0.25}}} + 1\\right)^{4} e^{- \\frac{a t}{M^{0.25}}}\\\\\n",
    "\\end{align}"
   ]
  },
  {
   "cell_type": "code",
   "execution_count": 6,
   "metadata": {},
   "outputs": [],
   "source": [
    "from scipy import exp as exp\n",
    "import matplotlib.pyplot as plt\n",
    "def west(M, m0, t, a = 2.15):\n",
    "    \"\"\"\n",
    "    test of the intergrated equation from west et al 2001. \n",
    "    for predicting change in mass over time\n",
    "        Arguments:\n",
    "        m0 {float} -- mass at start of times step (g)\n",
    "        M {float} -- asymptotic mass (g)\n",
    "        a {float} -- growth rate g^1/4 d^-1\n",
    "\n",
    "    Returns:\n",
    "        {float} -- rate of change of mass in grams^1/4 per day (g^1/4 d^-1)\n",
    "    \"\"\"\n",
    "       \n",
    "    m = (M**(1/4) * (1 - ((1 - (m0/M)**(1/4)) * exp((-a*t)/(4*M**(1/4))))))**4\n",
    "    return m"
   ]
  },
  {
   "cell_type": "markdown",
   "metadata": {},
   "source": [
    "Test the function\n",
    "![table 1 from west et al.](notebook_images/west_2001.png)\n"
   ]
  },
  {
   "cell_type": "code",
   "execution_count": 7,
   "metadata": {},
   "outputs": [
    {
     "data": {
      "text/plain": [
       "Text(0.5, 0, 'Time')"
      ]
     },
     "execution_count": 7,
     "metadata": {},
     "output_type": "execute_result"
    },
    {
     "data": {
      "image/png": "[encoded data removed]",
      "text/plain": [
       "<Figure size 432x288 with 1 Axes>"
      ]
     },
     "metadata": {
      "needs_background": "light"
     },
     "output_type": "display_data"
    }
   ],
   "source": [
    "# numbers for  taken from west et al. 2001 table 1. for salmon(above)\n",
    "results = []\n",
    "time = list(range(1,10000))\n",
    "for t in time:\n",
    "    # should i be concrened with grams vs kg or is it scaled, would need to look\n",
    "    results.append(west(M = 2400, m0 = .1, t=t, a=.026))\n",
    "    \n",
    "results\n",
    "plt.figure()\n",
    "plt.plot(time, results)\n",
    "plt.ylabel(\"Mass\")\n",
    "plt.xlabel(\"Time\")\n",
    "    \n",
    "    "
   ]
  },
  {
   "cell_type": "code",
   "execution_count": null,
   "metadata": {},
   "outputs": [],
   "source": []
  },
  {
   "cell_type": "markdown",
   "metadata": {},
   "source": [
    "## Introducing Reproduction\n",
    "Revised from Charnov et al 2001\n",
    "\n",
    "- $\\alpha$ = age of maturity\n",
    "- $m_\\alpha$ = size at maturity\n",
    "- $a$ = growth rate\n",
    "- $b$ = maintenace cost per cell\n",
    "- $c$ = reproduction cost per cell\n",
    "<p>&nbsp;</p>\n",
    "\n",
    "Before reproduction is factored in:\n",
    "<p>&nbsp;</p> \n",
    "\\begin{align}\n",
    "        \\frac{dm}{dt} &= am^\\frac{3}{4} - bm  &m < m_\\alpha \\\\\n",
    "        \\frac{dm}{dt} &= am^\\frac{3}{4} - bm - cm  &m > m_\\alpha \\\\\n",
    "        \\frac{dm}{dt} &= am^\\frac{3}{4} - (b + c)m \\\\\n",
    "\\end{align}\n"
   ]
  },
  {
   "cell_type": "markdown",
   "metadata": {},
   "source": [
    "\\begin{align}\n",
    "        \\frac{dm}{dt} &= am^\\frac{3}{4} - bm  &m < m_\\alpha \\\\\n",
    "        \\frac{dm}{dt} &= am^\\frac{3}{4} - bm - cm  &m \\ge m_\\alpha \\\\\n",
    "        \\frac{dm}{dt} &= am^\\frac{3}{4} - (b + c)m \\\\\n",
    "\\end{align}"
   ]
  },
  {
   "cell_type": "markdown",
   "metadata": {},
   "source": [
    "**Note** That in the Chernov et al. 2001 paper:\n",
    "- $m^2$ = largest size without reproduction\n",
    "- $m_\\alpha$ = largest size with reproduction, i.e. with $c$"
   ]
  },
  {
   "cell_type": "markdown",
   "metadata": {},
   "source": [
    "#### Just reading in  from Luke's table:\n",
    "NOTES:\n",
    "- assuming that $M$ = $m_\\alpha$ for the time being."
   ]
  },
  {
   "cell_type": "code",
   "execution_count": 8,
   "metadata": {},
   "outputs": [],
   "source": [
    "def rep_growth(m, m_alpha = 10000, a = 2.15, c = 0.17, rho = 0.06): \n",
    "    \"\"\"\n",
    "    test of the intergrated equation from west et al 2001. \n",
    "    for predicting change in mass over time. default weights are in grams and times in days\n",
    "    NOTE: assuming that M = m_alpha\n",
    "    \"\"\"\n",
    "    dmdt = \"NA\"\n",
    "    M = m_alpha\n",
    "    b = a/(M**0.25)\n",
    "    if m < 0:\n",
    "        return \"ERROR: m < 0\"\n",
    "    if m < m_alpha:\n",
    "        dmdt = (a * (m**0.75)) - (b * m) - (c * (m**rho))\n",
    "    elif m >= m_alpha:\n",
    "        dmdt = (a * (m**0.75)) - (b * m) - (c * (m**rho))\n",
    "\n",
    "    return dmdt"
   ]
  },
  {
   "cell_type": "markdown",
   "metadata": {},
   "source": [
    "try the same as above function but with t as the input"
   ]
  },
  {
   "cell_type": "code",
   "execution_count": 9,
   "metadata": {},
   "outputs": [],
   "source": [
    "def rep_growth_t(t, alpha, m, M = 10000, a = 2.15, c = 0.17, rho = 0.06): \n",
    "    \"\"\"\n",
    "    test of the intergrated equation from west et al 2001. \n",
    "    for predicting change in mass over time. default weights are in grams and times in days\n",
    "    \"\"\"\n",
    "    dmdt = \"NA\"\n",
    "    b = a/(M**0.25)\n",
    "    if t < 0:\n",
    "        return \"ERROR: t < 0\"\n",
    "    if t < alpha:\n",
    "        dmdt = (a * (m**0.75)) - (b * m) - (c * (m**rho))\n",
    "    elif t >= alpha:\n",
    "        dmdt = (a * (m**0.75)) - (b * m) - (c * (m**rho))\n",
    "\n",
    "\n",
    "    return dmdt"
   ]
  },
  {
   "cell_type": "markdown",
   "metadata": {},
   "source": [
    "##### Looking at how dm/dt changes with mass"
   ]
  },
  {
   "cell_type": "code",
   "execution_count": 10,
   "metadata": {
    "scrolled": true
   },
   "outputs": [
    {
     "data": {
      "text/plain": [
       "Text(0.5, 0, 'Mass')"
      ]
     },
     "execution_count": 10,
     "metadata": {},
     "output_type": "execute_result"
    },
    {
     "data": {
      "image/png": "[encoded data removed]",
      "text/plain": [
       "<Figure size 432x288 with 1 Axes>"
      ]
     },
     "metadata": {
      "needs_background": "light"
     },
     "output_type": "display_data"
    }
   ],
   "source": [
    "m = list(range(0,11000))\n",
    "results = []\n",
    "for i in m:\n",
    "    results.append(rep_growth(i))\n",
    "                   \n",
    "plt.figure()\n",
    "plt.plot(m, results)\n",
    "plt.ylabel(\"dm/dt\")\n",
    "plt.xlabel(\"Mass\")\n",
    "\n"
   ]
  },
  {
   "cell_type": "markdown",
   "metadata": {},
   "source": [
    "##### Trying to understand the implimentation of the equation in code"
   ]
  },
  {
   "cell_type": "code",
   "execution_count": 11,
   "metadata": {
    "scrolled": true
   },
   "outputs": [
    {
     "ename": "TypeError",
     "evalue": "can't multiply sequence by non-int of type 'float'",
     "output_type": "error",
     "traceback": [
      "\u001b[0;31m---------------------------------------------------------------------------\u001b[0m",
      "\u001b[0;31mTypeError\u001b[0m                                 Traceback (most recent call last)",
      "\u001b[0;32m<ipython-input-11-00bffa6c9a84>\u001b[0m in \u001b[0;36m<module>\u001b[0;34m\u001b[0m\n\u001b[1;32m      8\u001b[0m \u001b[0;32mfor\u001b[0m \u001b[0mi\u001b[0m \u001b[0;32min\u001b[0m \u001b[0mrange\u001b[0m\u001b[0;34m(\u001b[0m\u001b[0;36m1\u001b[0m\u001b[0;34m,\u001b[0m \u001b[0mreps\u001b[0m\u001b[0;34m)\u001b[0m\u001b[0;34m:\u001b[0m\u001b[0;34m\u001b[0m\u001b[0;34m\u001b[0m\u001b[0m\n\u001b[1;32m      9\u001b[0m     \u001b[0mm_vals\u001b[0m\u001b[0;34m.\u001b[0m\u001b[0mappend\u001b[0m\u001b[0;34m(\u001b[0m\u001b[0mrep_growth\u001b[0m\u001b[0;34m(\u001b[0m\u001b[0mm\u001b[0m\u001b[0;34m[\u001b[0m\u001b[0mi\u001b[0m\u001b[0;34m-\u001b[0m\u001b[0;36m1\u001b[0m\u001b[0;34m]\u001b[0m\u001b[0;34m)\u001b[0m\u001b[0;34m)\u001b[0m\u001b[0;34m\u001b[0m\u001b[0;34m\u001b[0m\u001b[0m\n\u001b[0;32m---> 10\u001b[0;31m     \u001b[0mm\u001b[0m\u001b[0;34m[\u001b[0m\u001b[0mi\u001b[0m\u001b[0;34m]\u001b[0m \u001b[0;34m=\u001b[0m \u001b[0mm\u001b[0m\u001b[0;34m[\u001b[0m\u001b[0mi\u001b[0m\u001b[0;34m-\u001b[0m\u001b[0;36m1\u001b[0m\u001b[0;34m]\u001b[0m\u001b[0;34m*\u001b[0m\u001b[0mrep_growth\u001b[0m\u001b[0;34m(\u001b[0m\u001b[0mm\u001b[0m\u001b[0;34m[\u001b[0m\u001b[0mi\u001b[0m\u001b[0;34m-\u001b[0m\u001b[0;36m1\u001b[0m\u001b[0;34m]\u001b[0m\u001b[0;34m)\u001b[0m\u001b[0;34m\u001b[0m\u001b[0;34m\u001b[0m\u001b[0m\n\u001b[0m\u001b[1;32m     11\u001b[0m \u001b[0;34m\u001b[0m\u001b[0m\n\u001b[1;32m     12\u001b[0m \u001b[0;34m\u001b[0m\u001b[0m\n",
      "\u001b[0;31mTypeError\u001b[0m: can't multiply sequence by non-int of type 'float'"
     ]
    }
   ],
   "source": [
    "\n",
    "test = rep_growth(.1) *.1\n",
    "reps = 1000\n",
    "t = list(range(reps))\n",
    "m0 = 0.1\n",
    "m = list(range(reps))\n",
    "m[0] = m0\n",
    "m_vals = []\n",
    "for i in range(1, reps):\n",
    "    m_vals.append(rep_growth(m[i-1]))\n",
    "    m[i] = m[i-1]*rep_growth(m[i-1])\n",
    "\n",
    "                   \n",
    "plt.figure()\n",
    "plt.plot(t, m)\n",
    "plt.ylabel(\"Mass\")\n",
    "plt.xlabel(\"Time\")\n"
   ]
  },
  {
   "cell_type": "code",
   "execution_count": null,
   "metadata": {},
   "outputs": [],
   "source": [
    "_ih[-5:]"
   ]
  },
  {
   "cell_type": "markdown",
   "metadata": {},
   "source": [
    "### West Equation In terms of asymptotic size $M$, i.e. $\\frac{dm}{dt} = 0$\n",
    "\n",
    "\\begin{align}\n",
    "    aM ^\\frac{3}{4} - (b+c)M &= 0\\hspace{6cm}\\\\\n",
    "    aM ^\\frac{3}{4} &= (b+c)M\\\\\n",
    "    \\frac{aM ^\\frac{3}{4}}{M} &= b+c\\\\\n",
    "    aM^\\frac{-1}{4} &= b+c\\\\\n",
    "    \\frac{a}{M\\frac{1}{4}} &= \\frac{a}{b+c}\\\\\n",
    "    M &= [\\frac{a}{b+c}]^4\\\\ \n",
    "\\end{align}\n",
    "    "
   ]
  },
  {
   "cell_type": "markdown",
   "metadata": {},
   "source": [
    "**Note** That in the Chernov et al. 2001 paper:\n",
    "- $m^2$ = largest size without reproduction\n",
    "    - here the derivation / rearrangement is the same only without $c$ in the denominator\n",
    "- $m_\\alpha$ = largest size with reproduction, i.e. with $c$\n",
    "    \n"
   ]
  },
  {
   "cell_type": "markdown",
   "metadata": {},
   "source": [
    "## Model Code"
   ]
  },
  {
   "cell_type": "markdown",
   "metadata": {},
   "source": [
    "### West Model with Reproduction"
   ]
  },
  {
   "cell_type": "code",
   "execution_count": null,
   "metadata": {},
   "outputs": [],
   "source": [
    "def west(m, m_alpha, b, c, a = 2.15, rho = 0.85):\n",
    "    \"\"\"  \n",
    "    Equation for West et al's 2001 model incorperating reproductive cost \n",
    "    as in Charnov et al. 2001.\n",
    "        \n",
    "    Arguments:\n",
    "        m {float} -- mass (g)\n",
    "        a {float} -- growth rate g^1/4 d^-1\n",
    "        b {float} -- maintenace cost of single cell\n",
    "        c {float} -- reproductive cost of single cell\n",
    "        m_alpha {float} -- size a maturity\n",
    "        rho {float} -- ?????????????????????????????????????????????? ######## fix!!!\n",
    "    \n",
    "    Returns:\n",
    "        {float} -- rate of change of mass in grams^1/4 per day (g^1/4 d^-1)\n",
    "    \"\"\"\n",
    "    if m < m_alpha:\n",
    "        dmdt = (a * m**(3/4)) - (b * m)\n",
    "    if m >= m_alpha:\n",
    "        dmdt = (a * m**(3/4)) - (b * m)  -(c * m**rho)\n",
    "    return dmdt"
   ]
  },
  {
   "cell_type": "code",
   "execution_count": null,
   "metadata": {},
   "outputs": [],
   "source": []
  },
  {
   "cell_type": "code",
   "execution_count": null,
   "metadata": {},
   "outputs": [],
   "source": []
  },
  {
   "cell_type": "code",
   "execution_count": null,
   "metadata": {},
   "outputs": [],
   "source": []
  },
  {
   "cell_type": "markdown",
   "metadata": {},
   "source": [
    "## Lifetime Reproduction\n",
    "### Base Equation \n",
    "#### Variable Meanings\n",
    "- $R_0$ = Lifetime production of offspring\n",
    "- $cm$ = Reproductive allocation\n",
    "- $m$ =  mass\n",
    "- $\\rho$ = \n",
    "- $h(t)$ =\n",
    "- $l_t$ = Probability of survival\n",
    "- $L_t$ = \n",
    "- $\\alpha$ = feasible ages of first breeding \n",
    "\\begin{align}\n",
    "    R_0 &= \\int_\\alpha^\\infty cm^\\rho h_tl_tdt\\\\\n",
    "\\end{align}\n",
    "\n",
    "### Derived Equation\n",
    "#### Variable Meanings\n",
    "- $L_\\alpha$ = \n",
    "- $Z$ = \n",
    "- $\\kappa$ =\n",
    "\\begin{align}\n",
    "    R_0 &= \\int_\\alpha^\\infty cm^\\rho h_tl_tdt\\\\\n",
    "    &= \\int_\\alpha^\\infty cm^\\rho (t)^\\rho e^{-\\kappa(t-\\alpha)} L_\\alpha e^{Z(t-\\alpha)}dt\\\\\n",
    "    &= L_\\alpha \\int_\\alpha^\\infty cm^\\rho (t)^\\rho e^{-\\kappa(t-\\alpha)} e^{Z(t-\\alpha)}dt\\\\\n",
    "        &= cL_\\alpha \\int_\\alpha^\\infty m^\\rho (t)^\\rho e^{-(\\kappa Z)(t-\\alpha)}dt\\\\\n",
    "    &= c\\int_\\alpha^\\infty e^{-Z(t)} dt  \\int_\\alpha^\\infty m(t)^\\rho e^{-(\\kappa +Z)(t-\\alpha)}dt\\\\\n",
    "\\end{align}\n",
    "\n",
    "Questions:\n",
    "- how do you define $Z(t)$?\n",
    "\n",
    "\n",
    "\n",
    "\n",
    "\n",
    "\n"
   ]
  },
  {
   "cell_type": "markdown",
   "metadata": {},
   "source": [
    "### Lifetime Reproduction Code"
   ]
  },
  {
   "cell_type": "code",
   "execution_count": null,
   "metadata": {},
   "outputs": [],
   "source": [
    "def LifeReproduction(c, mt, Z, Zt, kappa, alpha, t, rho):\n",
    "    \"\"\"\n",
    "        Calculates lifetime reproductive output of an organism, \n",
    "        as described in Charnov et al. 2001.\n",
    "\n",
    "        Arguments:\n",
    "            c {float} -- \n",
    "            mt {float} -- \n",
    "            Z {float} --  \n",
    "            Zt {float} --  \n",
    "            kappa {float} -- \n",
    "            alpha {float} --\n",
    "            t {float} --\n",
    "            rho {float} -- \n",
    "\n",
    "        Returns:\n",
    "            {float} -- lifetime reproductive output\n",
    "    \"\"\"\n",
    "    \n",
    "    \n",
    "    \n",
    "    \n",
    "    \n",
    "    \n",
    "    \n",
    "    \n",
    "    "
   ]
  },
  {
   "cell_type": "markdown",
   "metadata": {},
   "source": [
    "# Notes\n",
    "## Charnov et al 2001\n",
    "-  the model is designed for indeterminate growers \n",
    "    - i.e. fish and reptiles\n",
    "        - lizards weakly supported the model and snakes did not\n",
    "        - determinate growers; birds, mammals and insects can't be used wiht the model\n",
    "- $\\frac{c}{b} = q $ and is fixed? \n",
    "- given $\\frac{\\alpha}{E} = 2$\n",
    "    - $cE \\approx 0.6$ \n",
    "    - $q \\approx 3-5$\n",
    "    - $bE \\approx 0.15$\n",
    "    \n",
    "- $cm$ is optimised with respect to $Z$, but a shorter life span ($Z$) leads to a higher per time investment into reproduction, i.e. higher $cm$\n",
    "- $\\frac{1}{Z}$ = average adult lifespan\n",
    "- $\\frac{c}{Z} \\approx 0.6$ --> lifetime reproductive output \n",
    "    - this is a reorganisation of $cE$ because $E = \\frac{1}{Z}$\n",
    "        - $cE$ is derived from $ \\frac{bq}{Z}$?\n",
    "- \"a female fish expends a mass equal to about 60% of her average adult body mass per lifetime of reproduction (Fig. 4). This number (0.6) is very low when compared with, say, altricial birds, where a typical female rears about five daughters over a lifetime, each fed to adult size, so that $cE \\approx 5$. One wonders why birds are almost 10 times more productive by this measure (flight? endothermy? habitat productivity?).\" - page 4"
   ]
  },
  {
   "cell_type": "markdown",
   "metadata": {},
   "source": [
    "## Looking at $R_0$\n",
    "\\begin{align}\n",
    "    R_0 &= \\int_\\alpha^\\infty cm^\\rho h_tl_tdt\\\\\n",
    "    &and\\\\\n",
    "    \\frac{dm}{dt} &= am^\\frac{3}{4} - bm - cm^\\rho  &m \\ge m_\\alpha \\\\\n",
    "\\end{align}\n",
    "\n",
    "- from Charnov et al 2007 \n",
    "    - The optimal size at first reproduction ($m_\\alpha$) will maximize $R_0$. It is found by setting $\\partial R /\\partial \\alpha = 0$."
   ]
  },
  {
   "cell_type": "markdown",
   "metadata": {},
   "source": [
    "# Papers to read\n",
    "- charnov 1990/2001 - why is the equation for juvenile suvivorship $l_t = e^{-z(t)}$ --> page 10-ish of luke's\n",
    "- Stearns, 1992 - $\\rho$? - its a book and don't have access right now. \n",
    "    "
   ]
  },
  {
   "cell_type": "markdown",
   "metadata": {},
   "source": [
    "## Questions:\n",
    "- what is $\\rho$ in:\n",
    "\\begin{align}\n",
    "    R_0 &= \\int_\\alpha^\\infty cm^\\rho h_tl_tdt\\\\\n",
    "    &and\\\\\n",
    "    \\frac{dm}{dt} &= am^\\frac{3}{4} - bm - cm^\\rho  &m \\ge m_\\alpha \\\\\n",
    "\\end{align}\n",
    "<p>&nbsp;</p> \n",
    "\n",
    "    - a means of explaining the transition in energy investment as maturity is reached?\n",
    "- Where are many of the numbers coming from / how are they calculated?\n",
    "    - b -- worked back from M?\n",
    "    - $\\rho$"
   ]
  },
  {
   "cell_type": "code",
   "execution_count": null,
   "metadata": {},
   "outputs": [],
   "source": []
  }
 ],
 "metadata": {
  "celltoolbar": "Raw Cell Format",
  "kernelspec": {
   "display_name": "Python 3",
   "language": "python",
   "name": "python3"
  },
  "language_info": {
   "codemirror_mode": {
    "name": "ipython",
    "version": 3
   },
   "file_extension": ".py",
   "mimetype": "text/x-python",
   "name": "python",
   "nbconvert_exporter": "python",
   "pygments_lexer": "ipython3",
   "version": "3.6.9"
  },
  "toc": {
   "base_numbering": 1,
   "nav_menu": {},
   "number_sections": true,
   "sideBar": true,
   "skip_h1_title": false,
   "title_cell": "Table of Contents",
   "title_sidebar": "Contents",
   "toc_cell": false,
   "toc_position": {
    "height": "1002.5px",
    "left": "203px",
    "top": "118px",
    "width": "463.25px"
   },
   "toc_section_display": true,
   "toc_window_display": true
  },
  "varInspector": {
   "cols": {
    "lenName": 16,
    "lenType": 16,
    "lenVar": 40
   },
   "kernels_config": {
    "python": {
     "delete_cmd_postfix": "",
     "delete_cmd_prefix": "del ",
     "library": "var_list.py",
     "varRefreshCmd": "print(var_dic_list())"
    },
    "r": {
     "delete_cmd_postfix": ") ",
     "delete_cmd_prefix": "rm(",
     "library": "var_list.r",
     "varRefreshCmd": "cat(var_dic_list()) "
    }
   },
   "oldHeight": 291.85,
   "position": {
    "height": "65.85px",
    "left": "1474px",
    "right": "20px",
    "top": "85px",
    "width": "315px"
   },
   "types_to_exclude": [
    "module",
    "function",
    "builtin_function_or_method",
    "instance",
    "_Feature"
   ],
   "varInspector_section_display": "block",
   "window_display": true
  }
 },
 "nbformat": 4,
 "nbformat_minor": 2
}
