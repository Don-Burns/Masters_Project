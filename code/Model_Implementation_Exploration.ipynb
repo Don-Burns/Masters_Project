{
 "cells": [
  {
   "cell_type": "markdown",
   "metadata": {},
   "source": [
    "# Exploration of Models \n",
    "This notebook aims to explore the models that used to construct the model used as the basis for this project. "
   ]
  },
  {
   "cell_type": "markdown",
   "metadata": {},
   "source": [
    "## Models from Luke Vassor's 2019 Project\n",
    "looking at models in the SI of the report\n",
    "\n"
   ]
  },
  {
   "cell_type": "markdown",
   "metadata": {},
   "source": [
    "### Equation 1\n",
    "West et al 2001\n",
    "the rate ofenergy transformation is the sum of two terms, one of which represents the maintenance of existing tissue, and the other, the creation of new tissue. This is expressed by the conservation of energy equation:\n",
    "\n",
    "* $B = \\sum [N_c B_c + E_c \\frac{dN_c}{ dt}]$\n",
    "    - where:\n",
    "        \n",
    "        $B$ = average resting metabolic rate of the organism at time $t$\n",
    "        \n",
    "        $B_c$ = metabolic rate of a single cell\n",
    "        \n",
    "        $E_c$ = metabolic energy required to create a cell\n",
    "        \n",
    "        $N_c$ = the total number of cells \n",
    "\n",
    "        **the sum is over all types of tissue**\n",
    "<p>&nbsp;</p>\n",
    "    - $N_c B_c$, is the power needed to sustain the organism in all of its activities\n",
    "    - $E_c \\frac{dN_c}{ dt}$ is the power allocated to production of new cells\n",
    "    - $E_c, B_c$, and the mass of a cell, $m_c$,are assumed to be independent of $m$ remaining constant throughout growth and development.\n",
    "    - At any time $t$ the total body mass $m = m_c N_c$\n",
    "\n",
    "\n"
   ]
  },
  {
   "cell_type": "code",
   "execution_count": 48,
   "metadata": {},
   "outputs": [],
   "source": [
    "def west(Nc, Bc, Ec):\n",
    "    \n",
    "    return 0"
   ]
  },
  {
   "cell_type": "markdown",
   "metadata": {},
   "source": [
    "## Calculation of $a$\n",
    "$a$ is the rate at which an organism is expected to grow in $g^\\frac{1}{4} / day$\n",
    "\n",
    "- $a = \\frac {B_0 m_c}{E_c}$ \n",
    "    - where:\n",
    "        $B_0$ = A constant for a given taxon, here the value for poikilotherms used, see Luke's report for more detail and refs. West et al. 2001 originally used homeotherm value.\n",
    "        - $m_c$ = mass of a single cell\n",
    "        - $E_c$ = energy needed to create a cell *in viro* (in viruses? in vitro mispelt twice?)\n",
    "\n",
    "\\begin{align}\n",
    "a &= \\frac {B_0 m_c}{E_c}\\\\\n",
    "a &= \\frac {(1.410^-1 W)(3\\cdot10^-9 g)}{1.69 \\cdot10^-5 J}\\\\\n",
    "a &= 2.4867 \\cdot10^-5 g/s\\\\\n",
    "\\end{align}\n",
    "##### convert from seconds to days\n",
    "$$\n",
    "2.4867 \\cdot10^-5 \\ \\ g/s \\cdot24 \\cdot60 \\cdot60\n",
    "$$\n",
    "\n",
    "$$\n",
    "a = 2.1485 \\ \\ g^\\frac{1}{4}/day \n",
    "$$\n"
   ]
  },
  {
   "cell_type": "code",
   "execution_count": 49,
   "metadata": {},
   "outputs": [
    {
     "name": "stdout",
     "output_type": "stream",
     "text": [
      "The mean wet weight from the data: 5634.80182857\n"
     ]
    }
   ],
   "source": [
    "# load in data for the average energy of a fish cell from Lucas' SI data \n",
    "    #(Cummins & Wuycheck, 1971; Steimle& Russell, 1980; Hartman & Brandt, 1995)\n",
    "import pandas as pd\n",
    "import scipy as sc \n",
    "fish = pd.read_csv(\"../data/test_data_lukeSI.csv\")\n",
    "Et = sc.mean(fish[\"Wet weight KJ/g\"]) * 1000 # convert from KJ/g -> J/g\n",
    "print(\"The mean wet weight from the data: \" + str(Et))\n"
   ]
  },
  {
   "cell_type": "code",
   "execution_count": 50,
   "metadata": {},
   "outputs": [
    {
     "name": "stdout",
     "output_type": "stream",
     "text": [
      "Ec is equal to: 1.69044054857e-05\n",
      "a is equal to: 2.14665934455\n"
     ]
    }
   ],
   "source": [
    "B0 = 1.4 * 10**-1 # taxon constant (poikilotherms)\n",
    "mc = 3 * 10**-9 # mass of a cell\n",
    "Ec  = Et * mc # Energy content of a poikilotherm cell * \n",
    "print(\"Ec is equal to: \" + str(Ec))\n",
    "a = (B0 * mc) / Ec\n",
    "\n",
    "#### Convert from g^1/4 s^-1 to g^1/4 d^-1 ####\n",
    "a = a * 60 * 60 * 24 #  * seconds * minutes *hours\n",
    "print(\"a is equal to: \" + str(a))"
   ]
  },
  {
   "cell_type": "markdown",
   "metadata": {},
   "source": [
    "## Introducing Reproduction\n",
    "Revised from Charnov et al 2001\n",
    "\n",
    "- $\\alpha$ = age of maturity\n",
    "- $m_\\alpha$ = size at maturity\n",
    "- $a$ = growth rate\n",
    "- $b$ = maintanace cost\n",
    "- $c$ = reproduction cost\n",
    "<p>&nbsp;</p>\n",
    "\n",
    "before reproduction is factored in:\n",
    "<p>&nbsp;</p> \n",
    "\\begin{align}\n",
    "        \\frac{dm}{dt} &= am^\\frac{3}{4} - bm  &m < m_\\alpha \\\\\n",
    "        \\frac{dm}{dt} &= am^\\frac{3}{4} - bm - cm  &m > m_\\alpha \\\\\n",
    "        \\frac{dm}{dt} &= am^\\frac{3}{4} - (b + c)m \\\\\n",
    "\\end{align}\n"
   ]
  },
  {
   "cell_type": "code",
   "execution_count": null,
   "metadata": {},
   "outputs": [],
   "source": []
  },
  {
   "cell_type": "code",
   "execution_count": null,
   "metadata": {},
   "outputs": [],
   "source": []
  },
  {
   "cell_type": "code",
   "execution_count": null,
   "metadata": {},
   "outputs": [],
   "source": []
  },
  {
   "cell_type": "code",
   "execution_count": null,
   "metadata": {},
   "outputs": [],
   "source": []
  },
  {
   "cell_type": "code",
   "execution_count": null,
   "metadata": {},
   "outputs": [],
   "source": []
  },
  {
   "cell_type": "markdown",
   "metadata": {},
   "source": [
    "# Papers to read\n",
    "charnov 1990 - why is the equation for juvenile suvivorship $l_t = e^{-z(t)}$ --> page 10-ish of luke's"
   ]
  },
  {
   "cell_type": "code",
   "execution_count": null,
   "metadata": {},
   "outputs": [],
   "source": []
  }
 ],
 "metadata": {
  "kernelspec": {
   "display_name": "Python 3",
   "language": "python",
   "name": "python3"
  },
  "language_info": {
   "codemirror_mode": {
    "name": "ipython",
    "version": 3
   },
   "file_extension": ".py",
   "mimetype": "text/x-python",
   "name": "python",
   "nbconvert_exporter": "python",
   "pygments_lexer": "ipython3",
   "version": "3.6.9"
  }
 },
 "nbformat": 4,
 "nbformat_minor": 2
}
