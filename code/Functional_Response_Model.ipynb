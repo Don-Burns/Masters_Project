{
 "cells": [
  {
   "cell_type": "markdown",
   "metadata": {
    "toc": true
   },
   "source": [
    "<h1>Table of Contents<span class=\"tocSkip\"></span></h1>\n",
    "<div class=\"toc\"><ul class=\"toc-item\"><li><span><a href=\"#About\" data-toc-modified-id=\"About-1\"><span class=\"toc-item-num\">1&nbsp;&nbsp;</span>About</a></span></li><li><span><a href=\"#Equations\" data-toc-modified-id=\"Equations-2\"><span class=\"toc-item-num\">2&nbsp;&nbsp;</span>Equations</a></span><ul class=\"toc-item\"><li><span><a href=\"#Mass\" data-toc-modified-id=\"Mass-2.1\"><span class=\"toc-item-num\">2.1&nbsp;&nbsp;</span>Mass</a></span></li><li><span><a href=\"#Reproduction\" data-toc-modified-id=\"Reproduction-2.2\"><span class=\"toc-item-num\">2.2&nbsp;&nbsp;</span>Reproduction</a></span></li></ul></li><li><span><a href=\"#Functional-Response\" data-toc-modified-id=\"Functional-Response-3\"><span class=\"toc-item-num\">3&nbsp;&nbsp;</span>Functional Response</a></span><ul class=\"toc-item\"><li><span><a href=\"#Concerns-with-Implimentation\" data-toc-modified-id=\"Concerns-with-Implimentation-3.1\"><span class=\"toc-item-num\">3.1&nbsp;&nbsp;</span>Concerns with Implimentation</a></span></li></ul></li><li><span><a href=\"#Functions\" data-toc-modified-id=\"Functions-4\"><span class=\"toc-item-num\">4&nbsp;&nbsp;</span>Functions</a></span><ul class=\"toc-item\"><li><span><a href=\"#Functional-Response\" data-toc-modified-id=\"Functional-Response-4.1\"><span class=\"toc-item-num\">4.1&nbsp;&nbsp;</span>Functional Response</a></span></li><li><span><a href=\"#Lifetime-Reproduction-and-Mass\" data-toc-modified-id=\"Lifetime-Reproduction-and-Mass-4.2\"><span class=\"toc-item-num\">4.2&nbsp;&nbsp;</span>Lifetime Reproduction and Mass</a></span><ul class=\"toc-item\"><li><span><a href=\"#Incorrect-method-with-direct-implimentation-of-Func-Resp\" data-toc-modified-id=\"Incorrect-method-with-direct-implimentation-of-Func-Resp-4.2.1\"><span class=\"toc-item-num\">4.2.1&nbsp;&nbsp;</span>Incorrect method with direct implimentation of Func Resp</a></span></li><li><span><a href=\"#Method-based-on-figures-from-Samraat's-2012-paper\" data-toc-modified-id=\"Method-based-on-figures-from-Samraat's-2012-paper-4.2.2\"><span class=\"toc-item-num\">4.2.2&nbsp;&nbsp;</span>Method based on figures from Samraat's 2012 paper</a></span><ul class=\"toc-item\"><li><span><a href=\"#bi-modal-high/low-resource-function\" data-toc-modified-id=\"bi-modal-high/low-resource-function-4.2.2.1\"><span class=\"toc-item-num\">4.2.2.1&nbsp;&nbsp;</span>bi-modal high/low resource function</a></span></li></ul></li></ul></li></ul></li><li><span><a href=\"#Implimentation-(Single-values)\" data-toc-modified-id=\"Implimentation-(Single-values)-5\"><span class=\"toc-item-num\">5&nbsp;&nbsp;</span>Implimentation (Single values)</a></span><ul class=\"toc-item\"><li><span><a href=\"#Code\" data-toc-modified-id=\"Code-5.1\"><span class=\"toc-item-num\">5.1&nbsp;&nbsp;</span>Code</a></span></li><li><span><a href=\"#Plots\" data-toc-modified-id=\"Plots-5.2\"><span class=\"toc-item-num\">5.2&nbsp;&nbsp;</span>Plots</a></span></li></ul></li><li><span><a href=\"#-------Ignore-below-here-----------\" data-toc-modified-id=\"-------Ignore-below-here------------6\"><span class=\"toc-item-num\">6&nbsp;&nbsp;</span>-------Ignore below here ----------</a></span></li><li><span><a href=\"#Exploring-$\\rho$-Values\" data-toc-modified-id=\"Exploring-$\\rho$-Values-7\"><span class=\"toc-item-num\">7&nbsp;&nbsp;</span>Exploring $\\rho$ Values</a></span><ul class=\"toc-item\"><li><span><a href=\"#Code\" data-toc-modified-id=\"Code-7.1\"><span class=\"toc-item-num\">7.1&nbsp;&nbsp;</span>Code</a></span></li><li><span><a href=\"#Plots\" data-toc-modified-id=\"Plots-7.2\"><span class=\"toc-item-num\">7.2&nbsp;&nbsp;</span>Plots</a></span></li><li><span><a href=\"#Notes:\" data-toc-modified-id=\"Notes:-7.3\"><span class=\"toc-item-num\">7.3&nbsp;&nbsp;</span>Notes:</a></span></li></ul></li><li><span><a href=\"#Exploring-$\\alpha$-Values\" data-toc-modified-id=\"Exploring-$\\alpha$-Values-8\"><span class=\"toc-item-num\">8&nbsp;&nbsp;</span>Exploring $\\alpha$ Values</a></span><ul class=\"toc-item\"><li><span><a href=\"#Code\" data-toc-modified-id=\"Code-8.1\"><span class=\"toc-item-num\">8.1&nbsp;&nbsp;</span>Code</a></span></li><li><span><a href=\"#Plots\" data-toc-modified-id=\"Plots-8.2\"><span class=\"toc-item-num\">8.2&nbsp;&nbsp;</span>Plots</a></span></li><li><span><a href=\"#Notes\" data-toc-modified-id=\"Notes-8.3\"><span class=\"toc-item-num\">8.3&nbsp;&nbsp;</span>Notes</a></span></li></ul></li><li><span><a href=\"#Exploring-$c$-Values\" data-toc-modified-id=\"Exploring-$c$-Values-9\"><span class=\"toc-item-num\">9&nbsp;&nbsp;</span>Exploring $c$ Values</a></span><ul class=\"toc-item\"><li><span><a href=\"#Code\" data-toc-modified-id=\"Code-9.1\"><span class=\"toc-item-num\">9.1&nbsp;&nbsp;</span>Code</a></span></li><li><span><a href=\"#Plots\" data-toc-modified-id=\"Plots-9.2\"><span class=\"toc-item-num\">9.2&nbsp;&nbsp;</span>Plots</a></span></li><li><span><a href=\"#Notes\" data-toc-modified-id=\"Notes-9.3\"><span class=\"toc-item-num\">9.3&nbsp;&nbsp;</span>Notes</a></span></li></ul></li><li><span><a href=\"#Exploring-$\\kappa$-Values\" data-toc-modified-id=\"Exploring-$\\kappa$-Values-10\"><span class=\"toc-item-num\">10&nbsp;&nbsp;</span>Exploring $\\kappa$ Values</a></span><ul class=\"toc-item\"><li><span><a href=\"#Code\" data-toc-modified-id=\"Code-10.1\"><span class=\"toc-item-num\">10.1&nbsp;&nbsp;</span>Code</a></span></li><li><span><a href=\"#Plots\" data-toc-modified-id=\"Plots-10.2\"><span class=\"toc-item-num\">10.2&nbsp;&nbsp;</span>Plots</a></span></li></ul></li><li><span><a href=\"#Exploring-Supply-/-$a$-Exponents\" data-toc-modified-id=\"Exploring-Supply-/-$a$-Exponents-11\"><span class=\"toc-item-num\">11&nbsp;&nbsp;</span>Exploring Supply / $a$ Exponents</a></span><ul class=\"toc-item\"><li><span><a href=\"#Modified-Function\" data-toc-modified-id=\"Modified-Function-11.1\"><span class=\"toc-item-num\">11.1&nbsp;&nbsp;</span>Modified Function</a></span></li><li><span><a href=\"#Code\" data-toc-modified-id=\"Code-11.2\"><span class=\"toc-item-num\">11.2&nbsp;&nbsp;</span>Code</a></span></li><li><span><a href=\"#Plots\" data-toc-modified-id=\"Plots-11.3\"><span class=\"toc-item-num\">11.3&nbsp;&nbsp;</span>Plots</a></span></li><li><span><a href=\"#Notes\" data-toc-modified-id=\"Notes-11.4\"><span class=\"toc-item-num\">11.4&nbsp;&nbsp;</span>Notes</a></span></li></ul></li><li><span><a href=\"#General-Notes:\" data-toc-modified-id=\"General-Notes:-12\"><span class=\"toc-item-num\">12&nbsp;&nbsp;</span>General Notes:</a></span></li><li><span><a href=\"#Factors-affecting-growth\" data-toc-modified-id=\"Factors-affecting-growth-13\"><span class=\"toc-item-num\">13&nbsp;&nbsp;</span>Factors affecting growth</a></span></li><li><span><a href=\"#Messing\" data-toc-modified-id=\"Messing-14\"><span class=\"toc-item-num\">14&nbsp;&nbsp;</span>Messing</a></span></li></ul></div>"
   ]
  },
  {
   "cell_type": "markdown",
   "metadata": {},
   "source": [
    "# About\n",
    "- goal is to include a functional response to modify the energy intake parameter $a$ over time\n",
    "- may possible also modify the exponent of the energy terms as it has been shown to stray away from $\\frac{3}{4}$ ($am^\\frac{3}{4}$) under non-ideal conditions by Samraat's dimenstionality paper.\n",
    "\n",
    "aim for: \n",
    "- $$\\frac{dm}{dt} = F_ram^\\frac{3}{4} - bm - cm^\\rho \n",
    "\\text{ -->Where: } F_r = \\text{Functional Response}$$\n",
    "\n",
    "ABOVE IS A MISUNDERSTANDING BY ME\n",
    "\n",
    "acutally need to modify the whole $am^\\frac{3}{4}$ term, where the exponent will scale like Samraat's dimensionality paper."
   ]
  },
  {
   "cell_type": "markdown",
   "metadata": {},
   "source": [
    "# Equations\n",
    "## Mass\n",
    "- $\\alpha$ = age of maturity\n",
    "- $m_\\alpha$ = size at maturity\n",
    "- $a$ = growth rate\n",
    "- $b$ = maintenace cost per cell\n",
    "- $c$ = reproduction cost per cell\n",
    "<p>&nbsp;</p>\n",
    "\n",
    "Before reproduction is factored in:\n",
    "<p>&nbsp;</p> \n",
    "\\begin{align}\n",
    "        \\frac{dm}{dt} &= am^\\frac{3}{4} - bm  &m < m_\\alpha \\\\\n",
    "        \\frac{dm}{dt} &= am^\\frac{3}{4} - bm - cm^\\rho  &m > m_\\alpha \\\\\n",
    "\\end{align}"
   ]
  },
  {
   "cell_type": "markdown",
   "metadata": {},
   "source": [
    "## Reproduction\n",
    "##### Base Equation \n",
    "##### Variable Meanings\n",
    "- $R_0$ = Lifetime production of offspring\n",
    "- $cm$ = Reproductive allocation\n",
    "- $m$ =  mass\n",
    "- $\\rho$ = reproductive scaling\n",
    "- $h(t)$ = efficiency term representing a declining efficiency , i.e. reproductive senesence.\n",
    "- $l_t$ = Probability of survival\n",
    "- $L_t / L_\\alpha$ = scaling factor for mature population\n",
    "- $\\alpha$ = feasible ages of first breeding \n",
    "- $b_t$ = effective energy allocated to reproduction\n",
    "\\begin{align}\n",
    "    R_0 &= \\int_\\alpha^\\infty l_t b_t dt\\\\\n",
    "    R_0 &= \\int_\\alpha^\\infty cm^\\rho h_tl_tdt\\\\\n",
    "\\end{align}\n",
    "\n",
    "##### Derived Equation\n",
    "##### Variable Meanings\n",
    "- $L_\\alpha$ = Mortality before maturity\n",
    "- $Z$ = Adult instantaneous mortality rate (m > $m_\\alpha$)\n",
    "- $\\kappa$ = rate parameter, controles reproductive senesence rate\n",
    "- $Z(t)$ = instantaneous mortality rate at age t\n",
    "\\begin{align}\n",
    "    R_0 &= \\int_\\alpha^\\infty cm^\\rho h_tl_tdt\\\\\n",
    "    &= \\int_\\alpha^\\infty cm^\\rho (t)^\\rho e^{-\\kappa(t-\\alpha)} L_\\alpha e^{Z(t-\\alpha)}dt\\\\\n",
    "    &= L_\\alpha \\int_\\alpha^\\infty cm^\\rho (t)^\\rho e^{-\\kappa(t-\\alpha)} e^{Z(t-\\alpha)}dt\\\\\n",
    "        &= cL_\\alpha \\int_\\alpha^\\infty m^\\rho (t)^\\rho e^{-(\\kappa Z)(t-\\alpha)}dt\\\\\n",
    "    &= c\\int_0^\\alpha e^{-Z(t)} dt  \\int_\\alpha^\\infty m(t)^\\rho e^{-(\\kappa +Z)(t-\\alpha)}dt\\\\\n",
    "\\end{align}\n"
   ]
  },
  {
   "cell_type": "markdown",
   "metadata": {},
   "source": [
    "$$\n",
    "\\text{Cumulative Reproduction} = \\\\\n",
    "\\int_0^\\alpha \\text{juvenile mortality  } dt \\int_\\alpha^\\infty \\text{reproductive cost}^\\rho \\times\\text{mortality } dt\\\\\n",
    "\\frac{dm}{dt} = \\text{energy supply} - \\text{maintance cost} - \\text{reproductive cost}^\\rho\n",
    "$$"
   ]
  },
  {
   "cell_type": "markdown",
   "metadata": {},
   "source": [
    "# Functional Response\n",
    "- $a$ = attack rate\n",
    "- $h$ = handling time\n",
    "- $X_r$ = Resource Density\n",
    "- $q$ = dimensionless exponent that transitions between full Type II ($q = 0$) and Full Type III($q = 1$) response\n",
    "\\begin{align}\n",
    "    \\frac{a X_r^{q+1}}{1 + h a X_r^{q+1}}\n",
    "\\end{align}\n",
    "\n",
    "## Concerns with Implimentation\n",
    "- how to define the range of the response\n",
    "- how do things really fluctuate with time\n",
    "- where to fluctuate around (around maximum ingestion rate (1/h)? by how much to fluctuate)\n",
    "- can it be used when part of a is to do with resting metabolic rate?\n",
    "- how to define the parameters (a, h in a general manner?"
   ]
  },
  {
   "cell_type": "markdown",
   "metadata": {},
   "source": [
    "# Functions"
   ]
  },
  {
   "cell_type": "markdown",
   "metadata": {},
   "source": [
    "## Functional Response\n",
    "- A functional response to be included with the energy intake parameters"
   ]
  },
  {
   "cell_type": "code",
   "execution_count": 1,
   "metadata": {},
   "outputs": [],
   "source": [
    "# def FuncResp(Xr, a, h, q = 0):\n",
    "    \n",
    "#     \"\"\"\n",
    "#     The equation for the more general Type II functional response curve.\n",
    "#     Need an argument params which is a dictionary containing the parameter values.\n",
    "#     This dictionary is made using lmfit.parameters().\n",
    "#     Includes a dimensionless parameter `q` which is used to account for a small lag phase at \n",
    "#     the start of the curve and is a type III response at q = 1.\n",
    "\n",
    "#     Arguments:\n",
    "#         a {float} -- Attack rate\n",
    "#         h {float} -- handling time\n",
    "#         q {float} -- dimensionless exponent\n",
    "#         Xr {float} -- Resource Density\n",
    "#         data {float} -- the data that Xr is compared against if minimising the difference \n",
    "#                         using lmfit.minimize()\n",
    "    \n",
    "#     Returns:\n",
    "#         {float} -- Consumption rate\n",
    "#     \"\"\"\n",
    "#     top = a * (Xr ** (q + 1))\n",
    "#     bot = 1 + (h * a * (Xr ** (q + 1)))\n",
    "#     C = top / bot\n",
    "#     return C"
   ]
  },
  {
   "cell_type": "markdown",
   "metadata": {},
   "source": [
    "## Lifetime Reproduction and Mass"
   ]
  },
  {
   "cell_type": "markdown",
   "metadata": {},
   "source": [
    "### Incorrect method with direct implimentation of Func Resp"
   ]
  },
  {
   "cell_type": "code",
   "execution_count": 2,
   "metadata": {},
   "outputs": [],
   "source": [
    "# import scipy as sc\n",
    "# from scipy import exp\n",
    "# from scipy import integrate\n",
    "# from math import floor\n",
    "# import matplotlib.pyplot as plt\n",
    "\n",
    "\n",
    "\n",
    "# def L(t, k = 0.01):\n",
    "#     \"\"\"\n",
    "#         Calculates lifetime reproductive output of an organism, \n",
    "#         as described in Charnov et al. 2001.\n",
    "\n",
    "#         Arguments:\n",
    "#             t {int} -- time\n",
    "#             k {float} -- reproduction senescence\n",
    "#         Returns:\n",
    "#             {float} -- lifetime reproductive output\n",
    "#     \"\"\"\n",
    "#     return exp(-k*t)\n",
    "# def dRmdt(mR0, t, alpha = 50, M = 1000, a = 2.15, c = 0.17, rho = 0.06, k = 0.01, seasonal = True): \n",
    "#     \"\"\"\n",
    "#     A function to simulate change in mass and reproductive output for a time point.  \n",
    "#     Function designed with the intention of beign integrated.\n",
    "    \n",
    "#         Arguments:\n",
    "#         t {float} -- time\n",
    "#         mR0 {float} -- array with mass (g) and reproduction at start of time step \n",
    "#         alpha {float} -- asymtotic mass (g)\n",
    "#         M {float} -- asymptotic mass\n",
    "#         a {float} -- growth rate (UNITS?)\n",
    "#         b {float} -- maintenace cost per cell ## found in function\n",
    "#         c {float} -- reproductive cost (UNITS?)}\n",
    "#         rho {float} -- scaling factor of reproduction (UNITS?)\n",
    "#         k\n",
    "#         Z {float} -- ## found in function\n",
    "        \n",
    "#     Returns:\n",
    "#         {dict} -- \n",
    "#             dmdt --rate of change of mass in grams^1/4 per day (g^1/4 d^-1) at time t\n",
    "#                 NOTE:  integration of dmdt will give mass at t\n",
    "#             Rt -- reproductive output at time t in terms of mass \n",
    "#                 NOTE: integration of Rt gives total Reproductive output for the bounds of the integral\n",
    "#     \"\"\"\n",
    "#     # predefine outputs \n",
    "                \n",
    "#     m = mR0[0] \n",
    "#     R = mR0[1]\n",
    "#     b = a/(M**0.25)\n",
    "#     Z = 2/alpha\n",
    "#     Q = L(t-alpha, k)\n",
    "    \n",
    "#     # seasonality\n",
    "#     # turn t into an option to vary supply\n",
    "#     # adjust `t` if over 1 year to within one year\n",
    "#     if t > 365:\n",
    "#         t_temp = t - (365 * floor(t/365))\n",
    "#     else:\n",
    "#         t_temp = t\n",
    "#     x = t_temp/365 # as a percentage of the year to mimic a full year of seasonality\n",
    "#     # recalculate `a` with seasonality\n",
    "#     #-->(renamed to avoid futher changing the value for further integration iteratons)\n",
    "#     # not using functional response \n",
    "# #-->and just scaling `a` over time with average of 0.5\n",
    "# #     a_temp = (0.75*a) +(0.25*sc.sin(x)) # vary around from 50 - 100% of `a` with mean 75% a * (0.75+(0.25*sc.sin(x)))\n",
    "# # using functional response\n",
    "# # `a` thought of as the max possible value for Xr and vary around that\n",
    "#     a_temp = FuncResp(Xr = a * (1+(0.5*sc.sin(x))), a = 4, h = 1/a, q = 0)\n",
    "#     if seasonal == False:\n",
    "#         a_temp = a\n",
    "    \n",
    "#     # conditional tree dependant on `alpha` \n",
    "#     if t < 0:\n",
    "#         return \"ERROR: time < 0\"\n",
    "#     if t < alpha:\n",
    "#         dmdt = (a_temp * (m**0.75)) - (b * m)\n",
    "#         R = 0\n",
    "#     elif t >= alpha:\n",
    "#         dmdt = (a_temp * (m**0.75)) - (b * m) - (c * (m**rho))\n",
    "# #         R = Q*c * m**rho\n",
    "#         R = (c * m**rho) * exp(-(k + Z) * (t - alpha))\n",
    "#     if m + dmdt < 0: # forces the value to 0 if it would go below to avoid -ve values\n",
    "#         dmdt = -m\n",
    "    \n",
    "#     return sc.array([dmdt, R])\n",
    "# #     return dict[\"dmdt\" : dmdt, \"Reproduciton\" : R]\n"
   ]
  },
  {
   "cell_type": "markdown",
   "metadata": {},
   "source": [
    "### Method based on figures from Samraat's 2012 paper\n",
    "#### bi-modal high/low resource function"
   ]
  },
  {
   "cell_type": "code",
   "execution_count": 3,
   "metadata": {},
   "outputs": [],
   "source": [
    "import scipy as sc\n",
    "from scipy import exp\n",
    "from scipy import integrate\n",
    "from math import floor\n",
    "import matplotlib.pyplot as plt\n",
    "\n",
    "\n",
    "\n",
    "def L(t, k = 0.01):\n",
    "    \"\"\"\n",
    "        Calculates lifetime reproductive output of an organism, \n",
    "        as described in Charnov et al. 2001.\n",
    "\n",
    "        Arguments:\n",
    "            t {int} -- time\n",
    "            k {float} -- reproductive senescence\n",
    "        Returns:\n",
    "            {float} -- lifetime reproductive output\n",
    "    \"\"\"\n",
    "    return exp(-k*t)\n",
    "def dRmdt(mR0, t, alpha = 50, M = 1000, a = 2.15, c = 0.17, rho = 0.06, k = 0.01, resource = None): \n",
    "    \"\"\"\n",
    "    A function to simulate change in mass and reproductive output for a time point.  \n",
    "    Function designed with the intention of beign integrated.\n",
    "    \n",
    "        Arguments:\n",
    "        t {float} -- time\n",
    "        mR0 {float} -- array with mass (g) and reproduction at start of time step \n",
    "        alpha {float} -- asymtotic mass (g)\n",
    "        M {float} -- asymptotic mass\n",
    "        a {float} -- growth rate (UNITS?)\n",
    "        b {float} -- maintenace cost per cell ## found in function\n",
    "        c {float} -- reproductive cost (UNITS?)}\n",
    "        rho {float} -- scaling factor of reproduction (UNITS?)\n",
    "        k {float} -- reproductive senescence\n",
    "        Z {float} -- ## found in function\n",
    "        \n",
    "    Returns:\n",
    "        {dict} -- \n",
    "            dmdt --rate of change of mass in grams^1/4 per day (g^1/4 d^-1) at time t\n",
    "                NOTE:  integration of dmdt will give mass at t\n",
    "            Rt -- reproductive output at time t in terms of mass \n",
    "                NOTE: integration of Rt gives total Reproductive output for the bounds of the integral\n",
    "    \"\"\"\n",
    "    # predefine outputs \n",
    "                \n",
    "    m = mR0[0] \n",
    "    R = mR0[1]\n",
    "    b = (a/(M**0.25))\n",
    "    Z = 2/alpha\n",
    "    Q = L(t-alpha, k)\n",
    "#     print(b)\n",
    "    # resource density - since fish are 3D, will be using those values from pawar et al 2012\n",
    "        #for consumption rate\n",
    "    if resource == \"low\":\n",
    "        res_dens = a * (m**1.06)\n",
    "    elif resource == \"high\":\n",
    "        res_dens = a * (m**1.0)\n",
    "    elif resource == None:\n",
    "        res_dens = a * (m**0.75)\n",
    "    else:\n",
    "        return \"Please specify resource density\"\n",
    "    # conditional tree dependant on `alpha` \n",
    "    if t < 0:\n",
    "        return \"ERROR: time < 0\"\n",
    "    if t < alpha:\n",
    "        dmdt = (res_dens) - (b * m)\n",
    "        R = 0\n",
    "    elif t >= alpha:\n",
    "        dmdt = (res_dens) - (b * m) - (c * (m**rho))\n",
    "#         R = Q*c * m**rho\n",
    "        R = (c * m**rho) * exp(-(k + Z) * (t - alpha))\n",
    "    # To set mass to 0 in cases where it goes below 0 if fish is shrinking. \n",
    "    # Of course not possible in real life but can happen with righ parameters.\n",
    "    if m + dmdt < 0: \n",
    "        dmdt = -m\n",
    "    \n",
    "    return sc.array([dmdt, R])\n"
   ]
  },
  {
   "cell_type": "markdown",
   "metadata": {},
   "source": [
    "# Implimentation (Single values)"
   ]
  },
  {
   "cell_type": "markdown",
   "metadata": {},
   "source": [
    "## Code"
   ]
  },
  {
   "cell_type": "code",
   "execution_count": 4,
   "metadata": {
    "scrolled": true
   },
   "outputs": [
    {
     "name": "stderr",
     "output_type": "stream",
     "text": [
      "/usr/lib/python3/dist-packages/scipy/integrate/odepack.py:218: ODEintWarning: Excess work done on this call (perhaps wrong Dfun type). Run with full_output = 1 to get quantitative information.\n",
      "  warnings.warn(warning_msg, ODEintWarning)\n"
     ]
    }
   ],
   "source": [
    "## imports\n",
    "import scipy as sc\n",
    "from scipy import integrate\n",
    "\n",
    "days = 300 #  time to simulate over\n",
    "\n",
    "# define starting parameters -- using cod values from west 2001 as a base/ballpark values\n",
    "\n",
    "m0 = 0.1 # starting mass at t_0\n",
    "R0 = 0 # starting reproduction at t_0, 0 because organism not yet mature in my sims\n",
    "b =  0 # no need to calculate right now since i do it in function,could be done here to save time\n",
    "c = 1\n",
    "a = 2.15\n",
    "## definition of various `a`'s under optimal condtions with 3/4 scaling and samraats paper.\n",
    "# optimal `a`\n",
    "aOpt = (2.4867* 10**-5) *24*60*60 # converted to days\n",
    "# abundant resource 3D - Pawar 2012 fig 3\n",
    "aHigh = (10**-4.7)*24*60*60\n",
    "# scarce resource 3D - Pawar 2012 fig 3\n",
    "aLow = (10**-5.2)*24*60*60\n",
    "\n",
    "# reproductive cost \n",
    "M =  25000\n",
    "alpha = 200 # age of maturation (days)\n",
    "# rho = 0.68#0.23 # reproductive scaling parameter\n",
    "rho = 0.5\n",
    "k =  0.01\n",
    "\n",
    "mR0 = sc.array([m0, R0]) # starting values for integration, [starting mass, starting repro]\n",
    "t = sc.arange(0, days, 1) # t values for integration\n",
    "######## Under Optimal conditions ########\n",
    "resource = None\n",
    "params = (alpha, M, aOpt, c, rho, k, resource) # tuple for integration arguments\n",
    "\n",
    "# integration\n",
    "mR = integrate.odeint(dRmdt, mR0, t, args = params)\n",
    "massOpt = mR[:, 0]\n",
    "reproOpt = mR[:, 1]\n",
    "\n",
    "######## Under abundant conditions ########\n",
    "resource = \"high\"\n",
    "params = (alpha, M, aHigh, c, rho, k, resource) # tuple for integration arguments\n",
    "\n",
    "# integration\n",
    "mR = integrate.odeint(dRmdt, mR0, t, args = params)\n",
    "massHigh = mR[:, 0]\n",
    "reproHigh = mR[:, 1]\n",
    "\n",
    "######## Under scarce conditions ########\n",
    "resource = \"low\"\n",
    "params = (alpha, M, aLow, c, rho, k, resource) # tuple for integration arguments\n",
    "\n",
    "# integration\n",
    "mR = integrate.odeint(dRmdt, mR0, t, args = params)\n",
    "massLow = mR[:, 0]\n",
    "reproLow = mR[:, 1]\n",
    "\n",
    "\n",
    "# massOpt\n"
   ]
  },
  {
   "cell_type": "code",
   "execution_count": 5,
   "metadata": {},
   "outputs": [],
   "source": [
    "# massHigh"
   ]
  },
  {
   "cell_type": "code",
   "execution_count": 6,
   "metadata": {},
   "outputs": [],
   "source": [
    "# massLow"
   ]
  },
  {
   "cell_type": "markdown",
   "metadata": {},
   "source": [
    "## Plots"
   ]
  },
  {
   "cell_type": "code",
   "execution_count": 8,
   "metadata": {
    "scrolled": false
   },
   "outputs": [
    {
     "data": {
      "image/png": "[encoded data removed]",
      "text/plain": [
       "<Figure size 432x288 with 1 Axes>"
      ]
     },
     "metadata": {
      "needs_background": "light"
     },
     "output_type": "display_data"
    },
    {
     "data": {
      "image/png": "[encoded data removed]",
      "text/plain": [
       "<Figure size 432x288 with 1 Axes>"
      ]
     },
     "metadata": {
      "needs_background": "light"
     },
     "output_type": "display_data"
    },
    {
     "data": {
      "image/png": "[encoded data removed]",
      "text/plain": [
       "<Figure size 432x288 with 1 Axes>"
      ]
     },
     "metadata": {
      "needs_background": "light"
     },
     "output_type": "display_data"
    }
   ],
   "source": [
    "import matplotlib.pyplot as plt\n",
    "\n",
    "plt.figure()\n",
    "plt.plot(t, massOpt, label = \"Mass\")\n",
    "plt.plot(t, reproOpt, label = \"Reproduction\")\n",
    "plt.xlabel(\"Time (Optimal resources)\")\n",
    "plt.ylabel(\"Mass (Optimal resources)\")\n",
    "plt.legend()\n",
    "plt.show()\n",
    "plt.figure()\n",
    "plt.plot(t, massHigh, label = \"Mass\")\n",
    "plt.plot(t, reproHigh, label =  \"Reproduction\")\n",
    "plt.xlabel(\"Time (high resources)\")\n",
    "plt.ylabel(\"Mass (high resources)\")\n",
    "plt.legend()\n",
    "plt.show()\n",
    "plt.figure()\n",
    "# plt.plot(t, sc.log(massLow), label = \"Mass (logged)\")\n",
    "plt.plot(t, massLow, label = \"Mass\")\n",
    "plt.plot(t, reproLow, label = \"Reproduction\")\n",
    "plt.xlabel(\"Time (low resources)\")\n",
    "plt.ylabel(\"Mass (low resources)\")\n",
    "plt.legend()\n",
    "plt.show()"
   ]
  },
  {
   "cell_type": "markdown",
   "metadata": {},
   "source": [
    "# -------Ignore below here ----------"
   ]
  },
  {
   "cell_type": "code",
   "execution_count": 8,
   "metadata": {},
   "outputs": [
    {
     "ename": "SyntaxError",
     "evalue": "invalid syntax (<ipython-input-8-2ce4af8f0a92>, line 1)",
     "output_type": "error",
     "traceback": [
      "\u001b[0;36m  File \u001b[0;32m\"<ipython-input-8-2ce4af8f0a92>\"\u001b[0;36m, line \u001b[0;32m1\u001b[0m\n\u001b[0;31m    to break the script\u001b[0m\n\u001b[0m           ^\u001b[0m\n\u001b[0;31mSyntaxError\u001b[0m\u001b[0;31m:\u001b[0m invalid syntax\n"
     ]
    }
   ],
   "source": [
    "to break the script"
   ]
  },
  {
   "cell_type": "markdown",
   "metadata": {},
   "source": [
    "# Exploring $\\rho$ Values\n",
    "- looking at what values `sc.integrate.odeint` can handle\n",
    "- looking at how behaviour of the model changes with just changes in $\\rho$"
   ]
  },
  {
   "cell_type": "markdown",
   "metadata": {},
   "source": [
    "## Code"
   ]
  },
  {
   "cell_type": "code",
   "execution_count": null,
   "metadata": {
    "scrolled": true
   },
   "outputs": [],
   "source": [
    "## imports\n",
    "import scipy as sc\n",
    "from scipy import integrate\n",
    "\n",
    "days = 1500 # time to simulate over\n",
    "\n",
    "# define starting parameters -- using cod values from west 2001 as a base/ballpark values\n",
    "\n",
    "m0 = 0.1 # starting mass at t_0\n",
    "R0 = 0 # starting reproduction at t_0, 0 because organism not yet mature in my sims\n",
    "a = 0.017 # cost of new mass \n",
    "b = 0 ## no need to calculate right now since i do it in function,could be done here to save time\n",
    "c = 0.017 # reproductive cost \n",
    "M = 25000\n",
    "alpha = 700 # age of maturation (days)\n",
    "rho = .687 # reproductive scaling parameter | placeholder for this exploration\n",
    "k = 0.01\n",
    "\n",
    "# define rho values to interate over\n",
    "rhoVals = sc.linspace(0, 2, 20)\n",
    "\n",
    "# define vars to hold the output for each rho value\n",
    "mass = dict()\n",
    "repro = dict()\n",
    "\n",
    "\n",
    "\n",
    "# organising starting params for use\n",
    "\n",
    "mR0 = sc.array([m0, R0]) # starting values for integration, [starting mass, starting repro]\n",
    "t = sc.arange(0, days, 1) # t values for integration\n",
    "params = (alpha, M, a, c, rho, k) # tuple for integration arguments |need to specify in loop because of changig values\n",
    "\n",
    "\n",
    "# integration\n",
    "for rho in rhoVals:\n",
    "    mR = integrate.odeint(dRmdt, mR0, t, args = (alpha, M, a, c, rho, k))\n",
    "    mass[str(rho)] = mR[:, 0]\n",
    "    repro[str(rho)] = mR[:, 1]\n",
    "\n",
    "# exploring output\n",
    "print(mass.keys())\n",
    "mass[\"2.0\"][-50:]\n",
    "\n"
   ]
  },
  {
   "cell_type": "markdown",
   "metadata": {},
   "source": [
    "## Plots"
   ]
  },
  {
   "cell_type": "code",
   "execution_count": null,
   "metadata": {},
   "outputs": [],
   "source": [
    "plt.figure()\n",
    "ax = plt.gca()\n",
    "# extra details to include in the graph as text\n",
    "M_annotation  = \"M = \" + str(M)\n",
    "a_annotation  = \"a = \" + str(a)\n",
    "c_annotation  = \"c = \" + str(c)\n",
    "alpha_annotation  = \"alpha = \" + str(alpha)\n",
    "k_annotation  = \"k = \" + str(k)\n",
    "for i in mass.keys():\n",
    "    # keep color the same for both growth curve and repro curve with same rho value\n",
    "    color = next(ax._get_lines.prop_cycler)['color'] \n",
    "    plt.plot(t, mass[i], color = color, label = i)\n",
    "    plt.plot(t, repro[i], color = color)\n",
    "    # label for each value to be use in the legend\n",
    "    plt.legend(loc = \"upper left\", prop={'size': 6})\n",
    "    # formatting\n",
    "    plt.xlabel(\"Time\")\n",
    "    plt.ylabel(\"Mass\")\n",
    "    plt.title(\"Varying rho values - colour the same for same values in repro and m\")\n",
    "    # extra details for graph\n",
    "    plt.text(400, 300, M_annotation) \n",
    "    plt.text(400, 250, a_annotation) \n",
    "    plt.text(400, 200, c_annotation) \n",
    "    plt.text(400, 150, alpha_annotation) \n",
    "    plt.text(400, 100, k_annotation)\n",
    "# save image\n",
    "plt.savefig(\"../results/rhoFunc_exploration.png\", dpi = 200)\n"
   ]
  },
  {
   "cell_type": "markdown",
   "metadata": {},
   "source": [
    "## Notes:\n",
    "- `nan` values start to appear around $\\rho = 0.7$ and on in both mass and reproduction"
   ]
  },
  {
   "cell_type": "markdown",
   "metadata": {},
   "source": [
    "# Exploring $\\alpha$ Values"
   ]
  },
  {
   "cell_type": "markdown",
   "metadata": {},
   "source": [
    "## Code"
   ]
  },
  {
   "cell_type": "code",
   "execution_count": null,
   "metadata": {
    "scrolled": true
   },
   "outputs": [],
   "source": [
    "## imports\n",
    "import scipy as sc\n",
    "from scipy import integrate\n",
    "\n",
    "days = 1500 # time to simulate over\n",
    "\n",
    "# define starting parameters -- using cod values from west 2001 as a base/ballpark values\n",
    "\n",
    "m0 = 0.1 # starting mass at t_0\n",
    "R0 = 0 # starting reproduction at t_0, 0 because organism not yet mature in my sims\n",
    "a = 0.017 # cost of new mass \n",
    "b = 0 ## no need to calculate right now since i do it in function,could be done here to save time\n",
    "c = 0.017 # reproductive cost \n",
    "M = 25000\n",
    "alpha = 700 # age of maturation (days) | placeholder for this exploration\n",
    "rho = .687 # reproductive scaling parameter \n",
    "k = 0.01\n",
    "\n",
    "# define rho values to interate over\n",
    "alphaVals = sc.linspace(0, 1000, 20) # values every 50\n",
    "\n",
    "# define vars to hold the output for each rho value\n",
    "mass = dict()\n",
    "repro = dict()\n",
    "\n",
    "\n",
    "\n",
    "# organising starting params for use\n",
    "\n",
    "mR0 = sc.array([m0, R0]) # starting values for integration, [starting mass, starting repro]\n",
    "t = sc.arange(0, days, 1) # t values for integration\n",
    "params = (alpha, M, a, c, rho, k) # tuple for integration arguments |need to specify in loop because of changig values\n",
    "\n",
    "\n",
    "# integration\n",
    "for alpha in alphaVals:\n",
    "    mR = integrate.odeint(dRmdt, mR0, t, args = (alpha, M, a, c, rho, k))\n",
    "    mass[str(alpha)] = mR[:, 0]\n",
    "    repro[str(alpha)] = mR[:, 1]\n",
    "\n",
    "# exploring output\n",
    "mass[\"789.473684211\"][600:800]"
   ]
  },
  {
   "cell_type": "markdown",
   "metadata": {},
   "source": [
    "## Plots"
   ]
  },
  {
   "cell_type": "code",
   "execution_count": null,
   "metadata": {
    "scrolled": false
   },
   "outputs": [],
   "source": [
    "plt.figure()\n",
    "ax = plt.gca()\n",
    "# extra details to include in the graph as text\n",
    "M_annotation  = \"M = \" + str(M)\n",
    "a_annotation  = \"a = \" + str(a)\n",
    "c_annotation  = \"c = \" + str(c)\n",
    "rho_annotation  = \"rho = \" + str(rho)\n",
    "k_annotation  = \"k = \" + str(k)\n",
    "\n",
    "for i in mass.keys():\n",
    "    # keep color the same for both growth curve and repro curve with same rho value\n",
    "    color = next(ax._get_lines.prop_cycler)['color'] \n",
    "    plt.plot(t, mass[i], color = color, label = i)\n",
    "    plt.plot(t, repro[i], color = color)\n",
    "    # label for each value to be use in the legend\n",
    "    plt.legend(loc = \"upper left\", prop={'size': 6})\n",
    "    # formatting\n",
    "    plt.xlabel(\"Time\")\n",
    "    plt.ylabel(\"Mass\")\n",
    "    plt.title(\"Varying alpha values - colour the same for same values in repro and m\")\n",
    "    # extra details for graph\n",
    "    plt.text(400, 250, M_annotation) \n",
    "    plt.text(400, 200, a_annotation) \n",
    "    plt.text(400, 150, c_annotation) \n",
    "    plt.text(400, 100, rho_annotation) \n",
    "    plt.text(400, 50, k_annotation)\n",
    "# save image\n",
    "plt.savefig(\"../results/alphaFunc_exploration.png\", dpi = 200)"
   ]
  },
  {
   "cell_type": "markdown",
   "metadata": {},
   "source": [
    "## Notes\n",
    "- `nan` not produced - range(0 -1000)\n",
    "- seems that if `nan` is produced an increase in $\\alpha$ alleviates the problem.  \n",
    "    - i.e. it does play a role in what is causing `nan` production"
   ]
  },
  {
   "cell_type": "markdown",
   "metadata": {},
   "source": [
    "# Exploring $c$ Values"
   ]
  },
  {
   "cell_type": "markdown",
   "metadata": {},
   "source": [
    "## Code"
   ]
  },
  {
   "cell_type": "code",
   "execution_count": null,
   "metadata": {},
   "outputs": [],
   "source": [
    "## imports\n",
    "import scipy as sc\n",
    "from scipy import integrate\n",
    "\n",
    "days = 1500 # time to simulate over\n",
    "\n",
    "# define starting parameters -- using cod values from west 2001 as a base/ballpark values\n",
    "\n",
    "m0 = 0.1 # starting mass at t_0\n",
    "R0 = 0 # starting reproduction at t_0, 0 because organism not yet mature in my sims\n",
    "a = 0.017 # cost of new mass \n",
    "b = 0 ## no need to calculate right now since i do it in function,could be done here to save time\n",
    "c = 0.017 # reproductive cost \n",
    "M = 25000\n",
    "alpha = 700 # age of maturation (days) | placeholder for this exploration\n",
    "rho = .687 # reproductive scaling parameter \n",
    "k = 0.01\n",
    "\n",
    "# define rho values to interate over\n",
    "c_Vals = sc.linspace(0, 0.4, 40) \n",
    "\n",
    "# define vars to hold the output for each rho value\n",
    "mass = dict()\n",
    "repro = dict()\n",
    "\n",
    "\n",
    "\n",
    "# organising starting params for use\n",
    "\n",
    "mR0 = sc.array([m0, R0]) # starting values for integration, [starting mass, starting repro]\n",
    "t = sc.arange(0, days, 1) # t values for integration\n",
    "params = (alpha, M, a, c, rho, k) # tuple for integration arguments |need to specify in loop because of changig values\n",
    "\n",
    "\n",
    "# integration\n",
    "for c in c_Vals:\n",
    "    mR = integrate.odeint(dRmdt, mR0, t, args = (alpha, M, a, c, rho, k))\n",
    "    mass[str(c)] = mR[:, 0]\n",
    "    repro[str(c)] = mR[:, 1]\n",
    "\n",
    "# exploring output\n",
    "print(mass.keys())\n",
    "mass[\"0.297435897436\"][600:800]"
   ]
  },
  {
   "cell_type": "markdown",
   "metadata": {},
   "source": [
    "## Plots"
   ]
  },
  {
   "cell_type": "code",
   "execution_count": null,
   "metadata": {},
   "outputs": [],
   "source": [
    "plt.figure()\n",
    "ax = plt.gca()\n",
    "# extra details to include in the graph as text\n",
    "M_annotation  = \"M = \" + str(M)\n",
    "a_annotation  = \"a = \" + str(a)\n",
    "alpha_annotation  = \"alpha = \" + str(alpha)\n",
    "rho_annotation  = \"rho = \" + str(rho)\n",
    "k_annotation  = \"k = \" + str(k)\n",
    "\n",
    "for i in mass.keys():\n",
    "    # keep color the same for both growth curve and repro curve with same rho value\n",
    "    color = next(ax._get_lines.prop_cycler)['color'] \n",
    "    plt.plot(t, mass[i], color = color, label = i)\n",
    "    plt.plot(t, repro[i], color = color)\n",
    "    # label for each value to be use in the legend\n",
    "    plt.legend(loc = \"upper left\", prop={'size': 4})\n",
    "    # formatting\n",
    "    plt.xlabel(\"Time\")\n",
    "    plt.ylabel(\"Mass\")\n",
    "    plt.title(\"Varying c values - colour the same for same values in repro and m\")\n",
    "    # extra details for graph\n",
    "    plt.text(400, 300, M_annotation) \n",
    "    plt.text(400, 250, a_annotation) \n",
    "    plt.text(400, 200, alpha_annotation) \n",
    "    plt.text(400, 150, rho_annotation) \n",
    "    plt.text(400, 100, k_annotation)\n",
    "# save image\n",
    "plt.savefig(\"../results/cFunc_exploration.png\", dpi = 200)"
   ]
  },
  {
   "cell_type": "markdown",
   "metadata": {},
   "source": [
    "## Notes\n",
    "- `nan` produced from 0.3 and greater - range(0 - 3)\n",
    "- `nan` produced from 0.2974... and greater - range(0 - 0.4) \n",
    "- `nan` produced from 0.194 and greater - manual investigation\n",
    "\n",
    "- tiny increases in `a` give a lot of freedom for `c` to increase without producing `nan`"
   ]
  },
  {
   "cell_type": "markdown",
   "metadata": {},
   "source": [
    "# Exploring $\\kappa$ Values"
   ]
  },
  {
   "cell_type": "markdown",
   "metadata": {},
   "source": [
    "## Code"
   ]
  },
  {
   "cell_type": "code",
   "execution_count": null,
   "metadata": {},
   "outputs": [],
   "source": [
    "## imports\n",
    "import scipy as sc\n",
    "from scipy import integrate\n",
    "\n",
    "days = 1500 # time to simulate over\n",
    "\n",
    "# define starting parameters -- using cod values from west 2001 as a base/ballpark values\n",
    "\n",
    "m0 = 0.1 # starting mass at t_0\n",
    "R0 = 0 # starting reproduction at t_0, 0 because organism not yet mature in my sims\n",
    "a = 0.017 # cost of new mass \n",
    "b = 0 ## no need to calculate right now since i do it in function,could be done here to save time\n",
    "c = 0.017 # reproductive cost \n",
    "M = 25000\n",
    "alpha = 700 # age of maturation (days) | placeholder for this exploration\n",
    "rho = .687 # reproductive scaling parameter \n",
    "k = 0.01\n",
    "\n",
    "# define rho values to interate over\n",
    "k_Vals = sc.linspace(0, 1, 20) \n",
    "\n",
    "# define vars to hold the output for each rho value\n",
    "mass = dict()\n",
    "repro = dict()\n",
    "\n",
    "\n",
    "\n",
    "# organising starting params for use\n",
    "\n",
    "mR0 = sc.array([m0, R0]) # starting values for integration, [starting mass, starting repro]\n",
    "t = sc.arange(0, days, 1) # t values for integration\n",
    "params = (alpha, M, a, c, rho, k) # tuple for integration arguments |need to specify in loop because of changig values\n",
    "\n",
    "\n",
    "# integration\n",
    "for k in k_Vals:\n",
    "    mR = integrate.odeint(dRmdt, mR0, t, args = (alpha, M, a, c, rho, k))\n",
    "    mass[str(k)] = mR[:, 0]\n",
    "    repro[str(k)] = mR[:, 1]\n",
    "\n",
    "# exploring output\n",
    "len(mass.keys())"
   ]
  },
  {
   "cell_type": "markdown",
   "metadata": {},
   "source": [
    "## Plots"
   ]
  },
  {
   "cell_type": "code",
   "execution_count": null,
   "metadata": {
    "scrolled": true
   },
   "outputs": [],
   "source": [
    "plt.figure()\n",
    "ax = plt.gca()\n",
    "# extra details to include in the graph as text\n",
    "M_annotation  = \"M = \" + str(M)\n",
    "a_annotation  = \"a = \" + str(a)\n",
    "c_annotation  = \"c = \" + str(c)\n",
    "rho_annotation  = \"rho = \" + str(rho)\n",
    "alpha_annotation  = \"alpha = \" + str(alpha)\n",
    "\n",
    "for i in mass.keys():\n",
    "    # keep color the same for both growth curve and repro curve with same rho value\n",
    "    color = next(ax._get_lines.prop_cycler)['color'] \n",
    "    plt.plot(t, mass[i], color = color, label = i)\n",
    "    plt.plot(t, repro[i], color = color)\n",
    "    # label for each value to be use in the legend\n",
    "    plt.legend(loc = \"upper left\", prop={'size': 6})\n",
    "    # formatting\n",
    "    plt.xlabel(\"Time\")\n",
    "    plt.ylabel(\"Mass\")\n",
    "    plt.title(\"Varying k values - colour the same for same values in repro and m\")\n",
    "    # extra details for graph about the fixed values used for the simulation\n",
    "    plt.text(600, 300, M_annotation) \n",
    "    plt.text(600, 250, a_annotation) \n",
    "    plt.text(600, 200, c_annotation) \n",
    "    plt.text(600, 150, rho_annotation) \n",
    "    plt.text(600, 100, alpha_annotation)\n",
    "# save image\n",
    "plt.savefig(\"../results/kappaFunc_exploration.png\", dpi = 200)"
   ]
  },
  {
   "cell_type": "markdown",
   "metadata": {},
   "source": [
    "# Exploring Supply / $a$ Exponents"
   ]
  },
  {
   "cell_type": "markdown",
   "metadata": {},
   "source": [
    "## Modified Function"
   ]
  },
  {
   "cell_type": "code",
   "execution_count": null,
   "metadata": {},
   "outputs": [],
   "source": [
    "from scipy import exp \n",
    "def dRmdt2(mR0, t, alpha = 50, M = 1000, a = 2.15, c = 0.17, rho = 0.06, k = 0.01, x = 0.75): \n",
    "    \"\"\"\n",
    "    A function to simulate change in mass and reproductive output for a time point.  \n",
    "    Function designed with the intention of beign integrated.\n",
    "    \n",
    "        Arguments:\n",
    "        t {float} -- time\n",
    "        mR0 {float} -- array with mass (g) and reproduction at start of time step \n",
    "        alpha {float} -- asymtotic mass (g)\n",
    "        M {float} -- asymptotic mass\n",
    "        a {float} -- growth rate (UNITS?)\n",
    "        b {float} -- maintenace cost per cell ## found in function\n",
    "        c {float} -- reproductive cost (UNITS?)}\n",
    "        rho {float} -- scaling factor of reproduction (UNITS?)\n",
    "        k\n",
    "        Z {float} -- ## found in function\n",
    "        \n",
    "    Returns:\n",
    "        {dict} -- \n",
    "            dmdt --rate of change of mass in grams^1/4 per day (g^1/4 d^-1) at time t\n",
    "                NOTE:  integration of dmdt will give mass at t\n",
    "            Rt -- reproductive output at time t in terms of mass \n",
    "                NOTE: integration of Rt gives total Reproductive output for the bounds of the integral\n",
    "    \"\"\"\n",
    "    # predefine outputs \n",
    "                \n",
    "    m = mR0[0] \n",
    "    R = mR0[1]\n",
    "    b = a/(M**0.25)\n",
    "    Z = 2/alpha\n",
    "#     Q = L(t-alpha, k)\n",
    "    \n",
    "    # conditional tree dependant on `alpha`\n",
    "    if t < 0:\n",
    "        return \"ERROR: time < 0\"\n",
    "    if t < alpha:\n",
    "        dmdt = (a * (m**x)) - (b * m)\n",
    "        R = 0\n",
    "    elif t >= alpha:\n",
    "        \n",
    "        dmdt = (a * (m**0.75)) - (b * m) - (c * (m**rho))\n",
    "#         R = Q*c * m**rho\n",
    "        R = (c * m**rho) * exp(-(k + Z) * (t - alpha))\n",
    "    if m + dmdt < 0: # still not 100% sure why `-m`\n",
    "        dmdt = -m\n",
    "    \n",
    "    return sc.array([dmdt, R])\n",
    "#     return dict[\"dmdt\" : dmdt, \"Reproduciton\" : R]"
   ]
  },
  {
   "cell_type": "markdown",
   "metadata": {},
   "source": [
    "## Code"
   ]
  },
  {
   "cell_type": "code",
   "execution_count": null,
   "metadata": {},
   "outputs": [],
   "source": [
    "## imports\n",
    "import scipy as sc\n",
    "from scipy import integrate\n",
    "\n",
    "days = 1500 # time to simulate over\n",
    "\n",
    "# define starting parameters -- using cod values from west 2001 as a base/ballpark values\n",
    "\n",
    "m0 = 0.1 # starting mass at t_0\n",
    "R0 = 0 # starting reproduction at t_0, 0 because organism not yet mature in my sims\n",
    "a = 0.017 # cost of new mass \n",
    "b = 0 ## no need to calculate right now since i do it in function,could be done here to save time\n",
    "c = 0.017 # reproductive cost \n",
    "M = 25000\n",
    "alpha = 700 # age of maturation (days) | placeholder for this exploration\n",
    "rho = .687 # reproductive scaling parameter \n",
    "k = 0.01\n",
    "x = 0.75 # exponent affecting supply\n",
    "# define rho values to interate over\n",
    "x_Vals = sc.linspace(0.75, 0.85, 50) \n",
    "\n",
    "# define vars to hold the output for each rho value\n",
    "mass = dict()\n",
    "repro = dict()\n",
    "\n",
    "\n",
    "\n",
    "# organising starting params for use\n",
    "\n",
    "mR0 = sc.array([m0, R0]) # starting values for integration, [starting mass, starting repro]\n",
    "t = sc.arange(0, days, 1) # t values for integration\n",
    "params = (alpha, M, a, c, rho, k, x) # tuple for integration arguments |need to specify in loop because of changig values\n",
    "\n",
    "\n",
    "# integration\n",
    "for x in x_Vals:\n",
    "    mR = integrate.odeint(dRmdt2, mR0, t, args = (alpha, M, a, c, rho, k, x))\n",
    "    mass[str(x)] = mR[:, 0]\n",
    "    repro[str(x)] = mR[:, 1]\n",
    "\n",
    "# exploring output\n",
    "len(mass.keys())"
   ]
  },
  {
   "cell_type": "markdown",
   "metadata": {},
   "source": [
    "## Plots"
   ]
  },
  {
   "cell_type": "code",
   "execution_count": null,
   "metadata": {},
   "outputs": [],
   "source": [
    "plt.figure()\n",
    "ax = plt.gca()\n",
    "# extra details to include in the graph as text\n",
    "M_annotation  = \"M = \" + str(M)\n",
    "a_annotation  = \"a = \" + str(a)\n",
    "c_annotation  = \"c = \" + str(c)\n",
    "rho_annotation  = \"rho = \" + str(rho)\n",
    "alpha_annotation  = \"alpha = \" + str(alpha)\n",
    "kappa_annotation  = \"Kappa = \" + str(k)\n",
    "for i in mass.keys():\n",
    "    # keep color the same for both growth curve and repro curve with same rho value\n",
    "    color = next(ax._get_lines.prop_cycler)['color'] \n",
    "    plt.plot(t, mass[i], color = color, label = i)\n",
    "#     plt.plot(t, repro[i], color = color)\n",
    "    # label for each value to be use in the legend\n",
    "    plt.legend(loc = \"upper left\", prop={'size': 3})\n",
    "    # formatting\n",
    "    plt.xlabel(\"Time\")\n",
    "    plt.ylabel(\"Mass\")\n",
    "    plt.title(\"Varying supply exponents - colour the same for same values in repro and m\")\n",
    "    # extra details for graph about the fixed values used for the simulation\n",
    "    plt.text(400, 250, M_annotation) \n",
    "    plt.text(400, 200, a_annotation) \n",
    "    plt.text(400, 150, c_annotation) \n",
    "    plt.text(400, 100, rho_annotation) \n",
    "    plt.text(400, 50, alpha_annotation)\n",
    "# save image\n",
    "plt.savefig(\"../results/supplyFunc_exploration.png\", dpi = 200)"
   ]
  },
  {
   "cell_type": "markdown",
   "metadata": {},
   "source": [
    "## Notes"
   ]
  },
  {
   "cell_type": "markdown",
   "metadata": {},
   "source": [
    "# General Notes:\n",
    "# Factors affecting growth\n",
    "- see kohler 1964![kohler 1964](notebook_images/kohler_1964.png)\n",
    "\n",
    "- temperature is a big factor affecting growth rate within species (torno et al 2019)"
   ]
  },
  {
   "cell_type": "markdown",
   "metadata": {},
   "source": [
    "# Messing"
   ]
  },
  {
   "cell_type": "code",
   "execution_count": 2,
   "metadata": {
    "scrolled": true
   },
   "outputs": [
    {
     "data": {
      "image/png": "[encoded data removed]",
      "text/plain": [
       "<Figure size 432x288 with 1 Axes>"
      ]
     },
     "metadata": {
      "needs_background": "light"
     },
     "output_type": "display_data"
    }
   ],
   "source": [
    "from scipy import sin\n",
    "import scipy as sc\n",
    "import matplotlib.pyplot as plt\n",
    "def test(x, a = 1, b = 1, c = 1, exponent = 0.75):\n",
    "    return (a*x**exponent)* (b - (c))\n",
    "\n",
    "a = 1\n",
    "line = sc.linspace(0, 15, 500)\n",
    "days = sc.linspace(0, 500, 500)\n",
    "var = []\n",
    "for i, j in enumerate(line):\n",
    "    var.append(test(j, b = 1.5,c = .5, exponent = 1.6))\n",
    "\n",
    "plt.figure()\n",
    "plt.plot(line, var)\n",
    "plt.show()\n",
    "# max(var)\n",
    "# min(var)\n",
    "# enumerate(line)"
   ]
  },
  {
   "cell_type": "code",
   "execution_count": null,
   "metadata": {},
   "outputs": [],
   "source": [
    "round(line[2],2)\n"
   ]
  },
  {
   "cell_type": "code",
   "execution_count": null,
   "metadata": {},
   "outputs": [],
   "source": [
    "round(4.5555,1)"
   ]
  },
  {
   "cell_type": "code",
   "execution_count": 3,
   "metadata": {},
   "outputs": [
    {
     "ename": "NameError",
     "evalue": "name 'floor' is not defined",
     "output_type": "error",
     "traceback": [
      "\u001b[0;31m---------------------------------------------------------------------------\u001b[0m",
      "\u001b[0;31mNameError\u001b[0m                                 Traceback (most recent call last)",
      "\u001b[0;32m<ipython-input-3-b0ac891f9521>\u001b[0m in \u001b[0;36m<module>\u001b[0;34m\u001b[0m\n\u001b[1;32m      1\u001b[0m \u001b[0mt\u001b[0m \u001b[0;34m=\u001b[0m \u001b[0;36m733\u001b[0m\u001b[0;34m\u001b[0m\u001b[0;34m\u001b[0m\u001b[0m\n\u001b[1;32m      2\u001b[0m \u001b[0;32mif\u001b[0m \u001b[0mt\u001b[0m \u001b[0;34m>\u001b[0m \u001b[0;36m365\u001b[0m\u001b[0;34m:\u001b[0m\u001b[0;34m\u001b[0m\u001b[0;34m\u001b[0m\u001b[0m\n\u001b[0;32m----> 3\u001b[0;31m     \u001b[0mt_temp\u001b[0m \u001b[0;34m=\u001b[0m \u001b[0mt\u001b[0m \u001b[0;34m-\u001b[0m \u001b[0;34m(\u001b[0m\u001b[0;36m365\u001b[0m \u001b[0;34m*\u001b[0m \u001b[0mfloor\u001b[0m\u001b[0;34m(\u001b[0m\u001b[0mt\u001b[0m\u001b[0;34m/\u001b[0m\u001b[0;36m365\u001b[0m\u001b[0;34m)\u001b[0m\u001b[0;34m)\u001b[0m\u001b[0;34m\u001b[0m\u001b[0;34m\u001b[0m\u001b[0m\n\u001b[0m\u001b[1;32m      4\u001b[0m \u001b[0;32melse\u001b[0m\u001b[0;34m:\u001b[0m\u001b[0;34m\u001b[0m\u001b[0;34m\u001b[0m\u001b[0m\n\u001b[1;32m      5\u001b[0m     \u001b[0mt_temp\u001b[0m \u001b[0;34m=\u001b[0m \u001b[0mt\u001b[0m\u001b[0;34m\u001b[0m\u001b[0;34m\u001b[0m\u001b[0m\n",
      "\u001b[0;31mNameError\u001b[0m: name 'floor' is not defined"
     ]
    }
   ],
   "source": [
    "t = 733\n",
    "if t > 365:\n",
    "    t_temp = t - (365 * floor(t/365))\n",
    "else:\n",
    "    t_temp = t\n",
    "x = t_temp/365 # as a percentage of the year to mimic a full year of seasonality\n",
    "a = a * (1+(0.5*sc.sin(x)))\n",
    "plt.figure()\n",
    "plt.plot()"
   ]
  },
  {
   "cell_type": "code",
   "execution_count": null,
   "metadata": {},
   "outputs": [],
   "source": [
    "365*2"
   ]
  },
  {
   "cell_type": "code",
   "execution_count": null,
   "metadata": {},
   "outputs": [],
   "source": []
  },
  {
   "cell_type": "code",
   "execution_count": null,
   "metadata": {},
   "outputs": [],
   "source": []
  }
 ],
 "metadata": {
  "kernelspec": {
   "display_name": "Python 3",
   "language": "python",
   "name": "python3"
  },
  "language_info": {
   "codemirror_mode": {
    "name": "ipython",
    "version": 3
   },
   "file_extension": ".py",
   "mimetype": "text/x-python",
   "name": "python",
   "nbconvert_exporter": "python",
   "pygments_lexer": "ipython3",
   "version": "3.8.2"
  },
  "toc": {
   "base_numbering": 1,
   "nav_menu": {},
   "number_sections": true,
   "sideBar": true,
   "skip_h1_title": false,
   "title_cell": "Table of Contents",
   "title_sidebar": "Contents",
   "toc_cell": true,
   "toc_position": {
    "height": "calc(100% - 180px)",
    "left": "10px",
    "top": "150px",
    "width": "370.6px"
   },
   "toc_section_display": true,
   "toc_window_display": true
  },
  "varInspector": {
   "cols": {
    "lenName": 16,
    "lenType": 16,
    "lenVar": 40
   },
   "kernels_config": {
    "python": {
     "delete_cmd_postfix": "",
     "delete_cmd_prefix": "del ",
     "library": "var_list.py",
     "varRefreshCmd": "print(var_dic_list())"
    },
    "r": {
     "delete_cmd_postfix": ") ",
     "delete_cmd_prefix": "rm(",
     "library": "var_list.r",
     "varRefreshCmd": "cat(var_dic_list()) "
    }
   },
   "position": {
    "height": "610.85px",
    "left": "1500px",
    "right": "20px",
    "top": "120px",
    "width": "333px"
   },
   "types_to_exclude": [
    "module",
    "function",
    "builtin_function_or_method",
    "instance",
    "_Feature"
   ],
   "window_display": true
  }
 },
 "nbformat": 4,
 "nbformat_minor": 2
}
