{
 "cells": [
  {
   "cell_type": "markdown",
   "metadata": {
    "toc": true
   },
   "source": [
    "<h1>Table of Contents<span class=\"tocSkip\"></span></h1>\n",
    "<div class=\"toc\"><ul class=\"toc-item\"><li><span><a href=\"#Parameters\" data-toc-modified-id=\"Parameters-1\"><span class=\"toc-item-num\">1&nbsp;&nbsp;</span>Parameters</a></span></li><li><span><a href=\"#functions\" data-toc-modified-id=\"functions-2\"><span class=\"toc-item-num\">2&nbsp;&nbsp;</span>functions</a></span></li><li><span><a href=\"#High-/-Low-Resources-in-Both-Dimensions\" data-toc-modified-id=\"High-/-Low-Resources-in-Both-Dimensions-3\"><span class=\"toc-item-num\">3&nbsp;&nbsp;</span>High / Low Resources in Both Dimensions</a></span></li><li><span><a href=\"#High-Low-resources-in-3D-2D\" data-toc-modified-id=\"High-Low-resources-in-3D-2D-4\"><span class=\"toc-item-num\">4&nbsp;&nbsp;</span>High Low resources in 3D 2D</a></span><ul class=\"toc-item\"><li><span><a href=\"#Min-viable-resources-at-meta_exp-=-1\" data-toc-modified-id=\"Min-viable-resources-at-meta_exp-=-1-4.1\"><span class=\"toc-item-num\">4.1&nbsp;&nbsp;</span>Min viable resources at meta_exp = 1</a></span></li><li><span><a href=\"#with-shrinkage\" data-toc-modified-id=\"with-shrinkage-4.2\"><span class=\"toc-item-num\">4.2&nbsp;&nbsp;</span>with shrinkage</a></span></li><li><span><a href=\"#3D-2D-resource-plot\" data-toc-modified-id=\"3D-2D-resource-plot-4.3\"><span class=\"toc-item-num\">4.3&nbsp;&nbsp;</span>3D 2D resource plot</a></span></li><li><span><a href=\"#scan-through-more-resource-densities-for-2D-result\" data-toc-modified-id=\"scan-through-more-resource-densities-for-2D-result-4.4\"><span class=\"toc-item-num\">4.4&nbsp;&nbsp;</span>scan through more resource densities for 2D result</a></span></li><li><span><a href=\"#Sensitivity\" data-toc-modified-id=\"Sensitivity-4.5\"><span class=\"toc-item-num\">4.5&nbsp;&nbsp;</span>Sensitivity</a></span><ul class=\"toc-item\"><li><span><a href=\"#2D\" data-toc-modified-id=\"2D-4.5.1\"><span class=\"toc-item-num\">4.5.1&nbsp;&nbsp;</span>2D</a></span></li><li><span><a href=\"#3D\" data-toc-modified-id=\"3D-4.5.2\"><span class=\"toc-item-num\">4.5.2&nbsp;&nbsp;</span>3D</a></span></li></ul></li></ul></li><li><span><a href=\"#Metabolic-Exponent-change-in-3D\" data-toc-modified-id=\"Metabolic-Exponent-change-in-3D-5\"><span class=\"toc-item-num\">5&nbsp;&nbsp;</span>Metabolic Exponent change in 3D</a></span><ul class=\"toc-item\"><li><span><a href=\"#2D\" data-toc-modified-id=\"2D-5.1\"><span class=\"toc-item-num\">5.1&nbsp;&nbsp;</span>2D</a></span><ul class=\"toc-item\"><li><span><a href=\"#Sensitivity\" data-toc-modified-id=\"Sensitivity-5.1.1\"><span class=\"toc-item-num\">5.1.1&nbsp;&nbsp;</span>Sensitivity</a></span></li></ul></li><li><span><a href=\"#3D\" data-toc-modified-id=\"3D-5.2\"><span class=\"toc-item-num\">5.2&nbsp;&nbsp;</span>3D</a></span><ul class=\"toc-item\"><li><span><a href=\"#Sensitivity\" data-toc-modified-id=\"Sensitivity-5.2.1\"><span class=\"toc-item-num\">5.2.1&nbsp;&nbsp;</span>Sensitivity</a></span></li><li><span><a href=\"#Heatmap\" data-toc-modified-id=\"Heatmap-5.2.2\"><span class=\"toc-item-num\">5.2.2&nbsp;&nbsp;</span>Heatmap</a></span></li></ul></li></ul></li><li><span><a href=\"#Different-Maturation-Times\" data-toc-modified-id=\"Different-Maturation-Times-6\"><span class=\"toc-item-num\">6&nbsp;&nbsp;</span>Different Maturation Times</a></span><ul class=\"toc-item\"><li><span><a href=\"#2D\" data-toc-modified-id=\"2D-6.1\"><span class=\"toc-item-num\">6.1&nbsp;&nbsp;</span>2D</a></span><ul class=\"toc-item\"><li><span><a href=\"#Sensitivity\" data-toc-modified-id=\"Sensitivity-6.1.1\"><span class=\"toc-item-num\">6.1.1&nbsp;&nbsp;</span>Sensitivity</a></span></li></ul></li><li><span><a href=\"#3D\" data-toc-modified-id=\"3D-6.2\"><span class=\"toc-item-num\">6.2&nbsp;&nbsp;</span>3D</a></span></li><li><span><a href=\"#Sensitivity\" data-toc-modified-id=\"Sensitivity-6.3\"><span class=\"toc-item-num\">6.3&nbsp;&nbsp;</span>Sensitivity</a></span></li></ul></li><li><span><a href=\"#Tests\" data-toc-modified-id=\"Tests-7\"><span class=\"toc-item-num\">7&nbsp;&nbsp;</span>Tests</a></span><ul class=\"toc-item\"><li><span><a href=\"#Multiproccessing\" data-toc-modified-id=\"Multiproccessing-7.1\"><span class=\"toc-item-num\">7.1&nbsp;&nbsp;</span>Multiproccessing</a></span></li></ul></li></ul></div>"
   ]
  },
  {
   "cell_type": "markdown",
   "metadata": {},
   "source": [
    "This notebook is to generate the plots that will be used in the final thesis report."
   ]
  },
  {
   "cell_type": "code",
   "execution_count": 1,
   "metadata": {},
   "outputs": [],
   "source": [
    "import Functions as F\n",
    "from numpy import arange, around, array, linspace, isnan\n",
    "\n",
    "from copy import deepcopy as deepcopy\n",
    "# plotting\n",
    "import matplotlib.pyplot as plt\n",
    "import seaborn as sb\n",
    "    # for in picture in picture graphs\n",
    "from mpl_toolkits.axes_grid1.inset_locator import inset_axes\n",
    "\n",
    "sb.set(style=\"whitegrid\")"
   ]
  },
  {
   "cell_type": "markdown",
   "metadata": {},
   "source": [
    "# Parameters "
   ]
  },
  {
   "cell_type": "code",
   "execution_count": 2,
   "metadata": {},
   "outputs": [],
   "source": [
    "m0 = 1**-3 #1mg#10**-4 #1g\n",
    "R0 = 0\n",
    "time = 365*10 #10**6\n",
    "shrinkage = 0.05\n",
    "resolution = 0.01\n",
    "c_vec = around(arange(0, 0.4, resolution), decimals=4)\n",
    "rho_vec = around(arange(0, 2, resolution), decimals=4)\n",
    "\n",
    "params = {\"alpha\" : 365*5, \"epsilon\" : 0.7,\n",
    "          \"norm_const\" : None, \"meta_prop\" : None, \"meta_exp\" : 0.75,\n",
    "          \"c\" : None, \"rho\" : None, \n",
    "          \"Xr\" : 0.5, \"amp\" : 0, \"period\" : 365, \"dimensionality\" : None\n",
    "}\n",
    "\n"
   ]
  },
  {
   "cell_type": "code",
   "execution_count": 3,
   "metadata": {},
   "outputs": [],
   "source": [
    "# figure sizes\n",
    "a4_sheet = array([8.3, 11.7]) # in inches\n",
    "a4_width = a4_sheet[0]\n",
    "a4_heigth = a4_sheet[1]\n",
    "a4_box = array([8.3, 8.3])\n",
    "titlefont = 10\n",
    "labelfont = 5"
   ]
  },
  {
   "cell_type": "code",
   "execution_count": 4,
   "metadata": {},
   "outputs": [
    {
     "data": {
      "text/plain": [
       "0.39"
      ]
     },
     "execution_count": 4,
     "metadata": {},
     "output_type": "execute_result"
    }
   ],
   "source": [
    "c_labels = [i if i in arange(0, 1.1, 0.1) else None for i in c_vec]\n",
    "rho_labels = [i if i in arange(0, 1.1, 0.1) else None for i in rho_vec]\n",
    "c_labels\n",
    "max(c_vec)"
   ]
  },
  {
   "cell_type": "markdown",
   "metadata": {},
   "source": [
    "# functions"
   ]
  },
  {
   "cell_type": "code",
   "execution_count": 5,
   "metadata": {},
   "outputs": [],
   "source": [
    "def sensitivity(key, values, c_vec, rho_vec, m0, R0, time, params, shrinkage):\n",
    "    \"\"\"\n",
    "        key (str) : the name of the param being examined in the parameter dictionary\n",
    "        values (list) : the values for the key \n",
    "        params (dict) : the parameter dictionary\n",
    "    \"\"\"\n",
    "\n",
    "    c_list = []\n",
    "    rho_list = []\n",
    "    for i, val in enumerate(values):\n",
    "        temp_params[key] = val\n",
    "        c, rho = F.find_optimum(c_vec, rho_vec, m0, R0, time, temp_params, shrinkage)\n",
    "        c_list.append(c)\n",
    "        rho_list.append(rho)\n",
    "        if i % 10 == 0: # progress update\n",
    "            print(round(i/len(values)*100), \"% finished.\")\n",
    "    return array([c_list, rho_list])"
   ]
  },
  {
   "cell_type": "code",
   "execution_count": 6,
   "metadata": {},
   "outputs": [],
   "source": [
    "# copy params for plotting this figure\n",
    "temp_params = deepcopy(params)"
   ]
  },
  {
   "cell_type": "markdown",
   "metadata": {},
   "source": [
    "# High / Low Resources in Both Dimensions"
   ]
  },
  {
   "cell_type": "markdown",
   "metadata": {},
   "source": [
    "# High Low resources in 3D 2D"
   ]
  },
  {
   "cell_type": "markdown",
   "metadata": {},
   "source": [
    "## Min viable resources at meta_exp = 1\n",
    "meta_exp = 1 being used as this is the main factor that determines how low it can go."
   ]
  },
  {
   "cell_type": "code",
   "execution_count": 7,
   "metadata": {},
   "outputs": [],
   "source": [
    "## copy params\n",
    "temp_params = deepcopy(params)\n",
    "temp_params\n",
    "m0 = 10**-3"
   ]
  },
  {
   "cell_type": "code",
   "execution_count": 8,
   "metadata": {
    "scrolled": true
   },
   "outputs": [],
   "source": [
    "dimensions = [\"2D\", \"3D\"]\n",
    "temp_params[\"c\"] = 0.01\n",
    "temp_params[\"rho\"] = 0.01\n",
    "temp_params[\"meta_exp\"] = 0.75\n"
   ]
  },
  {
   "cell_type": "code",
   "execution_count": 9,
   "metadata": {
    "scrolled": false
   },
   "outputs": [
    {
     "name": "stderr",
     "output_type": "stream",
     "text": [
      "/home/donal/Documents/Project/code/Functions.py:221: RuntimeWarning: invalid value encountered in double_scalars\n",
      "  return (m**gamma) * a0\n",
      "/home/donal/Documents/Project/code/Functions.py:246: RuntimeWarning: invalid value encountered in double_scalars\n",
      "  return (m**-beta) * th0\n",
      "/home/donal/Documents/Project/code/Functions.py:385: RuntimeWarning: invalid value encountered in double_scalars\n",
      "  B_m= 0.14 * m**(meta_exp) # J/s\n",
      "/home/donal/Documents/Project/code/Functions.py:430: RuntimeWarning: invalid value encountered in double_scalars\n",
      "  R = c * norm_const * (m**rho) # kg/d\n",
      "/home/donal/Documents/Project/code/Functions.py:366: RuntimeWarning: invalid value encountered in double_scalars\n",
      "  return Q * c * (m**rho) * exp(-(k+Z)*(t-alpha))\n"
     ]
    },
    {
     "name": "stdout",
     "output_type": "stream",
     "text": [
      "saved\n",
      "2D min Resources is:  0.1145\n",
      "3D min Resources is:  0.025\n"
     ]
    },
    {
     "data": {
      "image/png": "[encoded data removed]",
      "text/plain": [
       "<Figure size 432x288 with 1 Axes>"
      ]
     },
     "metadata": {},
     "output_type": "display_data"
    },
    {
     "data": {
      "image/png": "[encoded data removed]",
      "text/plain": [
       "<Figure size 432x288 with 1 Axes>"
      ]
     },
     "metadata": {},
     "output_type": "display_data"
    }
   ],
   "source": [
    "resource_vec = arange(0, 1, 0.0005)\n",
    "alpha = temp_params[\"alpha\"]\n",
    "for dim in dimensions:\n",
    "    temp_params[\"dimensionality\"] = dim\n",
    "    for Xr in resource_vec:\n",
    "        # assign resource density and simulate\n",
    "        temp_params[\"Xr\"] = Xr\n",
    "        result = F.dmdt_integrate(m0, R0, time, temp_params)\n",
    "        mass = result[:,0]\n",
    "        # check for viable curve\n",
    "    #     if mass[params[\"alpha\"]] >= mass[0] and mass[alpha] <= mass[-1]and not isnan(mass[-1]):# and mass[-1] >= mass[params[\"alpha\"]]:\n",
    "        if mass[-1] >= mass[alpha]*(1-shrinkage) and mass[0] < mass[-1]:\n",
    "            min_viable = Xr\n",
    "            if dim == \"2D\":\n",
    "                min_viable_2D = min_viable\n",
    "            if dim == \"3D\":\n",
    "                min_viable_3D = min_viable\n",
    "\n",
    "            viable_curve = F.dmdt_integrate(m0, R0, time, temp_params)\n",
    "            mass = viable_curve[:,0]\n",
    "            repro = viable_curve[:,1]\n",
    "            t = arange(0, time, 1)\n",
    "            plt.figure()\n",
    "            plt.plot(t, mass, label=\"Somatic Growth\")\n",
    "            plt.plot(t, repro, label=\"Cumulative Reproduction\")\n",
    "            plt.legend(loc= \"best\")\n",
    "            plt.title(\"Low Resource Density Plot in \" +dim)\n",
    "    #         plt.text(params[\"alpha\"]+0.3*time, 25, \"Resource Density = \" + str(params[\"Xr\"]) + \"kg\")\n",
    "            plt.xlabel(\"Time (days)\")\n",
    "            plt.ylabel(\"Mass (kg)\")\n",
    "            if dim ==\"2D\":\n",
    "                plt.savefig(\"../results/report_growth_curve.pdf\")\n",
    "                print(\"saved\")\n",
    "            break\n",
    "\n",
    "print(\"2D min Resources is: \", min_viable_2D)\n",
    "print(\"3D min Resources is: \", min_viable_3D)"
   ]
  },
  {
   "cell_type": "code",
   "execution_count": 10,
   "metadata": {},
   "outputs": [],
   "source": [
    "# exponents = around(linspace(0.75, 0.85, 8), decimals=4)\n",
    "# dimensions = [\"2D\", \"3D\"]\n",
    "\n",
    "# # c, rho vectors\n",
    "\n",
    "# rho2D = []\n",
    "# c2D = []\n",
    "# rho3D = []\n",
    "# c3D = []\n",
    "\n",
    "# ticker = 0\n",
    "# plt.figure(figsize=(a4_sheet))\n",
    "# plt.suptitle(\"Alpha = \" + str(temp_params[\"alpha\"]), fontsize=titlefont)\n",
    "# for dim in dimensions:\n",
    "#     for meta_exp in exponents:\n",
    "#         ticker= ticker +1\n",
    "#         temp_params[\"dimensionality\"] = dim\n",
    "#         temp_params[\"meta_exp\"] = meta_exp\n",
    "# #         #change norm_const for dim\n",
    "# #         if dim == \"2D\":\n",
    "# #             temp_params[\"norm_const\"] = norm_const_2D\n",
    "# #         else:\n",
    "# #             temp_params[\"norm_const\"] = norm_const_3D\n",
    "#         #plot\n",
    "#         ax = plt.subplot(len(exponents), 2, ticker)\n",
    "#         c, rho = F.plot_optimum(c_vec, rho_vec, m0, R0, time, temp_params, shrinkage=0)\n",
    "        \n",
    "        \n",
    "#         plt.title(dim + \"Metaboic Exponent = \" + str(meta_exp), fontsize=labelfont)\n",
    "\n",
    "#     # subsub-plots in top right\n",
    "#         if len(c) == 1:\n",
    "#             c = float(c)\n",
    "#             rho = float(rho)\n",
    "#             plt.xlabel(\"c; opt = \" + str(c), fontsize=labelfont)\n",
    "#             plt.ylabel(\"rho; opt = \" + str(rho), fontsize=labelfont)\n",
    "            \n",
    "#         else:\n",
    "#             c= c[0]\n",
    "#             rho= rho[0]\n",
    "#             plt.xlabel(\"c; opt = \" + str(c), fontsize=labelfont)\n",
    "#             plt.ylabel(\"rho; opt = \" + str(rho), fontsize=labelfont)\n",
    "#         # record c and rho for seperate growth plots \n",
    "#         if dim == \"2D\":\n",
    "#             c2D.append(c)\n",
    "#             rho2D.append(rho)\n",
    "#         else:\n",
    "#             c3D.append(c)\n",
    "#             rho3D.append(rho)\n",
    "\n",
    "# #         growth_plot = inset_axes(ax, width=\"30%\", height=\"20%\", loc=\"upper right\")\n",
    "# #         temp_params[\"c\"] = c\n",
    "# #         temp_params[\"rho\"] = rho\n",
    "# #         F.plot_supply(m0, R0, time, temp_params)\n",
    "# #         plt.xticks(color=\"w\")\n",
    "# #         plt.xlabel(\"Mass\", color=\"w\", fontsize=labelfont)\n",
    "# #         plt.yticks(color=\"w\")\n",
    "# #         plt.ylabel(\"Mass\", color=\"w\", fontsize=labelfont)\n",
    "# plt.savefig(\"../results/report_meta_exp_3D2D.pdf\")\n"
   ]
  },
  {
   "cell_type": "code",
   "execution_count": 11,
   "metadata": {},
   "outputs": [
    {
     "data": {
      "text/plain": [
       "{'alpha': 1825,\n",
       " 'epsilon': 0.7,\n",
       " 'norm_const': None,\n",
       " 'meta_prop': None,\n",
       " 'meta_exp': 0.75,\n",
       " 'c': 0.01,\n",
       " 'rho': 0.01,\n",
       " 'Xr': 0.025,\n",
       " 'amp': 0,\n",
       " 'period': 365,\n",
       " 'dimensionality': '3D'}"
      ]
     },
     "execution_count": 11,
     "metadata": {},
     "output_type": "execute_result"
    }
   ],
   "source": [
    "temp_params"
   ]
  },
  {
   "cell_type": "markdown",
   "metadata": {},
   "source": [
    "## with shrinkage"
   ]
  },
  {
   "cell_type": "code",
   "execution_count": 12,
   "metadata": {},
   "outputs": [
    {
     "name": "stdout",
     "output_type": "stream",
     "text": [
      "saved\n"
     ]
    },
    {
     "data": {
      "image/png": "[encoded data removed]",
      "text/plain": [
       "<Figure size 432x288 with 1 Axes>"
      ]
     },
     "metadata": {},
     "output_type": "display_data"
    }
   ],
   "source": [
    "temp_params = deepcopy(params)\n",
    "temp_params[\"dimensionality\"] = \"2D\"\n",
    "dim = \"2D\"\n",
    "temp_params[\"Xr\"] = .12\n",
    "temp_params[\"c\"] = 0.01\n",
    "temp_params[\"rho\"] = 0.01\n",
    "exponents = around(arange(0.75, 1.001, 0.05), decimals=4)\n",
    "plt.figure()\n",
    "for meta_exp in exponents:\n",
    "        # assign resource density and simulate\n",
    "        temp_params[\"meta_exp\"] = meta_exp\n",
    "        result = F.dmdt_integrate(m0, R0, time, temp_params)\n",
    "        mass = result[:,0]\n",
    "        # check for viable curve\n",
    "    #     if mass[params[\"alpha\"]] >= mass[0] and mass[alpha] <= mass[-1]and not isnan(mass[-1]):# and mass[-1] >= mass[params[\"alpha\"]]:\n",
    "#         if mass[-1] >= mass[alpha]*(1-shrinkage) and mass[0] < mass[-1]:\n",
    "\n",
    "\n",
    "        viable_curve = F.dmdt_integrate(m0, R0, time, temp_params)\n",
    "        mass = viable_curve[:,0]\n",
    "        repro = viable_curve[:,1]\n",
    "        t = arange(0, time, 1)\n",
    "        \n",
    "        plt.plot(t, mass, label=f\"{meta_exp}\")\n",
    "#         plt.plot(t, repro, label=\"Reproductive Output\")\n",
    "        plt.legend(loc= \"upper right\")\n",
    "        plt.title(f\"Low Resource Density Plot in {dim}\")\n",
    "#         plt.text(params[\"alpha\"]+0.3*time, 25, \"Resource Density = \" + str(params[\"Xr\"]) + \"kg\")\n",
    "        plt.xlabel(\"Time (days)\")\n",
    "        plt.ylabel(\"Mass (kg)\")\n",
    "\n",
    "plt.savefig(\"../results/report_growth_curve_vary_exp.pdf\")\n",
    "print(\"saved\")\n"
   ]
  },
  {
   "cell_type": "code",
   "execution_count": 13,
   "metadata": {},
   "outputs": [],
   "source": [
    "# exponents = around(linspace(0.75, 1, 8), decimals=4)\n",
    "# dimensions = [\"2D\", \"3D\"]\n",
    "\n",
    "# # c, rho vectors\n",
    "\n",
    "# rho2D = []\n",
    "# c2D = []\n",
    "# rho3D = []\n",
    "# c3D = []\n",
    "\n",
    "# ticker = 0\n",
    "# plt.figure(figsize=(a4_sheet))\n",
    "# plt.suptitle(\"Alpha = \" + str(temp_params[\"alpha\"]), fontsize=titlefont)\n",
    "# for dim in dimensions:\n",
    "#     for meta_exp in exponents:\n",
    "#         ticker= ticker +1\n",
    "#         temp_params[\"dimensionality\"] = dim\n",
    "#         temp_params[\"meta_exp\"] = meta_exp\n",
    "# #         #change norm_const for dim\n",
    "# #         if dim == \"2D\":\n",
    "# #             temp_params[\"norm_const\"] = norm_const_2D\n",
    "# #         else:\n",
    "# #             temp_params[\"norm_const\"] = norm_const_3D\n",
    "#         #plot\n",
    "#         ax = plt.subplot(len(exponents), 2, ticker)\n",
    "#         c, rho = F.plot_optimum(c_vec, rho_vec, m0, R0, time, temp_params, shrinkage=shrinkage)\n",
    "        \n",
    "        \n",
    "#         plt.title(dim + \"Metaboic Exponent = \" + str(meta_exp), fontsize=labelfont)\n",
    "\n",
    "#     # subsub-plots in top right\n",
    "#         if len(c) == 1:\n",
    "#             c = float(c)\n",
    "#             rho = float(rho)\n",
    "#             plt.xlabel(\"c; opt = \" + str(c), fontsize=labelfont)\n",
    "#             plt.ylabel(\"rho; opt = \" + str(rho), fontsize=labelfont)\n",
    "            \n",
    "#         else:\n",
    "#             c= c[0]\n",
    "#             rho= rho[0]\n",
    "#             plt.xlabel(\"c; opt = \" + str(c), fontsize=labelfont)\n",
    "#             plt.ylabel(\"rho; opt = \" + str(rho), fontsize=labelfont)\n",
    "#         # record c and rho for seperate growth plots \n",
    "#         if dim == \"2D\":\n",
    "#             c2D.append(c)\n",
    "#             rho2D.append(rho)\n",
    "#         else:\n",
    "#             c3D.append(c)\n",
    "#             rho3D.append(rho)\n",
    "\n",
    "# #         growth_plot = inset_axes(ax, width=\"30%\", height=\"20%\", loc=\"upper right\")\n",
    "# #         temp_params[\"c\"] = c\n",
    "# #         temp_params[\"rho\"] = rho\n",
    "# #         F.plot_supply(m0, R0, time, temp_params)\n",
    "# #         plt.xticks(color=\"w\")\n",
    "# #         plt.xlabel(\"Mass\", color=\"w\", fontsize=labelfont)\n",
    "# #         plt.yticks(color=\"w\")\n",
    "# #         plt.ylabel(\"Mass\", color=\"w\", fontsize=labelfont)\n",
    "# plt.savefig(\"../results/report_meta_exp_3D2D_shrink.pdf\")\n"
   ]
  },
  {
   "cell_type": "markdown",
   "metadata": {},
   "source": [
    "## 3D 2D resource plot"
   ]
  },
  {
   "cell_type": "code",
   "execution_count": 14,
   "metadata": {},
   "outputs": [
    {
     "name": "stdout",
     "output_type": "stream",
     "text": [
      "Minimum 2D: 0.1145\n",
      "Minimum 3D: 0.025\n"
     ]
    }
   ],
   "source": [
    "print(f\"Minimum 2D: {min_viable_2D}\")\n",
    "print(f\"Minimum 3D: {min_viable_3D}\")"
   ]
  },
  {
   "cell_type": "code",
   "execution_count": 15,
   "metadata": {},
   "outputs": [],
   "source": [
    "# parameters\n",
    "temp_params = deepcopy(params)\n",
    "resources = [\"Low\", \"High\"] # take resources at min viable from above and 1kg which is high\n",
    "high_res = 100#kg\n"
   ]
  },
  {
   "cell_type": "code",
   "execution_count": 16,
   "metadata": {
    "scrolled": true
   },
   "outputs": [
    {
     "data": {
      "text/plain": [
       "{'alpha': 1825,\n",
       " 'epsilon': 0.7,\n",
       " 'norm_const': None,\n",
       " 'meta_prop': None,\n",
       " 'meta_exp': 0.75,\n",
       " 'c': None,\n",
       " 'rho': None,\n",
       " 'Xr': None,\n",
       " 'amp': 0,\n",
       " 'period': 365,\n",
       " 'dimensionality': None}"
      ]
     },
     "execution_count": 16,
     "metadata": {},
     "output_type": "execute_result"
    }
   ],
   "source": [
    "temp_params[\"Xr\"] = None\n",
    "# temp_params[\"meta_exp\"] = 0.75\n",
    "temp_params"
   ]
  },
  {
   "cell_type": "code",
   "execution_count": 17,
   "metadata": {},
   "outputs": [
    {
     "name": "stderr",
     "output_type": "stream",
     "text": [
      "/home/donal/.local/lib/python3.8/site-packages/scipy/integrate/odepack.py:248: ODEintWarning: Excess work done on this call (perhaps wrong Dfun type). Run with full_output = 1 to get quantitative information.\n",
      "  warnings.warn(warning_msg, ODEintWarning)\n",
      "/home/donal/Documents/Project/code/Functions.py:430: RuntimeWarning: invalid value encountered in double_scalars\n",
      "  R = c * norm_const * (m**rho) # kg/d\n",
      "/home/donal/Documents/Project/code/Functions.py:366: RuntimeWarning: invalid value encountered in double_scalars\n",
      "  return Q * c * (m**rho) * exp(-(k+Z)*(t-alpha))\n",
      "/home/donal/Documents/Project/code/Functions.py:216: RuntimeWarning: invalid value encountered in double_scalars\n",
      "  return (m**gamma) * a0\n",
      "/home/donal/Documents/Project/code/Functions.py:241: RuntimeWarning: invalid value encountered in double_scalars\n",
      "  return (m**-beta) * th0\n",
      "/home/donal/Documents/Project/code/Functions.py:221: RuntimeWarning: invalid value encountered in double_scalars\n",
      "  return (m**gamma) * a0\n",
      "/home/donal/Documents/Project/code/Functions.py:246: RuntimeWarning: invalid value encountered in double_scalars\n",
      "  return (m**-beta) * th0\n"
     ]
    },
    {
     "data": {
      "image/png": "[encoded data removed]",
      "text/plain": [
       "<Figure size 597.6x657.36 with 9 Axes>"
      ]
     },
     "metadata": {},
     "output_type": "display_data"
    }
   ],
   "source": [
    "## neta exp = 1\n",
    "# meta_exp = 0.75\n",
    "temp_params = deepcopy(params)\n",
    "temp_params[\"Xr\"] = None\n",
    "temp_params[\"meta_exp\"] = 1\n",
    "## PRODUCE CLEAN VERSION for report\n",
    "# store values\n",
    "value_dict = {\"2D\":{}, \"3D\": {}}\n",
    "\n",
    "fig = plt.figure(figsize=(a4_width, a4_width*1.1))\n",
    "# plt.suptitle(\"Reproductive Output (kg)\" + \"metabolic exponent\" + str(temp_params[\"meta_exp\"]))\n",
    "ticker = 0\n",
    "for res in resources:\n",
    "    for dim in dimensions:\n",
    "        ticker = ticker +1\n",
    "        if res == \"Low\":\n",
    "            if dim == \"2D\":\n",
    "                Xr = min_viable_2D\n",
    "            else:\n",
    "                Xr = min_viable_3D\n",
    "        else:\n",
    "            Xr = high_res\n",
    "        temp_params[\"Xr\"] = Xr\n",
    "        temp_params[\"dimensionality\"] = dim\n",
    "        ax = plt.subplot(2,2, ticker)\n",
    "#         plt.title(str(temp_params[\"Xr\"])+ f\"kg resources in {dim}\")\n",
    "        plt.title(f\"{dim} {res}\")\n",
    "        # sumulate and obtain optima\n",
    "        repro_array = F.reproduction_array(c_vec, rho_vec, m0, R0, time, \n",
    "                                           temp_params, shrinkage=shrinkage)\n",
    "        max_ind = F.find_max(repro_array)\n",
    "        i, j = max_ind\n",
    "        c_opt = c_vec[j]\n",
    "        rho_opt = rho_vec[i]\n",
    "        value_dict[dim].update({str(Xr):[c_opt[0],rho_opt[0]]})\n",
    "        \n",
    "        \n",
    "        #assign optimum rho and c\n",
    "        temp_params[\"c\"] = c_opt[0] # need to call element for growth curve plot\n",
    "        temp_params[\"rho\"] = rho_opt[0]\n",
    "\n",
    "        ## plot the result\n",
    "        #heatmap\n",
    "        #tick labels\n",
    "        c_labels = [i if i in around(arange(0, max(c_vec), 0.1), decimals=1) \n",
    "                    else None for i in around(c_vec, decimals=2)]\n",
    "\n",
    "        rho_labels = [i if i in around(arange(0, max(rho_vec), 0.2), decimals=1)\n",
    "                    else None for i in around(rho_vec, decimals=2)]\n",
    "\n",
    "        sb.heatmap(repro_array,\n",
    "                xticklabels = c_labels, \n",
    "                yticklabels= rho_labels, \n",
    "                   linewidths=0.0,rasterized=True).invert_yaxis() # ^linewidths and rasterized to stop gridlines whens saved as pdf\n",
    "        #scale circle for highest value with resolution of heatmap\n",
    "        offset = resolution *10\n",
    "        size = resolution * 2000 \n",
    "        # circle highest value\n",
    "        plt.scatter(j+offset, i+offset, s=size, linewidth=3, \n",
    "                    facecolors='none', edgecolors='c' )\n",
    "#         plt.ylabel(\"rho\")\n",
    "#         plt.xlabel(\"c\")\n",
    "\n",
    "#common axis labels\n",
    "fig.add_subplot(111, frameon=False)\n",
    "# figure labels\n",
    "plt.text(0.09, 0.9, \"a)\",transform=fig.transFigure)\n",
    "plt.text(0.51, 0.9, \"b)\",transform=fig.transFigure)\n",
    "plt.text(0.09, 0.48, \"c)\",transform=fig.transFigure)\n",
    "plt.text(0.51, 0.48, \"d)\",transform=fig.transFigure)\n",
    "plt.grid(False)\n",
    "plt.tick_params(labelcolor=\"none\")\n",
    "plt.xlabel(\"$c$\")\n",
    "plt.ylabel('$\\\\rho$')\n",
    "plt.savefig(\"../results/report_3D2D_HighLowResCLEAN_meta_exp_1.pdf\")"
   ]
  },
  {
   "cell_type": "code",
   "execution_count": 18,
   "metadata": {
    "scrolled": true
   },
   "outputs": [
    {
     "name": "stderr",
     "output_type": "stream",
     "text": [
      "/home/donal/Documents/Project/code/Functions.py:221: RuntimeWarning: invalid value encountered in double_scalars\n",
      "  return (m**gamma) * a0\n",
      "/home/donal/Documents/Project/code/Functions.py:246: RuntimeWarning: invalid value encountered in double_scalars\n",
      "  return (m**-beta) * th0\n",
      "/home/donal/Documents/Project/code/Functions.py:385: RuntimeWarning: invalid value encountered in double_scalars\n",
      "  B_m= 0.14 * m**(meta_exp) # J/s\n",
      "/home/donal/Documents/Project/code/Functions.py:430: RuntimeWarning: invalid value encountered in double_scalars\n",
      "  R = c * norm_const * (m**rho) # kg/d\n",
      "/home/donal/Documents/Project/code/Functions.py:366: RuntimeWarning: invalid value encountered in double_scalars\n",
      "  return Q * c * (m**rho) * exp(-(k+Z)*(t-alpha))\n",
      "/home/donal/.local/lib/python3.8/site-packages/scipy/integrate/odepack.py:248: ODEintWarning: Excess work done on this call (perhaps wrong Dfun type). Run with full_output = 1 to get quantitative information.\n",
      "  warnings.warn(warning_msg, ODEintWarning)\n",
      "/home/donal/Documents/Project/code/Functions.py:216: RuntimeWarning: invalid value encountered in double_scalars\n",
      "  return (m**gamma) * a0\n",
      "/home/donal/Documents/Project/code/Functions.py:241: RuntimeWarning: invalid value encountered in double_scalars\n",
      "  return (m**-beta) * th0\n"
     ]
    },
    {
     "data": {
      "image/png": "[encoded data removed]",
      "text/plain": [
       "<Figure size 597.6x657.36 with 9 Axes>"
      ]
     },
     "metadata": {},
     "output_type": "display_data"
    }
   ],
   "source": [
    "# meta_exp = 0.75\n",
    "temp_params = deepcopy(params)\n",
    "temp_params[\"meta_exp\"] = 0.75\n",
    "temp_params[\"Xr\"] = None\n",
    "## PRODUCE CLEAN VERSION for report\n",
    "# store values\n",
    "value_dict = {\"2D\":{}, \"3D\": {}}\n",
    "\n",
    "fig = plt.figure(figsize=(a4_width, a4_width*1.1))\n",
    "# plt.suptitle(\"Reproductive Output (kg)\" + \"metabolic exponent\" + str(temp_params[\"meta_exp\"]))\n",
    "ticker = 0\n",
    "for res in resources:\n",
    "    for dim in dimensions:\n",
    "        ticker = ticker +1\n",
    "        if res == \"Low\":\n",
    "            if dim == \"2D\":\n",
    "                Xr = min_viable_2D\n",
    "            else:\n",
    "                Xr = min_viable_3D\n",
    "        else:\n",
    "            Xr = high_res\n",
    "        temp_params[\"Xr\"] = Xr\n",
    "        temp_params[\"dimensionality\"] = dim\n",
    "        ax = plt.subplot(2,2, ticker)\n",
    "#         plt.title(str(temp_params[\"Xr\"])+ f\"kg resources in {dim}\")\n",
    "        plt.title(f\"{dim} {res}\")\n",
    "        # sumulate and obtain optima\n",
    "        repro_array = F.reproduction_array(c_vec, rho_vec, m0, R0, time, \n",
    "                                           temp_params, shrinkage=shrinkage)\n",
    "        max_ind = F.find_max(repro_array)\n",
    "        i, j = max_ind\n",
    "        c_opt = c_vec[j]\n",
    "        rho_opt = rho_vec[i]\n",
    "        value_dict[dim].update({str(Xr):[c_opt[0],rho_opt[0]]})\n",
    "        \n",
    "        \n",
    "        #assign optimum rho and c\n",
    "        temp_params[\"c\"] = c_opt[0] # need to call element for growth curve plot\n",
    "        temp_params[\"rho\"] = rho_opt[0]\n",
    "\n",
    "        ## plot the result\n",
    "        #heatmap\n",
    "        #tick labels\n",
    "        c_labels = [i if i in around(arange(0, max(c_vec), 0.1), decimals=1) \n",
    "                    else None for i in around(c_vec, decimals=2)]\n",
    "\n",
    "        rho_labels = [i if i in around(arange(0, max(rho_vec), 0.2), decimals=1)\n",
    "                    else None for i in around(rho_vec, decimals=2)]\n",
    "\n",
    "        sb.heatmap(repro_array,\n",
    "                xticklabels = c_labels, \n",
    "                yticklabels= rho_labels, \n",
    "                   linewidths=0.0,rasterized=True).invert_yaxis() # ^linewidths and rasterized to stop gridlines whens saved as pdf\n",
    "        #scale circle for highest value with resolution of heatmap\n",
    "        offset = resolution *10\n",
    "        size = resolution * 2000 \n",
    "        # circle highest value\n",
    "        plt.scatter(j+offset, i+offset, s=size, linewidth=3, \n",
    "                    facecolors='none', edgecolors='c' )\n",
    "#         plt.ylabel(\"rho\")\n",
    "#         plt.xlabel(\"c\")\n",
    "\n",
    "#common axis labels\n",
    "fig.add_subplot(111, frameon=False)\n",
    "# figure labels\n",
    "plt.text(0.09, 0.9, \"a)\",transform=fig.transFigure)\n",
    "plt.text(0.51, 0.9, \"b)\",transform=fig.transFigure)\n",
    "plt.text(0.09, 0.48, \"c)\",transform=fig.transFigure)\n",
    "plt.text(0.51, 0.48, \"d)\",transform=fig.transFigure)\n",
    "plt.grid(False)\n",
    "plt.tick_params(labelcolor=\"none\")\n",
    "plt.xlabel(\"$c$\")\n",
    "plt.ylabel('$\\\\rho$')\n",
    "plt.savefig(\"../results/report_3D2D_HighLowResCLEAN_meta_exp_075.pdf\")"
   ]
  },
  {
   "cell_type": "code",
   "execution_count": 19,
   "metadata": {},
   "outputs": [
    {
     "ename": "SyntaxError",
     "evalue": "'break' outside loop (<ipython-input-19-9c51ae8bfe17>, line 1)",
     "output_type": "error",
     "traceback": [
      "\u001b[0;36m  File \u001b[0;32m\"<ipython-input-19-9c51ae8bfe17>\"\u001b[0;36m, line \u001b[0;32m1\u001b[0m\n\u001b[0;31m    break # to stop running\u001b[0m\n\u001b[0m    ^\u001b[0m\n\u001b[0;31mSyntaxError\u001b[0m\u001b[0;31m:\u001b[0m 'break' outside loop\n"
     ]
    }
   ],
   "source": [
    "break # to stop running"
   ]
  },
  {
   "cell_type": "code",
   "execution_count": null,
   "metadata": {
    "scrolled": true
   },
   "outputs": [],
   "source": [
    "# store values\n",
    "value_dict = {\"2D\":{}, \"3D\": {}}\n",
    "\n",
    "fig = plt.figure(figsize=(a4_width, a4_width))\n",
    "# plt.suptitle(\"Reproductive Output (kg)\" + \"metabolic exponent\" + str(temp_params[\"meta_exp\"]))\n",
    "ticker = 0\n",
    "for res in resources:\n",
    "    for dim in dimensions:\n",
    "        ticker = ticker +1\n",
    "        if res == \"low\":\n",
    "            if dim == \"2D\":\n",
    "                Xr = min_viable_2D\n",
    "            else:\n",
    "                Xr = min_viable_3D\n",
    "        else:\n",
    "            Xr = high_res\n",
    "        temp_params[\"Xr\"] = Xr\n",
    "        temp_params[\"dimensionality\"] = dim\n",
    "        ax = plt.subplot(2,2, ticker)\n",
    "        plt.title(str(temp_params[\"Xr\"])+ \"kg resources in \"+ \" \" + dim)\n",
    "        # sumulate and obtain optima\n",
    "        repro_array = F.reproduction_array(c_vec, rho_vec, m0, R0, time, \n",
    "                                           temp_params, shrinkage=shrinkage)\n",
    "        max_ind = F.find_max(repro_array)\n",
    "        i, j = max_ind\n",
    "        c_opt = c_vec[j]\n",
    "        rho_opt = rho_vec[i]\n",
    "        value_dict[dim].update({str(Xr):[c_opt[0],rho_opt[0]]})\n",
    "        \n",
    "        \n",
    "        #assign optimum rho and c\n",
    "        temp_params[\"c\"] = c_opt[0] # need to call element for growth curve plot\n",
    "        temp_params[\"rho\"] = rho_opt[0]\n",
    "\n",
    "        ## plot the result\n",
    "        #heatmap\n",
    "        #tick labels\n",
    "        c_labels = [i if i in around(arange(0, max(c_vec), 0.1), decimals=1) \n",
    "                    else None for i in around(c_vec, decimals=2)]\n",
    "\n",
    "        rho_labels = [i if i in around(arange(0, max(rho_vec), 0.2), decimals=1)\n",
    "                    else None for i in around(rho_vec, decimals=2)]\n",
    "\n",
    "        sb.heatmap(repro_array,\n",
    "                xticklabels = c_labels, \n",
    "                yticklabels= rho_labels, \n",
    "                   linewidths=0.0,rasterized=True).invert_yaxis() # ^linewidths and rasterized to stop gridlines whens saved as pdf\n",
    "        #scale circle for highest value with resolution of heatmap\n",
    "        offset = resolution *10\n",
    "        size = resolution * 2000 \n",
    "        # circle highest value\n",
    "        plt.scatter(j+offset, i+offset, s=size, linewidth=3, \n",
    "                    facecolors='none', edgecolors='c' )\n",
    "#         plt.ylabel(\"rho\")\n",
    "#         plt.xlabel(\"c\")\n",
    "\n",
    "#common axis labels\n",
    "fig.add_subplot(111, frameon=False)\n",
    "# figure labels\n",
    "\n",
    "plt.grid(False)\n",
    "plt.tick_params(labelcolor=\"none\")\n",
    "plt.xlabel(\"c\")\n",
    "plt.ylabel('$\\\\rho$')\n",
    "plt.savefig(\"../results/report_3D2D_HighLowRes_meta.pdf\")"
   ]
  },
  {
   "cell_type": "code",
   "execution_count": null,
   "metadata": {},
   "outputs": [],
   "source": [
    "value_dict\n"
   ]
  },
  {
   "cell_type": "code",
   "execution_count": null,
   "metadata": {},
   "outputs": [],
   "source": [
    "c_opt[0]"
   ]
  },
  {
   "cell_type": "code",
   "execution_count": null,
   "metadata": {},
   "outputs": [],
   "source": [
    "# break"
   ]
  },
  {
   "cell_type": "code",
   "execution_count": null,
   "metadata": {},
   "outputs": [],
   "source": [
    "temp_params[\"Xr\"] = 100#min_viable_2D\n",
    "temp_params[\"dimensionality\"] = \"3D\""
   ]
  },
  {
   "cell_type": "code",
   "execution_count": null,
   "metadata": {
    "scrolled": true
   },
   "outputs": [],
   "source": [
    "c, rho = F.plot_optimum(c_vec, rho_vec, m0, R0, time, temp_params, shrinkage=shrinkage)\n",
    "temp_params[\"c\"], temp_params[\"rho\"] = c[0], rho[0]"
   ]
  },
  {
   "cell_type": "code",
   "execution_count": null,
   "metadata": {},
   "outputs": [],
   "source": [
    "F.plot_supply(m0, R0, time, temp_params)"
   ]
  },
  {
   "cell_type": "code",
   "execution_count": null,
   "metadata": {
    "scrolled": true
   },
   "outputs": [],
   "source": [
    "temp_params"
   ]
  },
  {
   "cell_type": "markdown",
   "metadata": {},
   "source": [
    "## scan through more resource densities for 2D result"
   ]
  },
  {
   "cell_type": "code",
   "execution_count": null,
   "metadata": {},
   "outputs": [],
   "source": [
    "temp_params = deepcopy(params)\n",
    "resources = linspace(0.1, 0.5, 6)\n",
    "temp_params"
   ]
  },
  {
   "cell_type": "code",
   "execution_count": null,
   "metadata": {},
   "outputs": [],
   "source": [
    "temp_params[\"Xr\"] = min_viable_2D\n",
    "temp_params[\"dimensionality\"] = \"2D\"\n",
    "temp_params"
   ]
  },
  {
   "cell_type": "code",
   "execution_count": null,
   "metadata": {
    "scrolled": true
   },
   "outputs": [],
   "source": [
    "# # to store values\n",
    "# value_dict = {}\n",
    "# fig = plt.figure(figsize=(a4_width, 0.8*a4_width))\n",
    "\n",
    "# for plot_ind, Xr in enumerate(resources,1):\n",
    "#     temp_params[\"Xr\"] = Xr\n",
    "#     repro_array = F.reproduction_array(c_vec, rho_vec, m0, R0, time, \n",
    "#                                        temp_params, shrinkage=shrinkage)\n",
    "#     ind = F. find_max(repro_array)\n",
    "#     i, j = ind\n",
    "#     c = c_vec[j]\n",
    "#     rho = rho_vec[i]\n",
    "#     value_dict[str(Xr)] = [c,rho]\n",
    "    \n",
    "    \n",
    "#     ax = plt.subplot(2,3, plot_ind)\n",
    "#     plt.title(\"Xr\" + str(Xr))\n",
    "    \n",
    "#     ## plot the result\n",
    "#     #heatmap\n",
    "#     #tick labels\n",
    "#     c_labels = [i if i in around(arange(0, max(c_vec), 0.1), decimals=1) \n",
    "#                 else None for i in around(c_vec, decimals=2)]\n",
    "\n",
    "#     rho_labels = [i if i in around(arange(0, max(rho_vec), 0.2), decimals=1)\n",
    "#                 else None for i in around(rho_vec, decimals=2)]\n",
    "\n",
    "#     sb.heatmap(repro_array,\n",
    "#             xticklabels = c_labels, \n",
    "#             yticklabels= rho_labels, \n",
    "#                linewidths=0.0,rasterized=True).invert_yaxis() # linewidths and rasterized to stop gridlines whens saved as pdf\n",
    "    \n",
    "#     #scale circle for highest value with resolution of heatmap\n",
    "#     if len(c) < len(c_vec) - 1: # to stop spamming of circles when all vals are the same\n",
    "#         offset = resolution *10\n",
    "#         size = resolution * 2000 \n",
    "#         # circle highest value\n",
    "#         plt.scatter(j+offset, i+offset, s=size, linewidth=3, \n",
    "#                     facecolors='none', edgecolors='c' )\n",
    "    \n",
    "    \n",
    "# #common axis labels\n",
    "# fig.add_subplot(111, frameon=False)\n",
    "# plt.grid(False)\n",
    "# plt.tick_params(labelcolor=\"none\")\n",
    "# plt.xlabel(\"c\")\n",
    "# plt.ylabel('$\\\\rho$')\n",
    "# plt.savefig(\"../results/report_2D_Xr_fineRes.pdf\")"
   ]
  },
  {
   "cell_type": "markdown",
   "metadata": {},
   "source": [
    "## Sensitivity\n"
   ]
  },
  {
   "cell_type": "markdown",
   "metadata": {},
   "source": [
    "### 2D"
   ]
  },
  {
   "cell_type": "code",
   "execution_count": null,
   "metadata": {},
   "outputs": [],
   "source": [
    "temp_params = deepcopy(params)\n",
    "temp_params[\"dimensionality\"] = \"2D\"\n",
    "resources = linspace(0.2, 100, 10)\n",
    "c_list, rho_list = sensitivity(\"Xr\", resources, \n",
    "                               c_vec, rho_vec, m0, R0, time, temp_params, shrinkage)\n"
   ]
  },
  {
   "cell_type": "code",
   "execution_count": null,
   "metadata": {},
   "outputs": [],
   "source": [
    "plt.figure(figsize = a4_box)\n",
    "plt.plot(resources, c_list)\n",
    "plt.xlabel(\"Resource Density ($kg/m^2$)\")\n",
    "plt.ylabel(\"c\")\n",
    "plt.savefig(\"../results/sens2D_res_c.pdf\")\n",
    "\n",
    "plt.figure(figsize = a4_box)\n",
    "plt.plot(resources, c_list)\n",
    "plt.xlabel(\"Resource Density ($kg/m^2$)\")\n",
    "plt.ylabel(\"rho\")\n",
    "plt.savefig(\"../results/sens2D_res_rho.pdf\")"
   ]
  },
  {
   "cell_type": "markdown",
   "metadata": {},
   "source": [
    "### 3D"
   ]
  },
  {
   "cell_type": "code",
   "execution_count": null,
   "metadata": {},
   "outputs": [],
   "source": [
    "temp_params = deepcopy(params)\n",
    "temp_params[\"dimensionality\"] = \"3D\"\n",
    "resources = linspace(0.2, 100, 10)\n",
    "c_list, rho_list = sensitivity(\"Xr\", resources, \n",
    "                               c_vec, rho_vec, m0, R0, time, temp_params, shrinkage)"
   ]
  },
  {
   "cell_type": "code",
   "execution_count": null,
   "metadata": {},
   "outputs": [],
   "source": [
    "plt.figure(figsize = a4_box)\n",
    "plt.plot(resources, c_list)\n",
    "plt.xlabel(\"Resource Density ($kg/m^2$)\")\n",
    "plt.ylabel(\"c\")\n",
    "plt.savefig(\"../results/sens3D_res_c.pdf\")\n",
    "\n",
    "plt.figure(figsize = a4_box)\n",
    "plt.plot(resources, rho_list)\n",
    "plt.xlabel(\"Resource Density ($kg/m^2$)\")\n",
    "plt.ylabel(\"rho\")\n",
    "plt.savefig(\"../results/sens3D_res_rho.pdf\")"
   ]
  },
  {
   "cell_type": "code",
   "execution_count": null,
   "metadata": {},
   "outputs": [],
   "source": [
    "# values above\n",
    "value_dict"
   ]
  },
  {
   "cell_type": "markdown",
   "metadata": {},
   "source": [
    "# Metabolic Exponent change in 3D"
   ]
  },
  {
   "cell_type": "code",
   "execution_count": null,
   "metadata": {},
   "outputs": [],
   "source": [
    "temp_params = deepcopy(params)\n",
    "exponents = [0.75, 0.8, 0.85, 0.9, 0.95, 1]"
   ]
  },
  {
   "cell_type": "markdown",
   "metadata": {},
   "source": [
    "## 2D"
   ]
  },
  {
   "cell_type": "code",
   "execution_count": null,
   "metadata": {},
   "outputs": [],
   "source": [
    "# temp_params[\"Xr\"] = min_viable_2D\n",
    "temp_params"
   ]
  },
  {
   "cell_type": "code",
   "execution_count": null,
   "metadata": {
    "scrolled": false
   },
   "outputs": [],
   "source": [
    "value_dict = {}\n",
    "\n",
    "temp_params[\"dimensionality\"] = \"2D\"\n",
    "fig = plt.figure(figsize=(a4_width, 0.8*a4_width))\n",
    "\n",
    "for plot_ind, meta_exp in enumerate(exponents,1):\n",
    "    temp_params[\"meta_exp\"] = meta_exp\n",
    "    repro_array = F.reproduction_array(c_vec, rho_vec, m0, R0, time, \n",
    "                                       temp_params, shrinkage=shrinkage)\n",
    "    ind = F. find_max(repro_array)\n",
    "    i, j = ind\n",
    "    c = c_vec[j]\n",
    "    rho = rho_vec[i]\n",
    "    value_dict[str(Xr)] = [c,rho]\n",
    "    \n",
    "    ax = plt.subplot(2,3, plot_ind)\n",
    "    plt.title(\"meta_exp\" + str(meta_exp))\n",
    "    \n",
    "    ## plot the result\n",
    "    #heatmap\n",
    "    #tick labels\n",
    "    c_labels = [i if i in around(arange(0, max(c_vec), 0.1), decimals=1) \n",
    "                else None for i in around(c_vec, decimals=2)]\n",
    "\n",
    "    rho_labels = [i if i in around(arange(0, max(rho_vec), 0.2), decimals=1)\n",
    "                else None for i in around(rho_vec, decimals=2)]\n",
    "\n",
    "    sb.heatmap(repro_array,\n",
    "            xticklabels = c_labels, \n",
    "            yticklabels= rho_labels, \n",
    "               linewidths=0.0,rasterized=True).invert_yaxis() # linewidths and rasterized to stop gridlines whens saved as pdf\n",
    "    \n",
    "    #scale circle for highest value with resolution of heatmap\n",
    "    if len(c) < len(c_vec) - 1: # to stop spamming of circles when all vals are the same\n",
    "        offset = resolution *10\n",
    "        size = resolution * 2000 \n",
    "        # circle highest value\n",
    "        plt.scatter(j+offset, i+offset, s=size, linewidth=3, \n",
    "                    facecolors='none', edgecolors='c' )\n",
    "    \n",
    "    \n",
    "#common axis labels\n",
    "fig.add_subplot(111, frameon=False)\n",
    "plt.grid(False)\n",
    "plt.tick_params(labelcolor=\"none\")\n",
    "plt.xlabel(\"c\")\n",
    "plt.ylabel('$\\\\rho$')\n",
    "plt.savefig(\"../results/report_2D_exponents.pdf\")"
   ]
  },
  {
   "cell_type": "code",
   "execution_count": null,
   "metadata": {},
   "outputs": [],
   "source": [
    "value_dict"
   ]
  },
  {
   "cell_type": "markdown",
   "metadata": {},
   "source": [
    "### Sensitivity"
   ]
  },
  {
   "cell_type": "code",
   "execution_count": null,
   "metadata": {},
   "outputs": [],
   "source": [
    "temp_params = deepcopy(params)\n",
    "temp_params[\"dimensionality\"] = \"2D\"\n",
    "exponents = arange(0.75, 1.01, 0.05)\n",
    "c_list, rho_list = sensitivity(\"meta_exp\", exponents, \n",
    "                               c_vec, rho_vec, m0, R0, time, temp_params, shrinkage)\n",
    "   "
   ]
  },
  {
   "cell_type": "code",
   "execution_count": null,
   "metadata": {
    "scrolled": true
   },
   "outputs": [],
   "source": [
    "# plots\n",
    "fig = plt.figure(figsize=a4_box)\n",
    "plt.plot(exponents, c_list)\n",
    "plt.xlabel(\"metabolic exponent\")\n",
    "plt.ylabel(\"c\")\n",
    "plt.savefig(\"../results/sens2D_meta_exp_c.pdf\")\n",
    "\n",
    "fig = plt.figure(figsize=a4_box)\n",
    "plt.plot(exponents, rho_list)\n",
    "plt.xlabel(\"metabolic exponent\")\n",
    "plt.ylabel(\"rho\")\n",
    "plt.savefig(\"../results/sens2D_meta_exp_rho.pdf\")"
   ]
  },
  {
   "cell_type": "code",
   "execution_count": null,
   "metadata": {},
   "outputs": [],
   "source": [
    "fig=plt.figure()\n",
    "ax = fig.gca(projection=\"3d\")\n",
    "plt.plot(xs=exponents,ys=c_list,zdir=rho_list)"
   ]
  },
  {
   "cell_type": "code",
   "execution_count": null,
   "metadata": {},
   "outputs": [],
   "source": [
    "print(c_list)\n",
    "print(rho_list)"
   ]
  },
  {
   "cell_type": "markdown",
   "metadata": {},
   "source": [
    "## 3D"
   ]
  },
  {
   "cell_type": "markdown",
   "metadata": {},
   "source": [
    "### Sensitivity"
   ]
  },
  {
   "cell_type": "code",
   "execution_count": null,
   "metadata": {},
   "outputs": [],
   "source": [
    "temp_params = deepcopy(params)\n",
    "temp_params[\"dimensionality\"] = \"3D\"\n",
    "exponents = arange(0.75, 1.01, 0.05)\n",
    "c_list, rho_list = sensitivity(\"meta_exp\", exponents, \n",
    "                               c_vec, rho_vec, m0, R0, time, temp_params, shrinkage)\n",
    "   "
   ]
  },
  {
   "cell_type": "code",
   "execution_count": null,
   "metadata": {},
   "outputs": [],
   "source": [
    "# plots\n",
    "fig = plt.figure(figsize=a4_box)\n",
    "plt.plot(exponents, c_list)\n",
    "plt.xlabel(\"metabolic exponent\")\n",
    "plt.ylabel(\"c\")\n",
    "plt.savefig(\"../results/sens3D_meta_exp_c.pdf\")\n",
    "\n",
    "fig = plt.figure(figsize=a4_box)\n",
    "plt.plot(exponents, rho_list)\n",
    "plt.xlabel(\"metabolic exponent\")\n",
    "plt.ylabel(\"rho\")\n",
    "plt.savefig(\"../results/sens3D_meta_exp_rho.pdf\")"
   ]
  },
  {
   "cell_type": "markdown",
   "metadata": {},
   "source": [
    "### Heatmap"
   ]
  },
  {
   "cell_type": "code",
   "execution_count": null,
   "metadata": {},
   "outputs": [],
   "source": [
    "temp_params = deepcopy(params)"
   ]
  },
  {
   "cell_type": "code",
   "execution_count": null,
   "metadata": {
    "scrolled": true
   },
   "outputs": [],
   "source": [
    "temp_params"
   ]
  },
  {
   "cell_type": "code",
   "execution_count": null,
   "metadata": {
    "scrolled": true
   },
   "outputs": [],
   "source": [
    "value_dict = {}\n",
    "\n",
    "temp_params[\"dimensionality\"] = \"3D\"\n",
    "# temp_params[\"Xr\"] = min_viable_3D\n",
    "fig = plt.figure(figsize=(a4_width, 0.8*a4_width))\n",
    "\n",
    "for plot_ind, meta_exp in enumerate(exponents,1):\n",
    "    temp_params[\"meta_exp\"] = meta_exp\n",
    "    repro_array = F.reproduction_array(c_vec, rho_vec, m0, R0, time, \n",
    "                                       temp_params, shrinkage=shrinkage)\n",
    "    ind = F. find_max(repro_array)\n",
    "    i, j = ind\n",
    "    c = c_vec[j]\n",
    "    rho = rho_vec[i]\n",
    "    value_dict[str(Xr)] = [c,rho]\n",
    "    \n",
    "    ax = plt.subplot(2,3, plot_ind)\n",
    "    plt.title(\"meta_exp\" + str(meta_exp))\n",
    "    \n",
    "    ## plot the result\n",
    "    #heatmap\n",
    "    #tick labels\n",
    "    c_labels = [i if i in around(arange(0, max(c_vec), 0.1), decimals=1) \n",
    "                else None for i in around(c_vec, decimals=2)]\n",
    "\n",
    "    rho_labels = [i if i in around(arange(0, max(rho_vec), 0.2), decimals=1)\n",
    "                else None for i in around(rho_vec, decimals=2)]\n",
    "\n",
    "    sb.heatmap(repro_array,\n",
    "            xticklabels = c_labels, \n",
    "            yticklabels= rho_labels, \n",
    "               linewidths=0.0,rasterized=True).invert_yaxis() # linewidths and rasterized to stop gridlines whens saved as pdf\n",
    "    \n",
    "    #scale circle for highest value with resolution of heatmap\n",
    "    if len(c) < len(c_vec) - 1: # to stop spamming of circles when all vals are the same\n",
    "        offset = resolution *10\n",
    "        size = resolution * 2000 \n",
    "        # circle highest value\n",
    "        plt.scatter(j+offset, i+offset, s=size, linewidth=3, \n",
    "                    facecolors='none', edgecolors='c' )\n",
    "\n",
    "    \n",
    "#common axis labels\n",
    "fig.add_subplot(111, frameon=False)\n",
    "plt.grid(False)\n",
    "plt.tick_params(labelcolor=\"none\")\n",
    "plt.xlabel(\"c\")\n",
    "plt.ylabel('$\\\\rho$')\n",
    "plt.savefig(\"../results/report_3D_exponents.pdf\")"
   ]
  },
  {
   "cell_type": "code",
   "execution_count": null,
   "metadata": {},
   "outputs": [],
   "source": [
    "value_dict"
   ]
  },
  {
   "cell_type": "markdown",
   "metadata": {},
   "source": [
    "# Different Maturation Times"
   ]
  },
  {
   "cell_type": "code",
   "execution_count": null,
   "metadata": {},
   "outputs": [],
   "source": [
    "temp_params = deepcopy(params)\n",
    "alphas = [1, 10, 50, 100, 300, 1000]\n",
    "temp_params"
   ]
  },
  {
   "cell_type": "markdown",
   "metadata": {},
   "source": [
    "## 2D"
   ]
  },
  {
   "cell_type": "code",
   "execution_count": null,
   "metadata": {},
   "outputs": [],
   "source": [
    "# temp_params[\"Xr\"] = min_viable_2D\n",
    "temp_params"
   ]
  },
  {
   "cell_type": "code",
   "execution_count": null,
   "metadata": {},
   "outputs": [],
   "source": [
    "value_dict={}\n",
    "\n",
    "temp_params[\"dimensionality\"] = \"2D\"\n",
    "fig = plt.figure(figsize=(a4_width, 0.8*a4_width))\n",
    "\n",
    "for plot_ind, alpha in enumerate(alphas,1):\n",
    "    temp_params[\"alpha\"] = alpha\n",
    "    repro_array = F.reproduction_array(c_vec, rho_vec, m0, R0, time, \n",
    "                                       temp_params, shrinkage=shrinkage)\n",
    "    ind = F. find_max(repro_array)\n",
    "    i, j = ind\n",
    "    c = c_vec[j]\n",
    "    rho = rho_vec[i]\n",
    "    value_dict[str(Xr)] = [c,rho]\n",
    "    \n",
    "    \n",
    "    ax = plt.subplot(2,3, plot_ind)\n",
    "    plt.title(\"alpha\" + str(alpha))\n",
    "    \n",
    "    ## plot the result\n",
    "    #heatmap\n",
    "    #tick labels\n",
    "    c_labels = [i if i in around(arange(0, max(c_vec), 0.1), decimals=1) \n",
    "                else None for i in around(c_vec, decimals=2)]\n",
    "\n",
    "    rho_labels = [i if i in around(arange(0, max(rho_vec), 0.2), decimals=1)\n",
    "                else None for i in around(rho_vec, decimals=2)]\n",
    "\n",
    "    sb.heatmap(repro_array,\n",
    "            xticklabels = c_labels, \n",
    "            yticklabels= rho_labels, \n",
    "               linewidths=0.0,rasterized=True).invert_yaxis() # linewidths and rasterized to stop gridlines whens saved as pdf\n",
    "    \n",
    "    #scale circle for highest value with resolution of heatmap\n",
    "    if len(c) < len(c_vec) - 1: # to stop spamming of circles when all vals are the same\n",
    "        offset = resolution *10\n",
    "        size = resolution * 2000 \n",
    "        # circle highest value\n",
    "        plt.scatter(j+offset, i+offset, s=size, linewidth=3, \n",
    "                    facecolors='none', edgecolors='c' )\n",
    "    \n",
    "    \n",
    "#common axis labels\n",
    "fig.add_subplot(111, frameon=False)\n",
    "plt.grid(False)\n",
    "plt.tick_params(labelcolor=\"none\")\n",
    "plt.xlabel(\"c\")\n",
    "plt.ylabel('$\\\\rho$')\n",
    "plt.savefig(\"../results/report_2D_alphas.pdf\")"
   ]
  },
  {
   "cell_type": "code",
   "execution_count": null,
   "metadata": {},
   "outputs": [],
   "source": [
    "value_dict"
   ]
  },
  {
   "cell_type": "markdown",
   "metadata": {},
   "source": [
    "### Sensitivity"
   ]
  },
  {
   "cell_type": "code",
   "execution_count": null,
   "metadata": {},
   "outputs": [],
   "source": [
    "temp_params = deepcopy(params)\n",
    "temp_params[\"dimensionality\"] = \"2D\"\n",
    "alphas = linspace(1, 2000, 100)\n",
    "c_list, rho_list = sensitivity(\"alpha\", alphas, \n",
    "                               c_vec, rho_vec, m0, R0, time, temp_params, shrinkage)"
   ]
  },
  {
   "cell_type": "code",
   "execution_count": null,
   "metadata": {},
   "outputs": [],
   "source": [
    "temp_params"
   ]
  },
  {
   "cell_type": "code",
   "execution_count": null,
   "metadata": {},
   "outputs": [],
   "source": [
    "temp_params\n",
    "F.reproduction_array(c_vec, rho_vec, m0, R0, time, temp_params)\n"
   ]
  },
  {
   "cell_type": "code",
   "execution_count": null,
   "metadata": {},
   "outputs": [],
   "source": [
    "# plots\n",
    "fig = plt.figure(figsize=a4_box)\n",
    "plt.plot(exponents, c_list)\n",
    "plt.xlabel(\"metabolic exponent\")\n",
    "plt.ylabel(\"c\")\n",
    "plt.savefig(\"../results/sens2D_alpha_c.pdf\")\n",
    "\n",
    "fig = plt.figure(figsize=a4_box)\n",
    "plt.plot(exponents, rho_list)\n",
    "plt.xlabel(\"metabolic exponent\")\n",
    "plt.ylabel(\"rho\")\n",
    "plt.savefig(\"../results/sens2D_alpha_rho.pdf\")"
   ]
  },
  {
   "cell_type": "markdown",
   "metadata": {
    "scrolled": true
   },
   "source": [
    "## 3D"
   ]
  },
  {
   "cell_type": "code",
   "execution_count": null,
   "metadata": {},
   "outputs": [],
   "source": [
    "value_dict={}\n",
    "\n",
    "temp_params[\"dimensionality\"] = \"3D\"\n",
    "fig = plt.figure(figsize=(a4_width, 0.8*a4_width))\n",
    "\n",
    "for plot_ind, alpha in enumerate(alphas,1):\n",
    "    temp_params[\"alpha\"] = alpha\n",
    "    repro_array = F.reproduction_array(c_vec, rho_vec, m0, R0, time, \n",
    "                                       temp_params, shrinkage=shrinkage)\n",
    "    ind = F. find_max(repro_array)\n",
    "    i, j = ind\n",
    "    c = c_vec[j]\n",
    "    rho = rho_vec[i]\n",
    "    value_dict[str(Xr)] = [c,rho]\n",
    "    \n",
    "    \n",
    "    ax = plt.subplot(2,3, plot_ind)\n",
    "    plt.title(\"alpha\" + str(alpha))\n",
    "    \n",
    "    ## plot the result\n",
    "    #heatmap\n",
    "    #tick labels\n",
    "    c_labels = [i if i in around(arange(0, max(c_vec), 0.1), decimals=1) \n",
    "                else None for i in around(c_vec, decimals=2)]\n",
    "\n",
    "    rho_labels = [i if i in around(arange(0, max(rho_vec), 0.2), decimals=1)\n",
    "                else None for i in around(rho_vec, decimals=2)]\n",
    "\n",
    "    sb.heatmap(repro_array,\n",
    "            xticklabels = c_labels, \n",
    "            yticklabels= rho_labels, \n",
    "               linewidths=0.0,rasterized=True).invert_yaxis() # linewidths and rasterized to stop gridlines whens saved as pdf\n",
    "    \n",
    "    #scale circle for highest value with resolution of heatmap\n",
    "    if len(c) < len(c_vec) - 1: # to stop spamming of circles when all vals are the same\n",
    "        offset = resolution *10\n",
    "        size = resolution * 2000 \n",
    "        # circle highest value\n",
    "        plt.scatter(j+offset, i+offset, s=size, linewidth=3, \n",
    "                    facecolors='none', edgecolors='c' )\n",
    "    \n",
    "    \n",
    "#common axis labels\n",
    "fig.add_subplot(111, frameon=False)\n",
    "plt.grid(False)\n",
    "plt.tick_params(labelcolor=\"none\")\n",
    "plt.xlabel(\"c\")\n",
    "plt.ylabel('$\\\\rho$')\n",
    "plt.savefig(\"../results/report_3D_alphas.pdf\")"
   ]
  },
  {
   "cell_type": "code",
   "execution_count": null,
   "metadata": {},
   "outputs": [],
   "source": [
    "value_dict"
   ]
  },
  {
   "cell_type": "markdown",
   "metadata": {},
   "source": [
    "## Sensitivity"
   ]
  },
  {
   "cell_type": "code",
   "execution_count": null,
   "metadata": {},
   "outputs": [],
   "source": [
    "temp_params = deepcopy(params)\n",
    "temp_params[\"dimensionality\"] = \"3D\"\n",
    "alphas = linspace(1, 2000, 100)\n",
    "c_list, rho_list = sensitivity(\"alpha\", alphas, \n",
    "                               c_vec, rho_vec, m0, R0, time, temp_params, shrinkage)\n",
    "   "
   ]
  },
  {
   "cell_type": "code",
   "execution_count": null,
   "metadata": {},
   "outputs": [],
   "source": [
    "# plots\n",
    "fig = plt.figure(figsize=a4_box)\n",
    "plt.plot(exponents, c_list)\n",
    "plt.xlabel(\"metabolic exponent\")\n",
    "plt.ylabel(\"c\")\n",
    "plt.savefig(\"../results/sens3D_alpha_c.pdf\")\n",
    "\n",
    "fig = plt.figure(figsize=a4_box)\n",
    "plt.plot(exponents, rho_list)\n",
    "plt.xlabel(\"metabolic exponent\")\n",
    "plt.ylabel(\"rho\")\n",
    "plt.savefig(\"../results/sens3D_alpha_rho.pdf\")"
   ]
  },
  {
   "cell_type": "code",
   "execution_count": null,
   "metadata": {},
   "outputs": [],
   "source": [
    "temp_params"
   ]
  },
  {
   "cell_type": "code",
   "execution_count": null,
   "metadata": {},
   "outputs": [],
   "source": [
    "break"
   ]
  },
  {
   "cell_type": "markdown",
   "metadata": {},
   "source": [
    "# Tests"
   ]
  },
  {
   "cell_type": "code",
   "execution_count": null,
   "metadata": {},
   "outputs": [],
   "source": [
    "\n",
    "plt.figure(figsize=(a4_width, 0.25*a4_heigth))\n",
    "plt.scatter(arange(0,10,1), arange(0,10,1), label=\"test\")\n",
    "plt.legend()\n",
    "plt.xlabel(\"x axis\")\n",
    "plt.ylabel(\"y axis\")\n",
    "plt.savefig(\"../results/test.pdf\")"
   ]
  },
  {
   "cell_type": "markdown",
   "metadata": {},
   "source": [
    "## Multiproccessing"
   ]
  },
  {
   "cell_type": "code",
   "execution_count": null,
   "metadata": {},
   "outputs": [],
   "source": [
    "from multiprocessing import Pool\n",
    "\n",
    "\n",
    "\n",
    "def sensitivity(key, values, c_vec, rho_vec, m0, R0, time, params, shrinkage):\n",
    "    \"\"\"\n",
    "        key (str) : the name of the param being examined in the parameter dictionary\n",
    "        values (list) : the values for the key \n",
    "        params (dict) : the parameter dictionary\n",
    "    \"\"\"\n",
    "    pool = Pool()\n",
    "    c_list = [None] *len(values)\n",
    "    rho_list = [None] *len(values)\n",
    "    res_list = [None] *len(values)\n",
    "    for i, val in enumerate(values):\n",
    "        temp_params[key] = val\n",
    "        res_list[i] = pool.apply(F.find_optimum, args=(c_vec, rho_vec, m0, R0, \n",
    "                                                       time, temp_params, shrinkage))\n",
    "#     for i in len(values):\n",
    "#         c_list[i], rho_list[i] = res_list[i].get()\n",
    "        \n",
    "\n",
    "    return res_list#array([c_list, rho_list])"
   ]
  },
  {
   "cell_type": "code",
   "execution_count": null,
   "metadata": {},
   "outputs": [],
   "source": [
    "temp_params = deepcopy(params)\n",
    "temp_params[\"dimensionality\"] = \"2D\"\n",
    "\n",
    "temp_params"
   ]
  },
  {
   "cell_type": "code",
   "execution_count": null,
   "metadata": {},
   "outputs": [],
   "source": [
    "\n",
    "key = \"Xr\"\n",
    "values = linspace(1, 10, 2)\n",
    "\n",
    "sensitivity(key, values, c_vec, rho_vec, m0, R0, time, temp_params, shrinkage)"
   ]
  },
  {
   "cell_type": "code",
   "execution_count": null,
   "metadata": {},
   "outputs": [],
   "source": [
    "import csv\n",
    "dim = \"2D\"\n",
    "key = \"Xr\"\n",
    "c_list = range(10)\n",
    "rho_list = range(10)\n",
    "with open(f\"../results/sensitivity{key}{dim}.csv\", 'w') as file:\n",
    "    writer = csv.writer(file)\n",
    "    writer.writerow([\"c\", \"rho\"])\n",
    "    for i in range(len(c_list)):\n",
    "        writer.writerow([c_list[i], rho_list[i]])"
   ]
  },
  {
   "cell_type": "code",
   "execution_count": null,
   "metadata": {},
   "outputs": [],
   "source": [
    "around(linspace(1, 2000, 100), decimals=-1)"
   ]
  },
  {
   "cell_type": "code",
   "execution_count": null,
   "metadata": {},
   "outputs": [],
   "source": []
  }
 ],
 "metadata": {
  "kernelspec": {
   "display_name": "Python 3",
   "language": "python",
   "name": "python3"
  },
  "language_info": {
   "codemirror_mode": {
    "name": "ipython",
    "version": 3
   },
   "file_extension": ".py",
   "mimetype": "text/x-python",
   "name": "python",
   "nbconvert_exporter": "python",
   "pygments_lexer": "ipython3",
   "version": "3.8.2"
  },
  "toc": {
   "base_numbering": 1,
   "nav_menu": {},
   "number_sections": true,
   "sideBar": true,
   "skip_h1_title": false,
   "title_cell": "Table of Contents",
   "title_sidebar": "Contents",
   "toc_cell": true,
   "toc_position": {
    "height": "calc(100% - 180px)",
    "left": "10px",
    "top": "150px",
    "width": "369.6px"
   },
   "toc_section_display": true,
   "toc_window_display": true
  },
  "varInspector": {
   "cols": {
    "lenName": 16,
    "lenType": 16,
    "lenVar": 40
   },
   "kernels_config": {
    "python": {
     "delete_cmd_postfix": "",
     "delete_cmd_prefix": "del ",
     "library": "var_list.py",
     "varRefreshCmd": "print(var_dic_list())"
    },
    "r": {
     "delete_cmd_postfix": ") ",
     "delete_cmd_prefix": "rm(",
     "library": "var_list.r",
     "varRefreshCmd": "cat(var_dic_list()) "
    }
   },
   "position": {
    "height": "439.85px",
    "left": "1503px",
    "right": "20px",
    "top": "120px",
    "width": "325px"
   },
   "types_to_exclude": [
    "module",
    "function",
    "builtin_function_or_method",
    "instance",
    "_Feature"
   ],
   "window_display": true
  }
 },
 "nbformat": 4,
 "nbformat_minor": 4
}
