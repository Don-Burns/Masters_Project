{
 "cells": [
  {
   "cell_type": "markdown",
   "metadata": {
    "toc": true
   },
   "source": [
    "<h1>Table of Contents<span class=\"tocSkip\"></span></h1>\n",
    "<div class=\"toc\"><ul class=\"toc-item\"><li><span><a href=\"#Optimisation-Implementation\" data-toc-modified-id=\"Optimisation-Implementation-1\"><span class=\"toc-item-num\">1&nbsp;&nbsp;</span>Optimisation Implementation</a></span></li><li><span><a href=\"#function\" data-toc-modified-id=\"function-2\"><span class=\"toc-item-num\">2&nbsp;&nbsp;</span>function</a></span></li><li><span><a href=\"#Maximisation\" data-toc-modified-id=\"Maximisation-3\"><span class=\"toc-item-num\">3&nbsp;&nbsp;</span>Maximisation</a></span></li><li><span><a href=\"#Brute-Force-Parameter-Space-Exploration\" data-toc-modified-id=\"Brute-Force-Parameter-Space-Exploration-4\"><span class=\"toc-item-num\">4&nbsp;&nbsp;</span>Brute Force Parameter Space Exploration</a></span></li><li><span><a href=\"#Testing\" data-toc-modified-id=\"Testing-5\"><span class=\"toc-item-num\">5&nbsp;&nbsp;</span>Testing</a></span><ul class=\"toc-item\"><li><span><a href=\"#Test-values\" data-toc-modified-id=\"Test-values-5.1\"><span class=\"toc-item-num\">5.1&nbsp;&nbsp;</span>Test values</a></span></li></ul></li></ul></div>"
   ]
  },
  {
   "cell_type": "markdown",
   "metadata": {},
   "source": [
    "# Optimisation Implementation\n",
    "- use scipy.optimisation and just return the inverse which would normally be minimised but by inverting is then maximised when inverted\n",
    "\n",
    "- optimising with respect to $R_0$"
   ]
  },
  {
   "cell_type": "markdown",
   "metadata": {},
   "source": [
    "# function"
   ]
  },
  {
   "cell_type": "code",
   "execution_count": 115,
   "metadata": {},
   "outputs": [],
   "source": [
    "from scipy import exp \n",
    "from math import floor as floor\n",
    "def L(t, k = 0.01):\n",
    "    \"\"\"\n",
    "        Calculates lifetime reproductive output of an organism, \n",
    "        as described in Charnov et al. 2001.\n",
    "\n",
    "        Arguments:\n",
    "            t {int} -- time\n",
    "            k {float} -- reproduction senescence\n",
    "        Returns:\n",
    "            {float} -- lifetime reproductive output\n",
    "    \"\"\"\n",
    "    return exp(-k*t)\n",
    "\n",
    "\n",
    "def dRmdt(mR0, t, alpha = 50, M = 1000, a = 2.15, c = 0.17, rho = 0.06, k = 0.01): \n",
    "    \"\"\"\n",
    "    A function to simulate change in mass and reproductive output for a time point.  \n",
    "    Function designed with the intention of beign integrated.\n",
    "    \n",
    "        Arguments:\n",
    "        t {float} -- time\n",
    "        mR0 {float} -- array with mass (g) and reproduction at start of time step \n",
    "        alpha {float} -- asymtotic mass (g)\n",
    "        M {float} -- asymptotic mass (g)\n",
    "        a {float} -- growth rate (s^-1)\n",
    "        b {float} -- maintenace cost per cell ## found in function\n",
    "        c {float} -- reproductive cost (s^-1)\n",
    "        rho {float} -- scaling factor of reproduction \n",
    "        k {float} -- reproductive senesence\n",
    "        Z {float} -- ## found in function\n",
    "        \n",
    "    Returns:\n",
    "        {scipy.array} -- \n",
    "            dmdt --rate of change of mass in grams^1/4 per day (g^1/4 d^-1) at time t\n",
    "                NOTE:  integration of dmdt will give mass at t\n",
    "            Rt -- reproductive output at time t in terms of mass \n",
    "                NOTE: integration of Rt gives total Reproductive output for the bounds \n",
    "                        of the integral\n",
    "    \"\"\"\n",
    "    # predefine outputs \n",
    "                \n",
    "    m = mR0[0] \n",
    "    R = mR0[1]\n",
    "    b = (a/(M**0.25)) -c\n",
    "    Z = 2/alpha\n",
    "    Q = L(t-alpha, k)\n",
    "    \n",
    "    # conditional tree dependant on `alpha`\n",
    "    if t < 0:\n",
    "        return \"ERROR: time < 0\"\n",
    "    if t < alpha:\n",
    "        dmdt = (a * (m**0.75)) - (b * m)\n",
    "        R = 0\n",
    "    elif t >= alpha:\n",
    "        \n",
    "        dmdt = (a * (m**0.75)) - (b * m) - (c * (m**rho))\n",
    "        R = Q*c * m**rho\n",
    "#         R = c * Q * m**rho * exp(-(k + Z) * (t - alpha))\n",
    "    if m + dmdt < 0: # to set `m` to 0 when it would dip below 0\n",
    "        dmdt = floor(-m)\n",
    "    \n",
    "    return sc.array([dmdt, R])\n",
    "#     return dict[\"dmdt\" : dmdt, \"Reproduciton\" : R]\n",
    "\n",
    "def Opt(cRho, params): \n",
    "    # input vars reordered to suit minimize? with c and rho to be unpacked?\n",
    "    \"\"\"\n",
    "    A function to maximise the function `dRmdt` to give values of `c` and `rho \n",
    "    which result in the greatest `R0` possible.\n",
    "    \n",
    "    Arguments:\n",
    "        cRho {list} -- contains the initial guesses for `c` and `rho`;\n",
    "            c {float} -- reproductive cost (s^-1)\n",
    "            rho {float} -- scaling factor of reproduction \n",
    "            \n",
    "        params{list} -- contains the parameters needed to run the integration in the order:\n",
    "        \n",
    "            t {float} -- time\n",
    "            mR0 {float} -- array with mass (g) and reproduction at start of time step \n",
    "            alpha {float} -- asymtotic mass (g)\n",
    "            M {float} -- asymptotic mass (g)\n",
    "            a {float} -- growth rate (s^-1)\n",
    "            k {float} -- reproductive senesence\n",
    "            Z {float} -- ## found in function\n",
    "        \n",
    "    Returns:\n",
    "        {array} --  The sum of the reproduction integral for use with `minimise`\n",
    "        -------the optimal values for `c` and `rho` which yield \n",
    "                    the highest cumulative reproduction-----------\n",
    "        \n",
    "    \"\"\"\n",
    "    # unpack variables\n",
    "    c, rho = cRho\n",
    "    t, mR0, alpha, M, a, k = params\n",
    "    \n",
    "    # integrate \n",
    "    integral = integrate.odeint(dRmdt, mR0, t, args = (alpha, M, a, c, rho, k))\n",
    "    # store reproduction\n",
    "    repro = integral[:,1]\n",
    "    mass = integral[:,0]\n",
    "    # sum the integral to have 1 number for optimisation\n",
    "#     result = sum(repro)\n",
    "    result = repro[-1]\n",
    "    \n",
    "    # to try and avoid shrinking fish \n",
    "#     if mass[-1] == 0 or mass[-1] < mass[alpha]:\n",
    "    if mass[-1] < mass[alpha]:\n",
    "        result = 0\n",
    "    \n",
    "    # return negative result since we are minimising \n",
    "    return -result\n",
    "    "
   ]
  },
  {
   "cell_type": "code",
   "execution_count": 116,
   "metadata": {},
   "outputs": [
    {
     "data": {
      "image/png": "[encoded data removed]",
      "text/plain": [
       "<Figure size 432x288 with 1 Axes>"
      ]
     },
     "metadata": {
      "needs_background": "light"
     },
     "output_type": "display_data"
    }
   ],
   "source": [
    "## imports\n",
    "import matplotlib.pyplot as plt\n",
    "import scipy as sc\n",
    "from scipy import integrate\n",
    "from scipy.optimize import minimize\n",
    "\n",
    "days = 8000#1500 #  time to simulate over\n",
    "\n",
    "# define starting parameters -- using cod values from west 2001 as a base/ballpark values\n",
    "\n",
    "m0 = 0.1 # starting mass at t_0\n",
    "R0 = 0 # starting reproduction at t_0, 0 because organism not yet mature in my sims\n",
    "a = 2.15 # cost of new mass \n",
    "b =  0 # no need to calculate right now since i do it in function,could be done here to save time\n",
    "c = 0.1\n",
    "\n",
    "# reproductive cost \n",
    "M =  25000\n",
    "alpha = 1000 # age of maturation (days)\n",
    "rho = 0.33 # reproductive scaling parameter\n",
    "k =  0.01\n",
    "\n",
    "# organising starting params for use\n",
    "\n",
    "mR0 = sc.array([m0, R0]) # starting values for integration, [starting mass, starting repro]\n",
    "t = sc.arange(0, days, 1) # t values for integration\n",
    "params = (alpha, M, a, c, rho, k) # tuple for integration arguments\n",
    "\n",
    "\n",
    "# integration\n",
    "mR = integrate.odeint(dRmdt, mR0, t, args = params)\n",
    "mass = mR[:, 0]\n",
    "repro = mR[:, 1]\n",
    "\n",
    "\n",
    "# exploring output\n",
    "# mass[-1000:-675] # final 50 values to check for `nan`\n",
    "\n",
    "\n",
    "\n",
    "\n",
    "plt.figure()\n",
    "plt.plot(t, mass, label = \"Mass\")\n",
    "plt.plot(t, repro, label =  \"Reproduction\")\n",
    "plt.xlabel(\"Time (high resources)\")\n",
    "plt.ylabel(\"Mass (high resources)\")\n",
    "plt.legend()\n",
    "plt.show()\n"
   ]
  },
  {
   "cell_type": "markdown",
   "metadata": {},
   "source": [
    "# Maximisation"
   ]
  },
  {
   "cell_type": "code",
   "execution_count": 117,
   "metadata": {
    "scrolled": true
   },
   "outputs": [
    {
     "name": "stdout",
     "output_type": "stream",
     "text": [
      "902.065284749\n",
      "      fun: 0\n",
      " hess_inv: array([[1, 0],\n",
      "       [0, 1]])\n",
      "      jac: array([ 0.,  0.])\n",
      "  message: 'Optimization terminated successfully.'\n",
      "     nfev: 4\n",
      "      nit: 0\n",
      "     njev: 1\n",
      "   status: 0\n",
      "  success: True\n",
      "        x: array([ 0.4,  0.2])\n"
     ]
    },
    {
     "name": "stderr",
     "output_type": "stream",
     "text": [
      "/usr/lib/python3/dist-packages/scipy/integrate/odepack.py:218: ODEintWarning: Excess work done on this call (perhaps wrong Dfun type). Run with full_output = 1 to get quantitative information.\n",
      "  warnings.warn(warning_msg, ODEintWarning)\n"
     ]
    },
    {
     "data": {
      "image/png": "[encoded data removed]",
      "text/plain": [
       "<Figure size 432x288 with 1 Axes>"
      ]
     },
     "metadata": {
      "needs_background": "light"
     },
     "output_type": "display_data"
    },
    {
     "data": {
      "text/plain": [
       "True"
      ]
     },
     "execution_count": 117,
     "metadata": {},
     "output_type": "execute_result"
    }
   ],
   "source": [
    "import matplotlib.pyplot as plt\n",
    "########## minimisation #########\n",
    "c = 0.4\n",
    "rho = 0.2\n",
    "cRho = [c, rho]\n",
    "params = [t, mR0, alpha, M, a, k]\n",
    "\n",
    "## Sanity check for the opt function\n",
    "print(repro[-1])\n",
    "    # minus to re-invert as the function is designed to invert with minus for use with optimise\n",
    "# print(-Opt(cRho, params)) \n",
    "res_obj = minimize(Opt, cRho, args=(params)) \n",
    "print(res_obj)\n",
    "c = res_obj.x[0]\n",
    "rho = res_obj.x[1]\n",
    "params = (alpha, M, a, c, rho, k)\n",
    "mR = integrate.odeint(dRmdt, mR0, t, args = params)\n",
    "mass = mR[:, 0]\n",
    "repro = mR[:, 1]\n",
    "plt.figure()\n",
    "plt.plot(t, mass, label = \"Mass\")\n",
    "plt.plot(t, repro, label =  \"Reproduction\")\n",
    "plt.xlabel(\"Time (high resources)\")\n",
    "plt.ylabel(\"Mass (high resources)\")\n",
    "plt.legend()\n",
    "plt.show()\n",
    "\n",
    "mass[alpha] > mass[-1]"
   ]
  },
  {
   "cell_type": "code",
   "execution_count": null,
   "metadata": {},
   "outputs": [],
   "source": [
    "\n"
   ]
  },
  {
   "cell_type": "code",
   "execution_count": 118,
   "metadata": {},
   "outputs": [],
   "source": [
    "# # to scan parameter space\n",
    "# ticker = 1\n",
    "# rhoSpace = sc.arange(0, 1.1, 0.5) # .1 intervals\n",
    "# cSpace = sc.arange(0, 1.1, 0.5)\n",
    "# for i, rho in enumerate(rhoSpace):\n",
    "#     for j, c in enumerate(cSpace):\n",
    "#         # assign c and rho\n",
    "#         cRho = [c, rho]\n",
    "#         params = [t, mR0, alpha, M, a, k]\n",
    "#         # run optimisation\n",
    "#         res_obj = minimize(Opt, cRho, args=(params), method=\"NELDER-MEAD\")\n",
    "#         c = res_obj.x[0]\n",
    "#         rho = res_obj.x[1]\n",
    "#         params = (alpha, M, a, c, rho, k)\n",
    "#         mR = integrate.odeint(dRmdt, mR0, t, args = params)\n",
    "#         mass = mR[:, 0]\n",
    "#         repro = mR[:, 1]\n",
    "#         # if first iteration assign values\n",
    "#         if i == 0 and j == 0:\n",
    "#             OptRepro = repro[-1] \n",
    "#             Optrho = rho\n",
    "#             Optc = c\n",
    "#         #else compare and assign if better\n",
    "\n",
    "#         if repro[-1] > OptRepro:\n",
    "#             OptRepro = repro[-1]\n",
    "#             Optrho = rho\n",
    "#             Optc = c \n",
    "#             OptRes = res_obj\n",
    "#             ticker = 1\n",
    "#         if repro[-1] == OptRepro:\n",
    "#             ticker = ticker + 1\n",
    "            \n",
    "# print(Optc)\n",
    "# print(Optrho)\n",
    "# print(\"Number of optimal results = \", ticker)\n",
    "    "
   ]
  },
  {
   "cell_type": "code",
   "execution_count": 119,
   "metadata": {},
   "outputs": [],
   "source": [
    "# c = Optc\n",
    "# rho = Optrho\n",
    "# params = (alpha, M, a, c, rho, k)\n",
    "# mR = integrate.odeint(dRmdt, mR0, t, args = params)\n",
    "# mass = mR[:, 0]\n",
    "# repro = mR[:, 1]\n",
    "# plt.figure()\n",
    "# plt.plot(t, mass, label = \"Mass\")\n",
    "# plt.plot(t, repro, label =  \"Reproduction\")\n",
    "# plt.xlabel(\"Time (high resources)\")\n",
    "# plt.ylabel(\"Mass (high resources)\")\n",
    "# plt.legend()\n",
    "# plt.show()\n",
    "# OptRes"
   ]
  },
  {
   "cell_type": "markdown",
   "metadata": {},
   "source": [
    "since the above yields `nan` below are listed the algorithms which have non-`nan` returns:\n",
    "- NELDER-MEAD - seems very robust give good results on visual inspection\n",
    "- POWELL  -  gives `nan` both params\n",
    "- CG -  gives `nan` both params\n",
    "- BFGS -  gives `nan` both params\n"
   ]
  },
  {
   "cell_type": "code",
   "execution_count": 120,
   "metadata": {
    "scrolled": true
   },
   "outputs": [],
   "source": [
    "# minimize\n",
    "# print(type(mR))\n",
    "# print(mR[alpha,0])\n",
    "# print(mR[-1, 0])\n",
    "# print( mR[-1,0]< mR[alpha, 0])\n"
   ]
  },
  {
   "cell_type": "code",
   "execution_count": 121,
   "metadata": {},
   "outputs": [
    {
     "data": {
      "text/plain": [
       "<function scipy.optimize._minimize.minimize(fun, x0, args=(), method=None, jac=None, hess=None, hessp=None, bounds=None, constraints=(), tol=None, callback=None, options=None)>"
      ]
     },
     "execution_count": 121,
     "metadata": {},
     "output_type": "execute_result"
    }
   ],
   "source": [
    "minimize"
   ]
  },
  {
   "cell_type": "markdown",
   "metadata": {},
   "source": [
    "# Brute Force Parameter Space Exploration\n",
    "- taken from Luke Vassor's methodology"
   ]
  },
  {
   "cell_type": "code",
   "execution_count": 122,
   "metadata": {
    "scrolled": true
   },
   "outputs": [
    {
     "name": "stderr",
     "output_type": "stream",
     "text": [
      "/usr/local/lib/python3.6/dist-packages/ipykernel_launcher.py:58: RuntimeWarning: invalid value encountered in double_scalars\n",
      "/usr/local/lib/python3.6/dist-packages/ipykernel_launcher.py:59: RuntimeWarning: invalid value encountered in double_scalars\n"
     ]
    },
    {
     "data": {
      "text/plain": [
       "array([[  0.00000000e+00,   0.00000000e+00,   0.00000000e+00,\n",
       "          0.00000000e+00,   0.00000000e+00,   0.00000000e+00,\n",
       "          0.00000000e+00,   0.00000000e+00,   0.00000000e+00,\n",
       "          0.00000000e+00,   0.00000000e+00,   0.00000000e+00,\n",
       "          0.00000000e+00,   0.00000000e+00,   0.00000000e+00,\n",
       "          0.00000000e+00,   0.00000000e+00,   0.00000000e+00,\n",
       "          0.00000000e+00,   0.00000000e+00,   0.00000000e+00,\n",
       "          0.00000000e+00,   0.00000000e+00,   0.00000000e+00,\n",
       "          0.00000000e+00,   0.00000000e+00,   0.00000000e+00,\n",
       "          0.00000000e+00,   0.00000000e+00,   0.00000000e+00,\n",
       "          0.00000000e+00,   0.00000000e+00,   0.00000000e+00,\n",
       "          0.00000000e+00,   0.00000000e+00,   0.00000000e+00,\n",
       "          0.00000000e+00,   0.00000000e+00,   0.00000000e+00,\n",
       "          0.00000000e+00],\n",
       "       [  4.99999982e+00,   8.57281507e+00,   1.46986212e+01,\n",
       "          2.52016025e+01,   4.32091406e+01,   7.40822482e+01,\n",
       "          1.27009015e+02,   2.17730617e+02,   3.73195660e+02,\n",
       "          6.39477944e+02,   1.09515394e+03,   1.87361612e+03,\n",
       "          3.19938628e+03,   5.44438202e+03,   9.20625816e+03,\n",
       "          1.53898043e+04,  -1.00000000e+00,  -1.00000000e+00,\n",
       "         -1.00000000e+00,  -1.00000000e+00,  -1.00000000e+00,\n",
       "         -1.00000000e+00,  -1.00000000e+00,  -1.00000000e+00,\n",
       "         -1.00000000e+00,   0.00000000e+00,   0.00000000e+00,\n",
       "          0.00000000e+00,   0.00000000e+00,   0.00000000e+00,\n",
       "          0.00000000e+00,   0.00000000e+00,   0.00000000e+00,\n",
       "          0.00000000e+00,   0.00000000e+00,   0.00000000e+00,\n",
       "          0.00000000e+00,   0.00000000e+00,   0.00000000e+00,\n",
       "          0.00000000e+00],\n",
       "       [  9.99999965e+00,   1.85847652e+01,   3.45403791e+01,\n",
       "          6.41961369e+01,   1.19316364e+02,   2.21766211e+02,\n",
       "          4.12177742e+02,   7.66030340e+02,   1.42342907e+03,\n",
       "          2.64402349e+03,   4.90744500e+03,   9.09383752e+03,\n",
       "          1.67966521e+04,   3.08213973e+04,   5.58218246e+04,\n",
       "          9.85234531e+04,   1.65415346e+05,  -1.00000000e+00,\n",
       "         -1.00000000e+00,  -1.00000000e+00,  -1.00000000e+00,\n",
       "         -1.00000000e+00,  -1.00000000e+00,  -1.00000000e+00,\n",
       "          0.00000000e+00,   0.00000000e+00,   0.00000000e+00,\n",
       "          0.00000000e+00,   0.00000000e+00,   0.00000000e+00,\n",
       "          0.00000000e+00,   0.00000000e+00,   0.00000000e+00,\n",
       "          0.00000000e+00,   0.00000000e+00,   0.00000000e+00,\n",
       "          0.00000000e+00,   0.00000000e+00,   0.00000000e+00,\n",
       "          0.00000000e+00],\n",
       "       [  1.49999997e+01,   3.14960400e+01,   6.61681037e+01,\n",
       "          1.39080951e+02,   2.92489456e+02,   6.15420807e+02,\n",
       "          1.29552436e+03,   2.72843731e+03,   5.74832714e+03,\n",
       "          1.21128836e+04,   2.55181621e+04,   5.36946210e+04,\n",
       "          1.12601150e+05,   2.34165096e+05,   4.77469539e+05,\n",
       "          9.30515183e+05,   1.64021095e+06,   2.36034731e+06,\n",
       "         -1.00000000e+00,  -1.00000000e+00,  -1.00000000e+00,\n",
       "         -1.00000000e+00,   0.00000000e+00,   0.00000000e+00,\n",
       "          0.00000000e+00,   0.00000000e+00,   0.00000000e+00,\n",
       "          0.00000000e+00,   0.00000000e+00,   0.00000000e+00,\n",
       "          0.00000000e+00,   0.00000000e+00,   0.00000000e+00,\n",
       "          0.00000000e+00,   0.00000000e+00,   0.00000000e+00,\n",
       "          0.00000000e+00,   0.00000000e+00,   0.00000000e+00,\n",
       "          0.00000000e+00]])"
      ]
     },
     "execution_count": 122,
     "metadata": {},
     "output_type": "execute_result"
    }
   ],
   "source": [
    "# function to find maximum value from a matrix\n",
    "### imports\n",
    "import matplotlib.pyplot as plt\n",
    "import scipy as sc\n",
    "from scipy import integrate\n",
    "from scipy.optimize import minimize\n",
    "\n",
    "def find_max(array):\n",
    "    \"\"\"\n",
    "        A function to find the maximum of an array and return its indices\n",
    "\n",
    "        Arguments:\n",
    "            matrix {np.array} -- the matrix to find the max value of \n",
    "\n",
    "        Returns:\n",
    "            {tuple} --  the indices of the maximum value\n",
    "\n",
    "    \"\"\"\n",
    "    max_ind = sc.unravel_index(sc.argmax(array, axis=None), array.shape)\n",
    "    return max_ind\n",
    "\n",
    "#### set-up ####\n",
    "days = 2000 #  time to simulate over\n",
    "\n",
    "# define starting parameters -- using cod values from west 2001 as a base/ballpark values\n",
    "\n",
    "m0_start = 0.1 # starting mass at t_0\n",
    "R0_start = 0 # starting reproduction at t_0, 0 because organism not yet mature in my sims\n",
    "a = 2.15 # cost of new mass \n",
    "b =  0 # no need to calculate right now since i do it in function,could be done here to save time\n",
    "\n",
    "\n",
    "# reproductive cost \n",
    "M =  15000\n",
    "alpha = 100 # age of maturation (days)\n",
    "k =  0.01\n",
    "\n",
    "\n",
    "## rho and c\n",
    "c_max = (a/M**0.25)\n",
    "resolution = 0.05# the resolution of the parameter space exploration for `rho` and `c`\n",
    "rho_vec = sc.arange(0, 2, resolution)\n",
    "c_vec = sc.arange(0, c_max, resolution)\n",
    "\n",
    "# array to store final reproduction values\n",
    "# `c` will be row and `rho` columns, ith val is ith val in c_vec or jth val is jth in rho_vec\n",
    "R0_array = sc.zeros((len(c_vec), len(rho_vec)))\n",
    "\n",
    "\n",
    "\n",
    "\n",
    "\n",
    "\n",
    "\n",
    "# organising starting params for use\n",
    "\n",
    "mR0 = sc.array([m0_start, R0_start]) # starting values for integration, [starting mass, starting repro]\n",
    "t = sc.arange(0, days, 1) # t values for integration\n",
    "\n",
    "    \n",
    "for i, c in enumerate(c_vec):\n",
    "#     print(c)\n",
    "    for j, rho in enumerate(rho_vec):\n",
    "        \n",
    "        ## simulate with params for the loop\n",
    "        params = (alpha, M, a, c, rho, k) # tuple for integration arguments\n",
    "        res = integrate.odeint(dRmdt, mR0, t, args=params)\n",
    "        mass = res[:,0]\n",
    "        R0 = res[:,1]\n",
    "        tot_R0 = R0[-1]\n",
    "        # check that the outcome is not a shrinking fish\n",
    "        if mass[-1] < mass[alpha]:\n",
    "            # if shrinking fish set R0 to -1 to differentiate from other viable results \n",
    "            tot_R0 = -1 # <-- change to NA to differentiate?\n",
    "\n",
    "        ## check for nan values\n",
    "#         if sc.isnan(mass[-1]):\n",
    "#             tot_R0 = -2\n",
    "\n",
    "        R0_array[i,j] = tot_R0 \n",
    "#         ## check that the outcome is not a shrinking fish\n",
    "#         if mass[alpha] > mass[-1]:\n",
    "#             # if shrinking fish set R0 to -1 to differentiate from other viable results \n",
    "#             R0[-1] = -1 # <-- change to NA to differentiate?\n",
    "            \n",
    "#         ## check for nan values\n",
    "#         if sc.isnan(mass[-1]):\n",
    "#             R0[-1] = -2\n",
    "        \n",
    "#         R0_array[i,j] = R0[-1]\n",
    "        \n",
    "\n",
    "# replace `nan` with 0\n",
    "R0_array = sc.nan_to_num(R0_array)\n",
    "\n",
    "R0_array"
   ]
  },
  {
   "cell_type": "code",
   "execution_count": 123,
   "metadata": {},
   "outputs": [
    {
     "name": "stdout",
     "output_type": "stream",
     "text": [
      "(3, 17)\n"
     ]
    }
   ],
   "source": [
    "max_ind = find_max(R0_array)\n",
    "print(max_ind)\n",
    "max_R0 = R0_array[max_ind]\n",
    "c_opt = c_vec[max_ind[0]]\n",
    "rho_opt = rho_vec[max_ind[1]]\n",
    "        \n",
    "        ## add a way to make sure that there is not more than one max\n",
    "# multi = sc.where(R0_array == R0_array[max_ind])\n",
    "# multi\n",
    "        ## make fancy heatmap"
   ]
  },
  {
   "cell_type": "code",
   "execution_count": 124,
   "metadata": {},
   "outputs": [],
   "source": [
    "# sc.unique(R0_array)"
   ]
  },
  {
   "cell_type": "code",
   "execution_count": 125,
   "metadata": {},
   "outputs": [
    {
     "name": "stdout",
     "output_type": "stream",
     "text": [
      "2360347.30626\n",
      "0.15\n",
      "0.85\n"
     ]
    }
   ],
   "source": [
    "print(max_R0)\n",
    "print(c_opt)\n",
    "print(rho_opt)"
   ]
  },
  {
   "cell_type": "code",
   "execution_count": 126,
   "metadata": {},
   "outputs": [
    {
     "name": "stdout",
     "output_type": "stream",
     "text": [
      "rho is : 0.85\n",
      "c is : 0.15\n"
     ]
    },
    {
     "data": {
      "text/plain": [
       "'old c is : 0.01'"
      ]
     },
     "execution_count": 126,
     "metadata": {},
     "output_type": "execute_result"
    }
   ],
   "source": [
    "print(\"rho is :\", rho_opt)\n",
    "print(\"c is :\", c_opt)\n",
    "\"old rho is : 1.15\"\n",
    "\"old c is : 0.01\""
   ]
  },
  {
   "cell_type": "code",
   "execution_count": 127,
   "metadata": {
    "scrolled": false
   },
   "outputs": [
    {
     "data": {
      "text/plain": [
       "2360347.3062576489"
      ]
     },
     "execution_count": 127,
     "metadata": {},
     "output_type": "execute_result"
    }
   ],
   "source": [
    "\n",
    "R0_array[max_ind]\n",
    "# R0_array\n"
   ]
  },
  {
   "cell_type": "markdown",
   "metadata": {},
   "source": [
    "# Testing"
   ]
  },
  {
   "cell_type": "markdown",
   "metadata": {},
   "source": [
    "## Test values"
   ]
  },
  {
   "cell_type": "code",
   "execution_count": 128,
   "metadata": {
    "scrolled": false
   },
   "outputs": [
    {
     "data": {
      "image/png": "[encoded data removed]",
      "text/plain": [
       "<Figure size 432x288 with 1 Axes>"
      ]
     },
     "metadata": {
      "needs_background": "light"
     },
     "output_type": "display_data"
    },
    {
     "name": "stdout",
     "output_type": "stream",
     "text": [
      "rho is:  0.85\n",
      "c is:  0.15\n"
     ]
    }
   ],
   "source": [
    "## imports\n",
    "import scipy as sc\n",
    "from scipy import integrate\n",
    "\n",
    "rho = rho_opt\n",
    "c = c_opt\n",
    "# organising starting params for use\n",
    "\n",
    "\n",
    "params = (alpha, M, a, c, rho, k) # tuple for integration arguments\n",
    "\n",
    "\n",
    "# integration\n",
    "mR = integrate.odeint(dRmdt, mR0, t, args = params)\n",
    "mass = mR[:, 0]\n",
    "repro = mR[:, 1]\n",
    "\n",
    "\n",
    "######plotting\n",
    "import matplotlib.pyplot as plt\n",
    "\n",
    "plt.figure()\n",
    "plt.grid(True)\n",
    "plt.plot(t[:1000], mass[:1000], label = \"Somatic Growth\")\n",
    "plt.plot(t[:1000], repro[:1000], label = \"Cumulative Reproduction\")\n",
    "plt.xlabel(\"Time\")\n",
    "plt.ylabel(\"Mass\")\n",
    "plt.legend()\n",
    "plt.show()\n",
    "\n",
    "print(\"rho is: \", rho)\n",
    "print(\"c is: \", c)"
   ]
  },
  {
   "cell_type": "code",
   "execution_count": 136,
   "metadata": {},
   "outputs": [
    {
     "name": "stdout",
     "output_type": "stream",
     "text": [
      "0.0442744307761\n",
      "0.1942744307761166\n"
     ]
    }
   ],
   "source": [
    "# check of `b` value with c\n",
    "print((a/M**0.25) -c)\n",
    "# check without\n",
    "print(a/M**0.25)"
   ]
  },
  {
   "cell_type": "code",
   "execution_count": 129,
   "metadata": {},
   "outputs": [
    {
     "name": "stdout",
     "output_type": "stream",
     "text": [
      "1142362.62489\n",
      "1430167.69665\n",
      "shrank at:  1796\n",
      "shrank at:  1797\n",
      "shrank at:  1798\n",
      "shrank at:  1799\n",
      "shrank at:  1800\n",
      "shrank at:  1801\n",
      "shrank at:  1802\n",
      "shrank at:  1803\n",
      "shrank at:  1804\n",
      "shrank at:  1805\n",
      "shrank at:  1806\n",
      "shrank at:  1807\n",
      "shrank at:  1808\n",
      "shrank at:  1809\n",
      "shrank at:  1810\n",
      "shrank at:  1811\n",
      "shrank at:  1812\n",
      "shrank at:  1813\n",
      "shrank at:  1814\n",
      "shrank at:  1815\n",
      "shrank at:  1816\n",
      "shrank at:  1817\n",
      "shrank at:  1818\n",
      "shrank at:  1819\n",
      "shrank at:  1820\n",
      "shrank at:  1821\n",
      "shrank at:  1822\n",
      "shrank at:  1823\n",
      "shrank at:  1824\n",
      "shrank at:  1825\n",
      "shrank at:  1826\n",
      "shrank at:  1827\n",
      "shrank at:  1828\n",
      "shrank at:  1829\n",
      "shrank at:  1830\n",
      "shrank at:  1831\n",
      "shrank at:  1832\n",
      "shrank at:  1833\n",
      "shrank at:  1834\n",
      "shrank at:  1835\n",
      "shrank at:  1836\n",
      "shrank at:  1837\n",
      "shrank at:  1838\n",
      "shrank at:  1839\n",
      "shrank at:  1840\n",
      "shrank at:  1841\n",
      "shrank at:  1842\n",
      "shrank at:  1843\n",
      "shrank at:  1844\n",
      "shrank at:  1845\n",
      "shrank at:  1846\n",
      "shrank at:  1847\n",
      "shrank at:  1848\n",
      "shrank at:  1849\n",
      "shrank at:  1850\n",
      "shrank at:  1851\n",
      "shrank at:  1852\n",
      "shrank at:  1853\n",
      "shrank at:  1854\n",
      "shrank at:  1855\n",
      "shrank at:  1856\n",
      "shrank at:  1857\n",
      "shrank at:  1858\n",
      "shrank at:  1859\n",
      "shrank at:  1860\n",
      "shrank at:  1861\n",
      "shrank at:  1862\n",
      "shrank at:  1863\n",
      "shrank at:  1864\n",
      "shrank at:  1865\n",
      "shrank at:  1866\n",
      "shrank at:  1867\n",
      "shrank at:  1868\n",
      "shrank at:  1869\n",
      "shrank at:  1870\n",
      "shrank at:  1871\n",
      "shrank at:  1872\n",
      "shrank at:  1873\n",
      "shrank at:  1874\n",
      "shrank at:  1875\n",
      "shrank at:  1876\n",
      "shrank at:  1877\n",
      "shrank at:  1878\n",
      "shrank at:  1879\n",
      "shrank at:  1880\n",
      "shrank at:  1881\n",
      "shrank at:  1882\n",
      "shrank at:  1883\n",
      "shrank at:  1884\n",
      "shrank at:  1885\n",
      "shrank at:  1886\n",
      "shrank at:  1887\n",
      "shrank at:  1888\n",
      "shrank at:  1889\n",
      "shrank at:  1991\n",
      "shrank at:  1992\n",
      "shrank at:  1993\n",
      "shrank at:  1994\n",
      "shrank at:  1995\n",
      "shrank at:  1996\n",
      "shrank at:  1997\n",
      "shrank at:  1998\n"
     ]
    }
   ],
   "source": [
    "# check for shrinking\n",
    "print(mass[alpha])\n",
    "print(mass[-1])\n",
    "mass[alpha] > mass[-1] # if true then the fish is shrinking\n",
    "\n",
    "store =[]\n",
    "for i, m in enumerate(mass):\n",
    "    if i == 0:\n",
    "        None\n",
    "    elif m < mass[i-1]:\n",
    "        print(\"shrank at: \", i-1)\n",
    "        store.append(i-1)\n",
    "    else:\n",
    "        None"
   ]
  },
  {
   "cell_type": "code",
   "execution_count": 130,
   "metadata": {},
   "outputs": [
    {
     "data": {
      "text/plain": [
       "[<matplotlib.lines.Line2D at 0x7fbc620c67f0>]"
      ]
     },
     "execution_count": 130,
     "metadata": {},
     "output_type": "execute_result"
    },
    {
     "data": {
      "image/png": "[encoded data removed]",
      "text/plain": [
       "<Figure size 432x288 with 1 Axes>"
      ]
     },
     "metadata": {
      "needs_background": "light"
     },
     "output_type": "display_data"
    }
   ],
   "source": [
    "mass[300:310]\n",
    "mass[store[:100]]\n",
    "plt.figure()\n",
    "plt.plot(store)"
   ]
  },
  {
   "cell_type": "markdown",
   "metadata": {},
   "source": []
  },
  {
   "cell_type": "code",
   "execution_count": 131,
   "metadata": {},
   "outputs": [
    {
     "name": "stderr",
     "output_type": "stream",
     "text": [
      "/usr/local/lib/python3.6/dist-packages/ipykernel_launcher.py:13: RuntimeWarning: invalid value encountered in power\n",
      "  del sys.path[0]\n",
      "/usr/local/lib/python3.6/dist-packages/ipykernel_launcher.py:14: RuntimeWarning: invalid value encountered in power\n",
      "  \n"
     ]
    },
    {
     "data": {
      "text/plain": [
       "array([[ 14999.99991471],\n",
       "       [  5518.19152742],\n",
       "       [  2512.84266646],\n",
       "       [  2512.84266758],\n",
       "       [  2512.84266862],\n",
       "       [  2512.84266955],\n",
       "       [  2512.84267039],\n",
       "       [  2512.84267114],\n",
       "       [  2512.84267178],\n",
       "       [  2512.84267234],\n",
       "       [  2512.84267279],\n",
       "       [  2512.84267315],\n",
       "       [  2512.84267342],\n",
       "       [  2512.84267359],\n",
       "       [  2512.84267366],\n",
       "       [  2512.84267363],\n",
       "       [  2512.84267351],\n",
       "       [  2512.8426733 ],\n",
       "       [  2512.84267299],\n",
       "       [  2512.84267258],\n",
       "       [  2512.84267208],\n",
       "       [  2512.84267148],\n",
       "       [  2512.84267078],\n",
       "       [  2512.84266999],\n",
       "       [  2512.8426691 ],\n",
       "       [  2512.84266812],\n",
       "       [  2512.84266704],\n",
       "       [  2512.84266586],\n",
       "       [  2512.84266459],\n",
       "       [  2512.84266322],\n",
       "       [  2512.84266176],\n",
       "       [  2512.8426602 ],\n",
       "       [  2512.84265855],\n",
       "       [  2512.84265679],\n",
       "       [  2512.84265495],\n",
       "       [  2512.842653  ],\n",
       "       [  2512.84265096],\n",
       "       [  2512.84264883],\n",
       "       [  2512.8426466 ],\n",
       "       [  2512.84264427],\n",
       "       [  2512.84264185],\n",
       "       [  2512.84263938],\n",
       "       [  2512.84263905],\n",
       "       [  2512.84263882],\n",
       "       [  2512.84263869],\n",
       "       [  2512.84263866],\n",
       "       [  2512.84263872],\n",
       "       [  2512.84263888],\n",
       "       [  2512.84263914],\n",
       "       [  2512.8426395 ],\n",
       "       [  2512.84263995],\n",
       "       [  2512.84264051],\n",
       "       [  2512.84264116],\n",
       "       [  2512.84264191],\n",
       "       [  2512.84264275],\n",
       "       [  2512.8426437 ],\n",
       "       [  2512.84264474],\n",
       "       [  2512.84264588],\n",
       "       [  2512.84264712],\n",
       "       [  2512.84264846],\n",
       "       [  2512.84264989],\n",
       "       [  2512.84265142],\n",
       "       [  2512.84265305],\n",
       "       [  2512.84265478],\n",
       "       [            nan],\n",
       "       [            nan],\n",
       "       [            nan],\n",
       "       [            nan],\n",
       "       [            nan],\n",
       "       [            nan],\n",
       "       [            nan],\n",
       "       [            nan],\n",
       "       [            nan],\n",
       "       [            nan],\n",
       "       [            nan],\n",
       "       [            nan],\n",
       "       [            nan],\n",
       "       [            nan],\n",
       "       [            nan],\n",
       "       [            nan],\n",
       "       [            nan],\n",
       "       [            nan],\n",
       "       [            nan],\n",
       "       [            nan],\n",
       "       [            nan],\n",
       "       [            nan],\n",
       "       [            nan],\n",
       "       [            nan],\n",
       "       [            nan],\n",
       "       [            nan],\n",
       "       [            nan],\n",
       "       [            nan],\n",
       "       [            nan],\n",
       "       [            nan],\n",
       "       [            nan],\n",
       "       [            nan],\n",
       "       [            nan],\n",
       "       [            nan],\n",
       "       [            nan],\n",
       "       [            nan]])"
      ]
     },
     "execution_count": 131,
     "metadata": {},
     "output_type": "execute_result"
    },
    {
     "data": {
      "image/png": "[encoded data removed]",
      "text/plain": [
       "<Figure size 432x288 with 1 Axes>"
      ]
     },
     "metadata": {
      "needs_background": "light"
     },
     "output_type": "display_data"
    }
   ],
   "source": [
    "def tes(m,t):\n",
    "    a = 2.15\n",
    "    M = 15000\n",
    "    b = (a/(M**0.25)) \n",
    "    alpha = 500\n",
    "    c = 0.05\n",
    "    rho = 1.1\n",
    "    Q = L(t)\n",
    "    if t < alpha:\n",
    "        dmdt = (a * (m**0.75)) - (b * m)\n",
    "        R0 = 0\n",
    "    else:\n",
    "        dmdt = (a * (m**0.75)) - (b * m) - (c * (m**rho))\n",
    "        R = Q*c * m**rho\n",
    "    if dmdt * m < 0:\n",
    "        dmdt = -m #<<<<< problem?\n",
    "        \n",
    "    return dmdt\n",
    "t = sc.arange(0, 8000, 1)\n",
    "mass = integrate.odeint(tes, 0.1, t)[500:600]\n",
    "plt.figure()\n",
    "plt.plot(t[500:600], mass)\n",
    "\n",
    "mass\n",
    "\n",
    "# Currently things are growing too fast so when they reach \"maturity\" they are already fully grown\n",
    "# this leaves no way for the new introduction of R0 cost to cause eq and either crashes or shrinks a bit"
   ]
  },
  {
   "cell_type": "code",
   "execution_count": 132,
   "metadata": {},
   "outputs": [
    {
     "name": "stdout",
     "output_type": "stream",
     "text": [
      "(3, 17)\n",
      "[[  0.00000000e+00   0.00000000e+00   0.00000000e+00   0.00000000e+00\n",
      "    0.00000000e+00   0.00000000e+00   0.00000000e+00   0.00000000e+00\n",
      "    0.00000000e+00   0.00000000e+00   0.00000000e+00   0.00000000e+00\n",
      "    0.00000000e+00   0.00000000e+00   0.00000000e+00   0.00000000e+00\n",
      "    0.00000000e+00   0.00000000e+00   0.00000000e+00   0.00000000e+00\n",
      "    0.00000000e+00   0.00000000e+00   0.00000000e+00   0.00000000e+00\n",
      "    0.00000000e+00   0.00000000e+00   0.00000000e+00   0.00000000e+00\n",
      "    0.00000000e+00   0.00000000e+00   0.00000000e+00   0.00000000e+00\n",
      "    0.00000000e+00   0.00000000e+00   0.00000000e+00   0.00000000e+00\n",
      "    0.00000000e+00   0.00000000e+00   0.00000000e+00   0.00000000e+00]\n",
      " [  4.99999982e+00   8.57281507e+00   1.46986212e+01   2.52016025e+01\n",
      "    4.32091406e+01   7.40822482e+01   1.27009015e+02   2.17730617e+02\n",
      "    3.73195660e+02   6.39477944e+02   1.09515394e+03   1.87361612e+03\n",
      "    3.19938628e+03   5.44438202e+03   9.20625816e+03   1.53898043e+04\n",
      "   -1.00000000e+00  -1.00000000e+00  -1.00000000e+00  -1.00000000e+00\n",
      "   -1.00000000e+00  -1.00000000e+00  -1.00000000e+00  -1.00000000e+00\n",
      "   -1.00000000e+00   0.00000000e+00   0.00000000e+00   0.00000000e+00\n",
      "    0.00000000e+00   0.00000000e+00   0.00000000e+00   0.00000000e+00\n",
      "    0.00000000e+00   0.00000000e+00   0.00000000e+00   0.00000000e+00\n",
      "    0.00000000e+00   0.00000000e+00   0.00000000e+00   0.00000000e+00]\n",
      " [  9.99999965e+00   1.85847652e+01   3.45403791e+01   6.41961369e+01\n",
      "    1.19316364e+02   2.21766211e+02   4.12177742e+02   7.66030340e+02\n",
      "    1.42342907e+03   2.64402349e+03   4.90744500e+03   9.09383752e+03\n",
      "    1.67966521e+04   3.08213973e+04   5.58218246e+04   9.85234531e+04\n",
      "    1.65415346e+05  -1.00000000e+00  -1.00000000e+00  -1.00000000e+00\n",
      "   -1.00000000e+00  -1.00000000e+00  -1.00000000e+00  -1.00000000e+00\n",
      "    0.00000000e+00   0.00000000e+00   0.00000000e+00   0.00000000e+00\n",
      "    0.00000000e+00   0.00000000e+00   0.00000000e+00   0.00000000e+00\n",
      "    0.00000000e+00   0.00000000e+00   0.00000000e+00   0.00000000e+00\n",
      "    0.00000000e+00   0.00000000e+00   0.00000000e+00   0.00000000e+00]\n",
      " [  1.49999997e+01   3.14960400e+01   6.61681037e+01   1.39080951e+02\n",
      "    2.92489456e+02   6.15420807e+02   1.29552436e+03   2.72843731e+03\n",
      "    5.74832714e+03   1.21128836e+04   2.55181621e+04   5.36946210e+04\n",
      "    1.12601150e+05   2.34165096e+05   4.77469539e+05   9.30515183e+05\n",
      "    1.64021095e+06   2.36034731e+06  -1.00000000e+00  -1.00000000e+00\n",
      "   -1.00000000e+00  -1.00000000e+00   0.00000000e+00   0.00000000e+00\n",
      "    0.00000000e+00   0.00000000e+00   0.00000000e+00   0.00000000e+00\n",
      "    0.00000000e+00   0.00000000e+00   0.00000000e+00   0.00000000e+00\n",
      "    0.00000000e+00   0.00000000e+00   0.00000000e+00   0.00000000e+00\n",
      "    0.00000000e+00   0.00000000e+00   0.00000000e+00   0.00000000e+00]]\n",
      "2360347.30626\n"
     ]
    },
    {
     "data": {
      "text/plain": [
       "2360347.3062576489"
      ]
     },
     "execution_count": 132,
     "metadata": {},
     "output_type": "execute_result"
    }
   ],
   "source": [
    "# array testing \n",
    "test = sc.array(sc.random.uniform(low= -2, high = 100,size=10000)).reshape(100,100)\n",
    "# sc.unravel_index(sc.argmax(test))\n",
    "test = R0_array\n",
    "max_ind = sc.unravel_index(sc.argmax(test, axis=None), test.shape)\n",
    "print(max_ind)\n",
    "print(test)\n",
    "print(test[max_ind])\n",
    "R0_array[find_max(R0_array)]\n",
    "\n"
   ]
  },
  {
   "cell_type": "code",
   "execution_count": null,
   "metadata": {},
   "outputs": [],
   "source": []
  }
 ],
 "metadata": {
  "kernelspec": {
   "display_name": "Python 3",
   "language": "python",
   "name": "python3"
  },
  "language_info": {
   "codemirror_mode": {
    "name": "ipython",
    "version": 3
   },
   "file_extension": ".py",
   "mimetype": "text/x-python",
   "name": "python",
   "nbconvert_exporter": "python",
   "pygments_lexer": "ipython3",
   "version": "3.8.2"
  },
  "toc": {
   "base_numbering": 1,
   "nav_menu": {},
   "number_sections": true,
   "sideBar": true,
   "skip_h1_title": false,
   "title_cell": "Table of Contents",
   "title_sidebar": "Contents",
   "toc_cell": true,
   "toc_position": {
    "height": "calc(100% - 180px)",
    "left": "10px",
    "top": "150px",
    "width": "370.6px"
   },
   "toc_section_display": true,
   "toc_window_display": true
  },
  "varInspector": {
   "cols": {
    "lenName": 16,
    "lenType": 16,
    "lenVar": 40
   },
   "kernels_config": {
    "python": {
     "delete_cmd_postfix": "",
     "delete_cmd_prefix": "del ",
     "library": "var_list.py",
     "varRefreshCmd": "print(var_dic_list())"
    },
    "r": {
     "delete_cmd_postfix": ") ",
     "delete_cmd_prefix": "rm(",
     "library": "var_list.r",
     "varRefreshCmd": "cat(var_dic_list()) "
    }
   },
   "position": {
    "height": "714.85px",
    "left": "1409px",
    "right": "20px",
    "top": "58px",
    "width": "386px"
   },
   "types_to_exclude": [
    "module",
    "function",
    "builtin_function_or_method",
    "instance",
    "_Feature"
   ],
   "window_display": true
  }
 },
 "nbformat": 4,
 "nbformat_minor": 2
}
