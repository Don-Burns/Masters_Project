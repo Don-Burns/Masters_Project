{
 "cells": [
  {
   "cell_type": "markdown",
   "metadata": {},
   "source": [
    "# Optimisation Implementation\n",
    "- use scipy.optimisation and just return the inverse which would normally be minimised but by inverting is then maximised when inverted\n",
    "\n",
    "- optimising with respect to $R_0$"
   ]
  },
  {
   "cell_type": "markdown",
   "metadata": {},
   "source": [
    "# function"
   ]
  },
  {
   "cell_type": "code",
   "execution_count": 1,
   "metadata": {},
   "outputs": [],
   "source": [
    "from scipy import exp \n",
    "\n",
    "def L(t, k = 0.01):\n",
    "    \"\"\"\n",
    "        Calculates lifetime reproductive output of an organism, \n",
    "        as described in Charnov et al. 2001.\n",
    "\n",
    "        Arguments:\n",
    "            t {int} -- time\n",
    "            k {float} -- reproduction senescence\n",
    "        Returns:\n",
    "            {float} -- lifetime reproductive output\n",
    "    \"\"\"\n",
    "    return exp(-k*t)\n",
    "\n",
    "\n",
    "def dRmdt(mR0, t, alpha = 50, M = 1000, a = 2.15, c = 0.17, rho = 0.06, k = 0.01): \n",
    "    \"\"\"\n",
    "    A function to simulate change in mass and reproductive output for a time point.  \n",
    "    Function designed with the intention of beign integrated.\n",
    "    \n",
    "        Arguments:\n",
    "        t {float} -- time\n",
    "        mR0 {float} -- array with mass (g) and reproduction at start of time step \n",
    "        alpha {float} -- asymtotic mass (g)\n",
    "        M {float} -- asymptotic mass (g)\n",
    "        a {float} -- growth rate (s^-1)\n",
    "        b {float} -- maintenace cost per cell ## found in function\n",
    "        c {float} -- reproductive cost (s^-1)\n",
    "        rho {float} -- scaling factor of reproduction \n",
    "        k {float} -- reproductive senesence\n",
    "        Z {float} -- ## found in function\n",
    "        \n",
    "    Returns:\n",
    "        {scipy.array} -- \n",
    "            dmdt --rate of change of mass in grams^1/4 per day (g^1/4 d^-1) at time t\n",
    "                NOTE:  integration of dmdt will give mass at t\n",
    "            Rt -- reproductive output at time t in terms of mass \n",
    "                NOTE: integration of Rt gives total Reproductive output for the bounds \n",
    "                        of the integral\n",
    "    \"\"\"\n",
    "    # predefine outputs \n",
    "                \n",
    "    m = mR0[0] \n",
    "    R = mR0[1]\n",
    "    b = (a/(M**0.25)) -c \n",
    "    Z = 2/alpha\n",
    "    Q = L(t-alpha, k)\n",
    "    \n",
    "    # conditional tree dependant on `alpha`\n",
    "    if t < 0:\n",
    "        return \"ERROR: time < 0\"\n",
    "    if t < alpha:\n",
    "        dmdt = (a * (m**0.75)) - (b * m)\n",
    "        R = 0\n",
    "    elif t >= alpha:\n",
    "        \n",
    "        dmdt = (a * (m**0.75)) - (b * m) - (c * (m**rho))\n",
    "#         R = Q*c * m**rho\n",
    "        R = c * (exp(-Z)) * m**rho * exp(-(k + Z) * (t - alpha))\n",
    "    if m + dmdt < 0: # to set `m` to 0 when it would dip below 0\n",
    "        dmdt = -m\n",
    "    \n",
    "    return sc.array([dmdt, R])\n",
    "#     return dict[\"dmdt\" : dmdt, \"Reproduciton\" : R]\n",
    "\n",
    "def Opt(cRho, params): \n",
    "    # input vars reordered to suit minimize? with c and rho to be unpacked?\n",
    "    \"\"\"\n",
    "    A function to maximise the function `dRmdt` to give values of `c` and `rho \n",
    "    which result in the greatest `R0` possible.\n",
    "    \n",
    "    Arguments:\n",
    "        cRho {list} -- contains the initial guesses for `c` and `rho`;\n",
    "            c {float} -- reproductive cost (s^-1)\n",
    "            rho {float} -- scaling factor of reproduction \n",
    "            \n",
    "        params{list} -- contains the parameters needed to run the integration in the order:\n",
    "        \n",
    "            t {float} -- time\n",
    "            mR0 {float} -- array with mass (g) and reproduction at start of time step \n",
    "            alpha {float} -- asymtotic mass (g)\n",
    "            M {float} -- asymptotic mass (g)\n",
    "            a {float} -- growth rate (s^-1)\n",
    "            k {float} -- reproductive senesence\n",
    "            Z {float} -- ## found in function\n",
    "        \n",
    "    Returns:\n",
    "        {array} --  The sum of the reproduction integral for use with `minimise`\n",
    "        -------the optimal values for `c` and `rho` which yield \n",
    "                    the highest cumulative reproduction-----------\n",
    "        \n",
    "    \"\"\"\n",
    "    # unpack variables\n",
    "    c, rho = cRho\n",
    "    t, mR0, alpha, M, a, k = params\n",
    "    \n",
    "    # integrate \n",
    "    integral = integrate.odeint(dRmdt, mR0, t, args = (alpha, M, a, c, rho, k))\n",
    "    # store reproduction\n",
    "    repro = integral[:,1]\n",
    "    mass = integral[:,0]\n",
    "    # sum the integral to have 1 number for optimisation\n",
    "#     result = sum(repro)\n",
    "    result = repro[-1]\n",
    "    \n",
    "    # to try and avoid shrinking fish \n",
    "    if mass[-1] == 0 or mass[-1] < mass[alpha]:\n",
    "        result = 0\n",
    "    \n",
    "    # return negative result since we are minimising \n",
    "    return -result\n",
    "    "
   ]
  },
  {
   "cell_type": "code",
   "execution_count": 2,
   "metadata": {},
   "outputs": [
    {
     "data": {
      "text/plain": [
       "<Figure size 640x480 with 1 Axes>"
      ]
     },
     "metadata": {},
     "output_type": "display_data"
    }
   ],
   "source": [
    "## imports\n",
    "import matplotlib.pyplot as plt\n",
    "import scipy as sc\n",
    "from scipy import integrate\n",
    "from scipy.optimize import minimize\n",
    "\n",
    "days = 8000#1500 #  time to simulate over\n",
    "\n",
    "# define starting parameters -- using cod values from west 2001 as a base/ballpark values\n",
    "\n",
    "m0 = 0.1 # starting mass at t_0\n",
    "R0 = 0 # starting reproduction at t_0, 0 because organism not yet mature in my sims\n",
    "a = 2.15 # cost of new mass \n",
    "b =  0 # no need to calculate right now since i do it in function,could be done here to save time\n",
    "c = 0.1\n",
    "\n",
    "# reproductive cost \n",
    "M =  25000\n",
    "alpha = 1000 # age of maturation (days)\n",
    "rho = 0.33 # reproductive scaling parameter\n",
    "k =  0.01\n",
    "\n",
    "# organising starting params for use\n",
    "\n",
    "mR0 = sc.array([m0, R0]) # starting values for integration, [starting mass, starting repro]\n",
    "t = sc.arange(0, days, 1) # t values for integration\n",
    "params = (alpha, M, a, c, rho, k) # tuple for integration arguments\n",
    "\n",
    "\n",
    "# integration\n",
    "mR = integrate.odeint(dRmdt, mR0, t, args = params)\n",
    "mass = mR[:, 0]\n",
    "repro = mR[:, 1]\n",
    "\n",
    "\n",
    "# exploring output\n",
    "# mass[-1000:-675] # final 50 values to check for `nan`\n",
    "\n",
    "\n",
    "\n",
    "\n",
    "plt.figure()\n",
    "plt.plot(t, mass, label = \"Mass\")\n",
    "plt.plot(t, repro, label =  \"Reproduction\")\n",
    "plt.xlabel(\"Time (high resources)\")\n",
    "plt.ylabel(\"Mass (high resources)\")\n",
    "plt.legend()\n",
    "plt.show()\n"
   ]
  },
  {
   "cell_type": "markdown",
   "metadata": {},
   "source": [
    "# Maximisation"
   ]
  },
  {
   "cell_type": "code",
   "execution_count": 3,
   "metadata": {
    "scrolled": false
   },
   "outputs": [
    {
     "name": "stderr",
     "output_type": "stream",
     "text": [
      "/usr/local/lib/python3.6/dist-packages/ipykernel_launcher.py:61: RuntimeWarning: overflow encountered in double_scalars\n",
      "/usr/local/lib/python3.6/dist-packages/ipykernel_launcher.py:58: RuntimeWarning: invalid value encountered in double_scalars\n",
      "/usr/lib/python3/dist-packages/scipy/integrate/odepack.py:218: ODEintWarning: Excess work done on this call (perhaps wrong Dfun type). Run with full_output = 1 to get quantitative information.\n",
      "  warnings.warn(warning_msg, ODEintWarning)\n",
      "/usr/local/lib/python3.6/dist-packages/ipykernel_launcher.py:60: RuntimeWarning: invalid value encountered in double_scalars\n"
     ]
    },
    {
     "name": "stdout",
     "output_type": "stream",
     "text": [
      "0.25512924278\n",
      "0.164934701787\n",
      "Number of optimal results =  2\n"
     ]
    }
   ],
   "source": [
    "import matplotlib.pyplot as plt\n",
    "########## minimisation #########\n",
    "c = 0.1\n",
    "rho = 0.8\n",
    "cRho = [c, rho]\n",
    "params = [t, mR0, alpha, M, a, k]\n",
    "\n",
    "## Sanity check for the opt function\n",
    "# print(repro[-1])\n",
    "#     # minus to re-invert as the function is designed to invert with minus for use with optimise\n",
    "# # print(-Opt(cRho, params)) \n",
    "# res_obj = minimize(Opt, cRho, args=(params), method=\"NELDER-MEAD\") \n",
    "# print(res_obj)\n",
    "# c = res_obj.x[0]\n",
    "# rho = res_obj.x[1]\n",
    "# params = (alpha, M, a, c, rho, k)\n",
    "# mR = integrate.odeint(dRmdt, mR0, t, args = params)\n",
    "# mass = mR[:, 0]\n",
    "# repro = mR[:, 1]\n",
    "# plt.figure()\n",
    "# plt.plot(t, mass, label = \"Mass\")\n",
    "# plt.plot(t, repro, label =  \"Reproduction\")\n",
    "# plt.xlabel(\"Time (high resources)\")\n",
    "# plt.ylabel(\"Mass (high resources)\")\n",
    "# plt.legend()\n",
    "# plt.show()\n",
    "\n",
    "# to scan parameter space\n",
    "ticker = 0\n",
    "rhoSpace = sc.linspace(0,1,10) # .1 intervals\n",
    "cSpace = sc.linspace(0, 1, 10)\n",
    "for i, rho in enumerate(rhoSpace):\n",
    "    for j, c in enumerate(cSpace):\n",
    "        # assign c and rho\n",
    "        cRho = [c, rho]\n",
    "        params = [t, mR0, alpha, M, a, k]\n",
    "        # run optimisation\n",
    "        res_obj = minimize(Opt, cRho, args=(params), method=\"NELDER-MEAD\")\n",
    "        c = res_obj.x[0]\n",
    "        rho = res_obj.x[1]\n",
    "        params = (alpha, M, a, c, rho, k)\n",
    "        mR = integrate.odeint(dRmdt, mR0, t, args = params)\n",
    "        mass = mR[:, 0]\n",
    "        repro = mR[:, 1]\n",
    "        # if first iteration assign values\n",
    "        if i == 0 and j == 0:\n",
    "            OptRepro = repro[-1] \n",
    "            Optrho = rho\n",
    "            Optc = c\n",
    "        #else compare and assign if better\n",
    "        if repro[-1] == OptRepro:\n",
    "            ticker = ticker + 1\n",
    "        if repro[-1] > OptRepro:\n",
    "            OptRepro = repro[-1]\n",
    "            Optrho = rho\n",
    "            Optc = c \n",
    "            OptRes = res_obj\n",
    "            ticker = 1\n",
    "\n",
    "            \n",
    "print(Optc)\n",
    "print(Optrho)\n",
    "print(\"Number of optimal results = \", ticker)\n",
    "    "
   ]
  },
  {
   "cell_type": "code",
   "execution_count": 4,
   "metadata": {},
   "outputs": [
    {
     "data": {
      "image/png": "[encoded data removed]",
      "text/plain": [
       "<Figure size 432x288 with 1 Axes>"
      ]
     },
     "metadata": {
      "needs_background": "light"
     },
     "output_type": "display_data"
    },
    {
     "data": {
      "text/plain": [
       " final_simplex: (array([[ 0.25512924,  0.1649347 ],\n",
       "       [ 0.25512925,  0.16493468],\n",
       "       [ 0.25512924,  0.16493472]]), array([ -6.37472818e+14,  -6.37472818e+14,  -6.37472818e+14]))\n",
       "           fun: -637472817821618.88\n",
       "       message: 'Optimization terminated successfully.'\n",
       "          nfev: 131\n",
       "           nit: 57\n",
       "        status: 0\n",
       "       success: True\n",
       "             x: array([ 0.25512924,  0.1649347 ])"
      ]
     },
     "execution_count": 4,
     "metadata": {},
     "output_type": "execute_result"
    }
   ],
   "source": [
    "c = Optc\n",
    "rho = Optrho\n",
    "params = (alpha, M, a, c, rho, k)\n",
    "mR = integrate.odeint(dRmdt, mR0, t, args = params)\n",
    "mass = mR[:, 0]\n",
    "repro = mR[:, 1]\n",
    "plt.figure()\n",
    "plt.plot(t, mass, label = \"Mass\")\n",
    "plt.plot(t, repro, label =  \"Reproduction\")\n",
    "plt.xlabel(\"Time (high resources)\")\n",
    "plt.ylabel(\"Mass (high resources)\")\n",
    "plt.legend()\n",
    "plt.show()\n",
    "OptRes"
   ]
  },
  {
   "cell_type": "code",
   "execution_count": 5,
   "metadata": {},
   "outputs": [
    {
     "data": {
      "text/plain": [
       "array([  1.49641894e+42,   1.62778619e+42,   1.77068588e+42,\n",
       "         1.92613040e+42,   2.09522103e+42,   2.27915577e+42,\n",
       "         2.47923768e+42,   2.69688436e+42,   2.93363774e+42,\n",
       "         3.19117517e+42,   3.47132128e+42])"
      ]
     },
     "execution_count": 5,
     "metadata": {},
     "output_type": "execute_result"
    }
   ],
   "source": [
    "mass[999:1010]"
   ]
  },
  {
   "cell_type": "markdown",
   "metadata": {},
   "source": [
    "since the above yields `nan` below are listed the algorithms which have non-`nan` returns:\n",
    "- NELDER-MEAD - seems very robust give good results on visual inspection\n",
    "- POWELL  -  gives `nan` both params\n",
    "- CG -  gives `nan` both params\n",
    "- BFGS -  gives `nan` both params\n"
   ]
  },
  {
   "cell_type": "code",
   "execution_count": 6,
   "metadata": {
    "scrolled": true
   },
   "outputs": [
    {
     "name": "stdout",
     "output_type": "stream",
     "text": [
      "<class 'numpy.ndarray'>\n",
      "1.62778619024e+42\n",
      "9.64210247607e+297\n",
      "False\n"
     ]
    }
   ],
   "source": [
    "minimize\n",
    "print(type(mR))\n",
    "print(mR[alpha,0])\n",
    "print(mR[-1, 0])\n",
    "print( mR[-1,0]< mR[alpha, 0])\n"
   ]
  },
  {
   "cell_type": "code",
   "execution_count": 7,
   "metadata": {},
   "outputs": [
    {
     "ename": "NameError",
     "evalue": "name 'result' is not defined",
     "output_type": "error",
     "traceback": [
      "\u001b[0;31m---------------------------------------------------------------------------\u001b[0m",
      "\u001b[0;31mNameError\u001b[0m                                 Traceback (most recent call last)",
      "\u001b[0;32m<ipython-input-7-28f42506b468>\u001b[0m in \u001b[0;36m<module>\u001b[0;34m\u001b[0m\n\u001b[1;32m      1\u001b[0m \u001b[0;32mif\u001b[0m \u001b[0mmass\u001b[0m\u001b[0;34m[\u001b[0m\u001b[0;34m-\u001b[0m\u001b[0;36m1\u001b[0m\u001b[0;34m]\u001b[0m \u001b[0;34m==\u001b[0m \u001b[0;36m0\u001b[0m \u001b[0;32mor\u001b[0m \u001b[0mmass\u001b[0m\u001b[0;34m[\u001b[0m\u001b[0;34m-\u001b[0m\u001b[0;36m1\u001b[0m\u001b[0;34m]\u001b[0m \u001b[0;34m<\u001b[0m \u001b[0mmass\u001b[0m\u001b[0;34m[\u001b[0m\u001b[0malpha\u001b[0m\u001b[0;34m]\u001b[0m\u001b[0;34m:\u001b[0m\u001b[0;34m\u001b[0m\u001b[0;34m\u001b[0m\u001b[0m\n\u001b[1;32m      2\u001b[0m     \u001b[0mresult\u001b[0m \u001b[0;34m=\u001b[0m \u001b[0;34m-\u001b[0m\u001b[0msc\u001b[0m\u001b[0;34m.\u001b[0m\u001b[0minfty\u001b[0m\u001b[0;34m\u001b[0m\u001b[0;34m\u001b[0m\u001b[0m\n\u001b[0;32m----> 3\u001b[0;31m \u001b[0;34m-\u001b[0m\u001b[0mresult\u001b[0m\u001b[0;34m\u001b[0m\u001b[0;34m\u001b[0m\u001b[0m\n\u001b[0m",
      "\u001b[0;31mNameError\u001b[0m: name 'result' is not defined"
     ]
    }
   ],
   "source": [
    "if mass[-1] == 0 or mass[-1] < mass[alpha]:\n",
    "    result = -sc.infty\n",
    "-result\n"
   ]
  },
  {
   "cell_type": "code",
   "execution_count": null,
   "metadata": {},
   "outputs": [],
   "source": [
    "# sum function for maximise\n"
   ]
  },
  {
   "cell_type": "code",
   "execution_count": null,
   "metadata": {},
   "outputs": [],
   "source": [
    "minimize(dRmdt, mR0, args = (params), method = 'BFGS')\n"
   ]
  },
  {
   "cell_type": "code",
   "execution_count": null,
   "metadata": {},
   "outputs": [],
   "source": [
    "minimize"
   ]
  },
  {
   "cell_type": "markdown",
   "metadata": {},
   "source": [
    "# Testing"
   ]
  },
  {
   "cell_type": "code",
   "execution_count": null,
   "metadata": {},
   "outputs": [],
   "source": [
    "import matplotlib.pyplot as plt\n",
    "from scipy.optimize import minimize_scalar\n",
    "def func(x):\n",
    "    return x**2 + 10\n",
    "def ode(x, t, a=2, b = 2):\n",
    "    return 2*x + a + b\n",
    "def odeint(x0, t, a=2, b=2):\n",
    "    args = (a,b)\n",
    "    return integrate.odeint(ode, 0, t, args=args)[-1]\n",
    "def opt (x0, t, a=2, b=2):\n",
    "    return -odeint(x0, t, a, b)\n",
    "t = sc.arange(0,100,1)\n",
    "inter = []\n",
    "x = sc.linspace(-5, 5, 1000)\n",
    "y = []\n",
    "# for i in x:\n",
    "#     y.append(odeint(i, t))\n",
    "# a, b =[2,2]\n",
    "# inter = odeint(x0 = 30, t = t, a=a, b=b)\n",
    "# # inter = integrate.odeint(ode, 0, t, args=(a,b))\n",
    "# print(minimize(opt, x0=30, args=(t,a,b)))\n",
    "# print(minimize(func, x0=30))\n",
    "\n",
    "\n",
    "\n",
    "# plt.figure()\n",
    "# plt.plot(x, y)\n",
    "# plt.show()\n",
    "\n",
    "# print(minimize(fun = func, x0 = 30))\n",
    "# print(t)\n",
    "opt(x, t)"
   ]
  },
  {
   "cell_type": "code",
   "execution_count": null,
   "metadata": {},
   "outputs": [],
   "source": [
    "integrate.odeint\n"
   ]
  },
  {
   "cell_type": "code",
   "execution_count": null,
   "metadata": {},
   "outputs": [],
   "source": []
  },
  {
   "cell_type": "code",
   "execution_count": null,
   "metadata": {},
   "outputs": [],
   "source": []
  }
 ],
 "metadata": {
  "kernelspec": {
   "display_name": "Python 3",
   "language": "python",
   "name": "python3"
  },
  "language_info": {
   "codemirror_mode": {
    "name": "ipython",
    "version": 3
   },
   "file_extension": ".py",
   "mimetype": "text/x-python",
   "name": "python",
   "nbconvert_exporter": "python",
   "pygments_lexer": "ipython3",
   "version": "3.6.9"
  },
  "toc": {
   "base_numbering": 1,
   "nav_menu": {},
   "number_sections": true,
   "sideBar": true,
   "skip_h1_title": false,
   "title_cell": "Table of Contents",
   "title_sidebar": "Contents",
   "toc_cell": false,
   "toc_position": {},
   "toc_section_display": true,
   "toc_window_display": true
  },
  "varInspector": {
   "cols": {
    "lenName": 16,
    "lenType": 16,
    "lenVar": 40
   },
   "kernels_config": {
    "python": {
     "delete_cmd_postfix": "",
     "delete_cmd_prefix": "del ",
     "library": "var_list.py",
     "varRefreshCmd": "print(var_dic_list())"
    },
    "r": {
     "delete_cmd_postfix": ") ",
     "delete_cmd_prefix": "rm(",
     "library": "var_list.r",
     "varRefreshCmd": "cat(var_dic_list()) "
    }
   },
   "position": {
    "height": "764.85px",
    "left": "1441px",
    "right": "20px",
    "top": "57px",
    "width": "350px"
   },
   "types_to_exclude": [
    "module",
    "function",
    "builtin_function_or_method",
    "instance",
    "_Feature"
   ],
   "window_display": true
  }
 },
 "nbformat": 4,
 "nbformat_minor": 2
}
