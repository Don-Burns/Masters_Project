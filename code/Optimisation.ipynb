{
 "cells": [
  {
   "cell_type": "markdown",
   "metadata": {},
   "source": [
    "# Optimisation Implementation\n",
    "- use scipy.optimisation and just return the inverse which would normally be minimised but by inverting is then maximised when inverted\n",
    "\n",
    "- optimising with respect to $R_0$"
   ]
  },
  {
   "cell_type": "markdown",
   "metadata": {},
   "source": [
    "# function"
   ]
  },
  {
   "cell_type": "code",
   "execution_count": 1,
   "metadata": {},
   "outputs": [],
   "source": [
    "from scipy import exp \n",
    "\n",
    "def L(t, k = 0.01):\n",
    "    \"\"\"\n",
    "        Calculates lifetime reproductive output of an organism, \n",
    "        as described in Charnov et al. 2001.\n",
    "\n",
    "        Arguments:\n",
    "            t {int} -- time\n",
    "            k {float} -- reproduction senescence\n",
    "        Returns:\n",
    "            {float} -- lifetime reproductive output\n",
    "    \"\"\"\n",
    "    return exp(-k*t)\n",
    "\n",
    "\n",
    "def dRmdt(mR0, t, alpha = 50, M = 1000, a = 2.15, c = 0.17, rho = 0.06, k = 0.01): \n",
    "    \"\"\"\n",
    "    A function to simulate change in mass and reproductive output for a time point.  \n",
    "    Function designed with the intention of beign integrated.\n",
    "    \n",
    "        Arguments:\n",
    "        t {float} -- time\n",
    "        mR0 {float} -- array with mass (g) and reproduction at start of time step \n",
    "        alpha {float} -- asymtotic mass (g)\n",
    "        M {float} -- asymptotic mass (g)\n",
    "        a {float} -- growth rate (s^-1)\n",
    "        b {float} -- maintenace cost per cell ## found in function\n",
    "        c {float} -- reproductive cost (s^-1)\n",
    "        rho {float} -- scaling factor of reproduction \n",
    "        k {float} -- reproductive senesence\n",
    "        Z {float} -- ## found in function\n",
    "        \n",
    "    Returns:\n",
    "        {scipy.array} -- \n",
    "            dmdt --rate of change of mass in grams^1/4 per day (g^1/4 d^-1) at time t\n",
    "                NOTE:  integration of dmdt will give mass at t\n",
    "            Rt -- reproductive output at time t in terms of mass \n",
    "                NOTE: integration of Rt gives total Reproductive output for the bounds \n",
    "                        of the integral\n",
    "    \"\"\"\n",
    "    # predefine outputs \n",
    "                \n",
    "    m = mR0[0] \n",
    "    R = mR0[1]\n",
    "    b = (a/(M**0.25)) -c \n",
    "    Z = 2/alpha\n",
    "    Q = L(t-alpha, k)\n",
    "    \n",
    "    # conditional tree dependant on `alpha`\n",
    "    if t < 0:\n",
    "        return \"ERROR: time < 0\"\n",
    "    if t < alpha:\n",
    "        dmdt = (a * (m**0.75)) - (b * m)\n",
    "        R = 0\n",
    "    elif t >= alpha:\n",
    "        \n",
    "        dmdt = (a * (m**0.75)) - (b * m) - (c * (m**rho))\n",
    "#         R = Q*c * m**rho\n",
    "        R = c * Q * m**rho * exp(-(k + Z) * (t - alpha))\n",
    "    if m + dmdt < 0: # to set `m` to 0 when it would dip below 0\n",
    "        dmdt = -m\n",
    "    \n",
    "    return sc.array([dmdt, R])\n",
    "#     return dict[\"dmdt\" : dmdt, \"Reproduciton\" : R]\n",
    "\n",
    "def Opt(cRho, params): \n",
    "    # input vars reordered to suit minimize? with c and rho to be unpacked?\n",
    "    \"\"\"\n",
    "    A function to maximise the function `dRmdt` to give values of `c` and `rho \n",
    "    which result in the greatest `R0` possible.\n",
    "    \n",
    "    Arguments:\n",
    "        cRho {list} -- contains the initial guesses for `c` and `rho`;\n",
    "            c {float} -- reproductive cost (s^-1)\n",
    "            rho {float} -- scaling factor of reproduction \n",
    "            \n",
    "        params{list} -- contains the parameters needed to run the integration in the order:\n",
    "        \n",
    "            t {float} -- time\n",
    "            mR0 {float} -- array with mass (g) and reproduction at start of time step \n",
    "            alpha {float} -- asymtotic mass (g)\n",
    "            M {float} -- asymptotic mass (g)\n",
    "            a {float} -- growth rate (s^-1)\n",
    "            k {float} -- reproductive senesence\n",
    "            Z {float} -- ## found in function\n",
    "        \n",
    "    Returns:\n",
    "        {array} --  The sum of the reproduction integral for use with `minimise`\n",
    "        -------the optimal values for `c` and `rho` which yield \n",
    "                    the highest cumulative reproduction-----------\n",
    "        \n",
    "    \"\"\"\n",
    "    # unpack variables\n",
    "    c, rho = cRho\n",
    "    t, mR0, alpha, M, a, k = params\n",
    "    \n",
    "    # integrate \n",
    "    integral = integrate.odeint(dRmdt, mR0, t, args = (alpha, M, a, c, rho, k))\n",
    "    # store reproduction\n",
    "    repro = integral[:,1]\n",
    "    mass = integral[:,0]\n",
    "    # sum the integral to have 1 number for optimisation\n",
    "#     result = sum(repro)\n",
    "    result = repro[-1]\n",
    "    \n",
    "    # to try and avoid shrinking fish \n",
    "#     if mass[-1] == 0 or mass[-1] < mass[alpha]:\n",
    "    if mass[-1] < mass[alpha]:\n",
    "        result = 0\n",
    "    \n",
    "    # return negative result since we are minimising \n",
    "    return -result\n",
    "    "
   ]
  },
  {
   "cell_type": "code",
   "execution_count": 2,
   "metadata": {},
   "outputs": [
    {
     "data": {
      "text/plain": [
       "<Figure size 640x480 with 1 Axes>"
      ]
     },
     "metadata": {},
     "output_type": "display_data"
    }
   ],
   "source": [
    "## imports\n",
    "import matplotlib.pyplot as plt\n",
    "import scipy as sc\n",
    "from scipy import integrate\n",
    "from scipy.optimize import minimize\n",
    "\n",
    "days = 8000#1500 #  time to simulate over\n",
    "\n",
    "# define starting parameters -- using cod values from west 2001 as a base/ballpark values\n",
    "\n",
    "m0 = 0.1 # starting mass at t_0\n",
    "R0 = 0 # starting reproduction at t_0, 0 because organism not yet mature in my sims\n",
    "a = 2.15 # cost of new mass \n",
    "b =  0 # no need to calculate right now since i do it in function,could be done here to save time\n",
    "c = 0.1\n",
    "\n",
    "# reproductive cost \n",
    "M =  25000\n",
    "alpha = 1000 # age of maturation (days)\n",
    "rho = 0.33 # reproductive scaling parameter\n",
    "k =  0.01\n",
    "\n",
    "# organising starting params for use\n",
    "\n",
    "mR0 = sc.array([m0, R0]) # starting values for integration, [starting mass, starting repro]\n",
    "t = sc.arange(0, days, 1) # t values for integration\n",
    "params = (alpha, M, a, c, rho, k) # tuple for integration arguments\n",
    "\n",
    "\n",
    "# integration\n",
    "mR = integrate.odeint(dRmdt, mR0, t, args = params)\n",
    "mass = mR[:, 0]\n",
    "repro = mR[:, 1]\n",
    "\n",
    "\n",
    "# exploring output\n",
    "# mass[-1000:-675] # final 50 values to check for `nan`\n",
    "\n",
    "\n",
    "\n",
    "\n",
    "plt.figure()\n",
    "plt.plot(t, mass, label = \"Mass\")\n",
    "plt.plot(t, repro, label =  \"Reproduction\")\n",
    "plt.xlabel(\"Time (high resources)\")\n",
    "plt.ylabel(\"Mass (high resources)\")\n",
    "plt.legend()\n",
    "plt.show()\n"
   ]
  },
  {
   "cell_type": "markdown",
   "metadata": {},
   "source": [
    "# Maximisation"
   ]
  },
  {
   "cell_type": "code",
   "execution_count": 3,
   "metadata": {
    "scrolled": true
   },
   "outputs": [
    {
     "name": "stdout",
     "output_type": "stream",
     "text": [
      "410.045475006\n",
      "      fun: 0\n",
      " hess_inv: array([[1, 0],\n",
      "       [0, 1]])\n",
      "      jac: array([ 0.,  0.])\n",
      "  message: 'Optimization terminated successfully.'\n",
      "     nfev: 4\n",
      "      nit: 0\n",
      "     njev: 1\n",
      "   status: 0\n",
      "  success: True\n",
      "        x: array([ 0.4,  0.2])\n"
     ]
    },
    {
     "name": "stderr",
     "output_type": "stream",
     "text": [
      "/usr/lib/python3/dist-packages/scipy/integrate/odepack.py:218: ODEintWarning: Excess work done on this call (perhaps wrong Dfun type). Run with full_output = 1 to get quantitative information.\n",
      "  warnings.warn(warning_msg, ODEintWarning)\n"
     ]
    },
    {
     "data": {
      "image/png": "[encoded data removed]",
      "text/plain": [
       "<Figure size 432x288 with 1 Axes>"
      ]
     },
     "metadata": {
      "needs_background": "light"
     },
     "output_type": "display_data"
    },
    {
     "data": {
      "text/plain": [
       "True"
      ]
     },
     "execution_count": 3,
     "metadata": {},
     "output_type": "execute_result"
    }
   ],
   "source": [
    "import matplotlib.pyplot as plt\n",
    "########## minimisation #########\n",
    "c = 0.4\n",
    "rho = 0.2\n",
    "cRho = [c, rho]\n",
    "params = [t, mR0, alpha, M, a, k]\n",
    "\n",
    "## Sanity check for the opt function\n",
    "print(repro[-1])\n",
    "    # minus to re-invert as the function is designed to invert with minus for use with optimise\n",
    "# print(-Opt(cRho, params)) \n",
    "res_obj = minimize(Opt, cRho, args=(params)) \n",
    "print(res_obj)\n",
    "c = res_obj.x[0]\n",
    "rho = res_obj.x[1]\n",
    "params = (alpha, M, a, c, rho, k)\n",
    "mR = integrate.odeint(dRmdt, mR0, t, args = params)\n",
    "mass = mR[:, 0]\n",
    "repro = mR[:, 1]\n",
    "plt.figure()\n",
    "plt.plot(t, mass, label = \"Mass\")\n",
    "plt.plot(t, repro, label =  \"Reproduction\")\n",
    "plt.xlabel(\"Time (high resources)\")\n",
    "plt.ylabel(\"Mass (high resources)\")\n",
    "plt.legend()\n",
    "plt.show()\n",
    "\n",
    "mass[alpha] > mass[-1]"
   ]
  },
  {
   "cell_type": "code",
   "execution_count": null,
   "metadata": {},
   "outputs": [],
   "source": [
    "\n"
   ]
  },
  {
   "cell_type": "code",
   "execution_count": 4,
   "metadata": {},
   "outputs": [],
   "source": [
    "# # to scan parameter space\n",
    "# ticker = 1\n",
    "# rhoSpace = sc.arange(0, 1.1, 0.5) # .1 intervals\n",
    "# cSpace = sc.arange(0, 1.1, 0.5)\n",
    "# for i, rho in enumerate(rhoSpace):\n",
    "#     for j, c in enumerate(cSpace):\n",
    "#         # assign c and rho\n",
    "#         cRho = [c, rho]\n",
    "#         params = [t, mR0, alpha, M, a, k]\n",
    "#         # run optimisation\n",
    "#         res_obj = minimize(Opt, cRho, args=(params), method=\"NELDER-MEAD\")\n",
    "#         c = res_obj.x[0]\n",
    "#         rho = res_obj.x[1]\n",
    "#         params = (alpha, M, a, c, rho, k)\n",
    "#         mR = integrate.odeint(dRmdt, mR0, t, args = params)\n",
    "#         mass = mR[:, 0]\n",
    "#         repro = mR[:, 1]\n",
    "#         # if first iteration assign values\n",
    "#         if i == 0 and j == 0:\n",
    "#             OptRepro = repro[-1] \n",
    "#             Optrho = rho\n",
    "#             Optc = c\n",
    "#         #else compare and assign if better\n",
    "\n",
    "#         if repro[-1] > OptRepro:\n",
    "#             OptRepro = repro[-1]\n",
    "#             Optrho = rho\n",
    "#             Optc = c \n",
    "#             OptRes = res_obj\n",
    "#             ticker = 1\n",
    "#         if repro[-1] == OptRepro:\n",
    "#             ticker = ticker + 1\n",
    "            \n",
    "# print(Optc)\n",
    "# print(Optrho)\n",
    "# print(\"Number of optimal results = \", ticker)\n",
    "    "
   ]
  },
  {
   "cell_type": "code",
   "execution_count": 5,
   "metadata": {},
   "outputs": [],
   "source": [
    "# c = Optc\n",
    "# rho = Optrho\n",
    "# params = (alpha, M, a, c, rho, k)\n",
    "# mR = integrate.odeint(dRmdt, mR0, t, args = params)\n",
    "# mass = mR[:, 0]\n",
    "# repro = mR[:, 1]\n",
    "# plt.figure()\n",
    "# plt.plot(t, mass, label = \"Mass\")\n",
    "# plt.plot(t, repro, label =  \"Reproduction\")\n",
    "# plt.xlabel(\"Time (high resources)\")\n",
    "# plt.ylabel(\"Mass (high resources)\")\n",
    "# plt.legend()\n",
    "# plt.show()\n",
    "# OptRes"
   ]
  },
  {
   "cell_type": "markdown",
   "metadata": {},
   "source": [
    "since the above yields `nan` below are listed the algorithms which have non-`nan` returns:\n",
    "- NELDER-MEAD - seems very robust give good results on visual inspection\n",
    "- POWELL  -  gives `nan` both params\n",
    "- CG -  gives `nan` both params\n",
    "- BFGS -  gives `nan` both params\n"
   ]
  },
  {
   "cell_type": "code",
   "execution_count": 6,
   "metadata": {
    "scrolled": true
   },
   "outputs": [],
   "source": [
    "# minimize\n",
    "# print(type(mR))\n",
    "# print(mR[alpha,0])\n",
    "# print(mR[-1, 0])\n",
    "# print( mR[-1,0]< mR[alpha, 0])\n"
   ]
  },
  {
   "cell_type": "code",
   "execution_count": 7,
   "metadata": {},
   "outputs": [
    {
     "data": {
      "text/plain": [
       "<function scipy.optimize._minimize.minimize(fun, x0, args=(), method=None, jac=None, hess=None, hessp=None, bounds=None, constraints=(), tol=None, callback=None, options=None)>"
      ]
     },
     "execution_count": 7,
     "metadata": {},
     "output_type": "execute_result"
    }
   ],
   "source": [
    "minimize"
   ]
  },
  {
   "cell_type": "markdown",
   "metadata": {},
   "source": [
    "# Brute Force Parameter Space Exploration\n",
    "- taken from Luke Vassor's methodology"
   ]
  },
  {
   "cell_type": "code",
   "execution_count": 27,
   "metadata": {},
   "outputs": [
    {
     "name": "stdout",
     "output_type": "stream",
     "text": [
      "0.0\n",
      "0.1\n",
      "0.2\n"
     ]
    },
    {
     "name": "stderr",
     "output_type": "stream",
     "text": [
      "/usr/local/lib/python3.6/dist-packages/ipykernel_launcher.py:58: RuntimeWarning: invalid value encountered in double_scalars\n",
      "/usr/local/lib/python3.6/dist-packages/ipykernel_launcher.py:60: RuntimeWarning: invalid value encountered in double_scalars\n",
      "/usr/lib/python3/dist-packages/scipy/integrate/odepack.py:218: ODEintWarning: Excess work done on this call (perhaps wrong Dfun type). Run with full_output = 1 to get quantitative information.\n",
      "  warnings.warn(warning_msg, ODEintWarning)\n"
     ]
    },
    {
     "name": "stdout",
     "output_type": "stream",
     "text": [
      "0.3\n"
     ]
    },
    {
     "name": "stderr",
     "output_type": "stream",
     "text": [
      "/usr/local/lib/python3.6/dist-packages/ipykernel_launcher.py:61: RuntimeWarning: overflow encountered in double_scalars\n"
     ]
    },
    {
     "name": "stdout",
     "output_type": "stream",
     "text": [
      "0.4\n",
      "0.5\n",
      "0.6\n"
     ]
    },
    {
     "name": "stderr",
     "output_type": "stream",
     "text": [
      "/usr/local/lib/python3.6/dist-packages/ipykernel_launcher.py:58: RuntimeWarning: overflow encountered in double_scalars\n",
      "/usr/local/lib/python3.6/dist-packages/ipykernel_launcher.py:60: RuntimeWarning: overflow encountered in double_scalars\n",
      "/usr/lib/python3/dist-packages/scipy/integrate/odepack.py:218: ODEintWarning: Illegal input detected (internal error). Run with full_output = 1 to get quantitative information.\n",
      "  warnings.warn(warning_msg, ODEintWarning)\n"
     ]
    },
    {
     "name": "stdout",
     "output_type": "stream",
     "text": [
      "0.7\n",
      "0.8\n",
      "0.9\n",
      "1.0\n",
      "1.1\n",
      "1.2\n",
      "1.3\n"
     ]
    },
    {
     "name": "stderr",
     "output_type": "stream",
     "text": [
      "/usr/local/lib/python3.6/dist-packages/ipykernel_launcher.py:54: RuntimeWarning: overflow encountered in double_scalars\n"
     ]
    },
    {
     "name": "stdout",
     "output_type": "stream",
     "text": [
      "1.4\n",
      "1.5\n",
      "1.6\n",
      "1.7\n",
      "1.8\n",
      "1.9\n"
     ]
    },
    {
     "data": {
      "text/plain": [
       "(array([2, 2, 2, 2]), array([3, 5, 7, 9]))"
      ]
     },
     "execution_count": 27,
     "metadata": {},
     "output_type": "execute_result"
    }
   ],
   "source": [
    "# function to find maximum value from a matrix\n",
    "### imports\n",
    "import matplotlib.pyplot as plt\n",
    "import scipy as sc\n",
    "from scipy import integrate\n",
    "from scipy.optimize import minimize\n",
    "\n",
    "def find_max(array):\n",
    "    \"\"\"\n",
    "        A function to find the maximum of an array and return its indices\n",
    "\n",
    "        Arguments:\n",
    "            matrix {np.array} -- the matrix to find the max value of \n",
    "\n",
    "        Returns:\n",
    "            {tuple} --  the indices of the maximum value\n",
    "\n",
    "    \"\"\"\n",
    "    max_ind = sc.unravel_index(sc.argmax(array, axis=None), array.shape)\n",
    "    return max_ind\n",
    "\n",
    "#### set-up ####\n",
    "## rho and c\n",
    "resolution = 0.1# the resolution of the parameter space exploration for `rho` and `c`\n",
    "rho_vec = sc.arange(0, 2, resolution)\n",
    "c_vec = sc.arange(0, 2, resolution)\n",
    "\n",
    "# array to store final reproduction values\n",
    "# `c` will be row and `rho` columns, ith val is ith val in c_vec or jth val is jth in rho_vec\n",
    "R0_array = sc.zeros((len(c_vec), len(rho_vec)))\n",
    "\n",
    "\n",
    "\n",
    "\n",
    "\n",
    "days = 8000#1500 #  time to simulate over\n",
    "\n",
    "# define starting parameters -- using cod values from west 2001 as a base/ballpark values\n",
    "\n",
    "m0_start = 0.1 # starting mass at t_0\n",
    "R0_start = 0 # starting reproduction at t_0, 0 because organism not yet mature in my sims\n",
    "a = 2.15 # cost of new mass \n",
    "b =  0 # no need to calculate right now since i do it in function,could be done here to save time\n",
    "# c = None\n",
    "\n",
    "# reproductive cost \n",
    "M =  25000\n",
    "alpha = 1000 # age of maturation (days)\n",
    "# rho = None # reproductive scaling parameter\n",
    "k =  0.01\n",
    "\n",
    "# organising starting params for use\n",
    "\n",
    "mR0 = sc.array([m0_start, R0_start]) # starting values for integration, [starting mass, starting repro]\n",
    "t = sc.arange(0, days, 1) # t values for integration\n",
    "\n",
    "    \n",
    "for i, c in enumerate(c_vec):\n",
    "    print(c)\n",
    "    for j, rho in enumerate(rho_vec):\n",
    "        \n",
    "        ## simulate with params for the loop\n",
    "        params = (alpha, M, a, c, rho, k) # tuple for integration arguments\n",
    "        res = integrate.odeint(dRmdt, mR0, t, args=params)\n",
    "        mass = res[:,0]\n",
    "        R0 = res[:,1]\n",
    "        \n",
    "        ## check that the outcome is not a shrinking fish\n",
    "        if mass[alpha] > mass[-1]:\n",
    "            # if shrinking fish set R0 to -1 to differentiate from other viable results \n",
    "            R0[-1] = -1 # <-- change to NA to differentiate?\n",
    "            \n",
    "        ## check for nan values\n",
    "        if sc.isnan(mass[-1]):\n",
    "            R0[-1] = -2\n",
    "        \n",
    "        R0_array[i,j] = R0[-1]\n",
    "        \n",
    "max_ind = find_max(R0_array)\n",
    "max_R0 = R0_array[max_ind]\n",
    "c_opt = c_vec[max_ind[0]]\n",
    "rho_opt = rho_vec[max_ind[1]]\n",
    "        \n",
    "        ## add a way to make sure that there is not more than one max\n",
    "multi = sc.where(R0_array == R0_array[max_ind])\n",
    "multi\n",
    "        ## make fancy heatmap"
   ]
  },
  {
   "cell_type": "code",
   "execution_count": null,
   "metadata": {},
   "outputs": [],
   "source": [
    "multi = sc.where(R0_array == R0_array[max_ind])\n",
    "multi\n"
   ]
  },
  {
   "cell_type": "code",
   "execution_count": 28,
   "metadata": {},
   "outputs": [
    {
     "name": "stdout",
     "output_type": "stream",
     "text": [
      "rho is : 0.3\n",
      "c is : 0.2\n"
     ]
    },
    {
     "data": {
      "text/plain": [
       "'old c is : 0.01'"
      ]
     },
     "execution_count": 28,
     "metadata": {},
     "output_type": "execute_result"
    }
   ],
   "source": [
    "print(\"rho is :\", rho_opt)\n",
    "print(\"c is :\", c_opt)\n",
    "\"old rho is : 1.15\"\n",
    "\"old c is : 0.01\""
   ]
  },
  {
   "cell_type": "code",
   "execution_count": null,
   "metadata": {},
   "outputs": [],
   "source": []
  },
  {
   "cell_type": "code",
   "execution_count": 22,
   "metadata": {},
   "outputs": [
    {
     "data": {
      "text/plain": [
       "nan"
      ]
     },
     "execution_count": 22,
     "metadata": {},
     "output_type": "execute_result"
    }
   ],
   "source": [
    "sc.nan"
   ]
  },
  {
   "cell_type": "code",
   "execution_count": 30,
   "metadata": {
    "scrolled": false
   },
   "outputs": [
    {
     "data": {
      "text/plain": [
       "16045135.799562616"
      ]
     },
     "execution_count": 30,
     "metadata": {},
     "output_type": "execute_result"
    }
   ],
   "source": [
    "\n",
    "R0_array[max_ind]\n",
    "# R0_array\n"
   ]
  },
  {
   "cell_type": "markdown",
   "metadata": {},
   "source": [
    "# Testing"
   ]
  },
  {
   "cell_type": "markdown",
   "metadata": {},
   "source": [
    "## Test values"
   ]
  },
  {
   "cell_type": "code",
   "execution_count": 31,
   "metadata": {
    "scrolled": false
   },
   "outputs": [
    {
     "name": "stderr",
     "output_type": "stream",
     "text": [
      "/usr/lib/python3/dist-packages/numpy/lib/scimath.py:120: RuntimeWarning: invalid value encountered in less\n",
      "  if any(isreal(x) & (x < 0)):\n",
      "/usr/lib/python3/dist-packages/numpy/lib/scimath.py:262: RuntimeWarning: invalid value encountered in log\n",
      "  return nx.log(x)\n",
      "/usr/lib/python3/dist-packages/numpy/core/numeric.py:531: ComplexWarning: Casting complex values to real discards the imaginary part\n",
      "  return array(a, dtype, copy=False, order=order)\n"
     ]
    },
    {
     "data": {
      "image/png": "[encoded data removed]",
      "text/plain": [
       "<Figure size 432x288 with 1 Axes>"
      ]
     },
     "metadata": {
      "needs_background": "light"
     },
     "output_type": "display_data"
    },
    {
     "name": "stdout",
     "output_type": "stream",
     "text": [
      "rho is:  0.3\n",
      "c is:  0.2\n"
     ]
    }
   ],
   "source": [
    "## imports\n",
    "import scipy as sc\n",
    "from scipy import integrate\n",
    "\n",
    "days = 8000#1500 #  time to simulate over\n",
    "\n",
    "# define starting parameters -- using cod values from west 2001 as a base/ballpark values\n",
    "\n",
    "m0 = 0.1 # starting mass at t_0\n",
    "R0 = 0 # starting reproduction at t_0, 0 because organism not yet mature in my sims\n",
    "a = 0.017 # cost of new mass \n",
    "b =  0 # no need to calculate right now since i do it in function,could be done here to save time\n",
    "c = c_opt\n",
    "\n",
    "# reproductive cost \n",
    "M =  25000\n",
    "alpha = 1000 # age of maturation (days)\n",
    "rho = rho_opt # reproductive scaling parameter\n",
    "k =  0.01\n",
    "\n",
    "# organising starting params for use\n",
    "\n",
    "mR0 = sc.array([m0, R0]) # starting values for integration, [starting mass, starting repro]\n",
    "t = sc.arange(0, days, 1) # t values for integration\n",
    "params = (alpha, M, a, c, rho, k) # tuple for integration arguments\n",
    "\n",
    "\n",
    "# integration\n",
    "mR = integrate.odeint(dRmdt, mR0, t, args = params)\n",
    "mass = mR[:, 0]\n",
    "repro = mR[:, 1]\n",
    "\n",
    "\n",
    "######plotting\n",
    "import matplotlib.pyplot as plt\n",
    "\n",
    "plt.figure()\n",
    "plt.grid(True)\n",
    "plt.plot(t, sc.log(mass), label = \"Somatic Growth\")\n",
    "# plt.plot(t, repro, label = \"Cumulative Reproduction\")\n",
    "plt.xlabel(\"Time\")\n",
    "plt.ylabel(\"Mass\")\n",
    "plt.legend()\n",
    "# plt.savefig(\"../results/pretty_curve.png\", dpi = 300)\n",
    "plt.show()\n",
    "\n",
    "print(\"rho is: \", rho)\n",
    "print(\"c is: \", c)"
   ]
  },
  {
   "cell_type": "code",
   "execution_count": 13,
   "metadata": {},
   "outputs": [
    {
     "data": {
      "text/plain": [
       "True"
      ]
     },
     "execution_count": 13,
     "metadata": {},
     "output_type": "execute_result"
    }
   ],
   "source": [
    "mass[alpha] > mass[-1]\n",
    "# mass[alpha] \n",
    "# mass[-1]"
   ]
  },
  {
   "cell_type": "code",
   "execution_count": 124,
   "metadata": {},
   "outputs": [
    {
     "data": {
      "text/plain": [
       "array([[ 0,  1,  2,  3,  4],\n",
       "       [ 5,  6,  7,  8,  9],\n",
       "       [10, 11, 12, 13, 14],\n",
       "       [15, 16, 17, 18, 19]])"
      ]
     },
     "execution_count": 124,
     "metadata": {},
     "output_type": "execute_result"
    }
   ],
   "source": [
    "# array testing \n",
    "test = sc.array(range(20)).reshape(4,5)\n",
    "# sc.unravel_index(sc.argmax(test))\n",
    "max_ind = sc.unravel_index(sc.argmax(test, axis=None), test.shape)\n",
    "max_ind\n",
    "test\n",
    "# sc.zeros((10,10)).shape\n"
   ]
  },
  {
   "cell_type": "code",
   "execution_count": null,
   "metadata": {},
   "outputs": [],
   "source": [
    "import matplotlib.pyplot as plt\n",
    "from scipy.optimize import minimize_scalar\n",
    "def func(x):\n",
    "    return x**2 + 10\n",
    "def ode(x, t, a=2, b = 2):\n",
    "    return 2*x + a + b\n",
    "def odeint(x0, t, a=2, b=2):\n",
    "    args = (a,b)\n",
    "    return integrate.odeint(ode, 0, t, args=args)[-1]\n",
    "def opt (x0, t, a=2, b=2):\n",
    "    return -odeint(x0, t, a, b)\n",
    "t = sc.arange(0,100,1)\n",
    "inter = []\n",
    "x = sc.linspace(-5, 5, 1000)\n",
    "y = []\n",
    "# for i in x:\n",
    "#     y.append(odeint(i, t))\n",
    "# a, b =[2,2]\n",
    "# inter = odeint(x0 = 30, t = t, a=a, b=b)\n",
    "# # inter = integrate.odeint(ode, 0, t, args=(a,b))\n",
    "# print(minimize(opt, x0=30, args=(t,a,b)))\n",
    "# print(minimize(func, x0=30))\n",
    "\n",
    "\n",
    "\n",
    "# plt.figure()\n",
    "# plt.plot(x, y)\n",
    "# plt.show()\n",
    "\n",
    "# print(minimize(fun = func, x0 = 30))\n",
    "# print(t)\n",
    "opt(x, t)"
   ]
  },
  {
   "cell_type": "code",
   "execution_count": null,
   "metadata": {},
   "outputs": [],
   "source": [
    "integrate.odeint\n"
   ]
  },
  {
   "cell_type": "code",
   "execution_count": null,
   "metadata": {},
   "outputs": [],
   "source": []
  },
  {
   "cell_type": "code",
   "execution_count": null,
   "metadata": {},
   "outputs": [],
   "source": []
  }
 ],
 "metadata": {
  "kernelspec": {
   "display_name": "Python 3",
   "language": "python",
   "name": "python3"
  },
  "language_info": {
   "codemirror_mode": {
    "name": "ipython",
    "version": 3
   },
   "file_extension": ".py",
   "mimetype": "text/x-python",
   "name": "python",
   "nbconvert_exporter": "python",
   "pygments_lexer": "ipython3",
   "version": "3.6.9"
  },
  "toc": {
   "base_numbering": 1,
   "nav_menu": {},
   "number_sections": true,
   "sideBar": true,
   "skip_h1_title": false,
   "title_cell": "Table of Contents",
   "title_sidebar": "Contents",
   "toc_cell": false,
   "toc_position": {
    "height": "calc(100% - 180px)",
    "left": "10px",
    "top": "150px",
    "width": "370.6px"
   },
   "toc_section_display": true,
   "toc_window_display": true
  },
  "varInspector": {
   "cols": {
    "lenName": 16,
    "lenType": 16,
    "lenVar": 40
   },
   "kernels_config": {
    "python": {
     "delete_cmd_postfix": "",
     "delete_cmd_prefix": "del ",
     "library": "var_list.py",
     "varRefreshCmd": "print(var_dic_list())"
    },
    "r": {
     "delete_cmd_postfix": ") ",
     "delete_cmd_prefix": "rm(",
     "library": "var_list.r",
     "varRefreshCmd": "cat(var_dic_list()) "
    }
   },
   "position": {
    "height": "764.85px",
    "left": "1441px",
    "right": "20px",
    "top": "57px",
    "width": "350px"
   },
   "types_to_exclude": [
    "module",
    "function",
    "builtin_function_or_method",
    "instance",
    "_Feature"
   ],
   "window_display": true
  }
 },
 "nbformat": 4,
 "nbformat_minor": 2
}
