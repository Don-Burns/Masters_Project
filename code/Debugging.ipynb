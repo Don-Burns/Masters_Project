{
 "cells": [
  {
   "cell_type": "markdown",
   "metadata": {
    "toc": true
   },
   "source": [
    "<h1>Table of Contents<span class=\"tocSkip\"></span></h1>\n",
    "<div class=\"toc\"><ul class=\"toc-item\"><li><span><a href=\"#Functions\" data-toc-modified-id=\"Functions-1\"><span class=\"toc-item-num\">1&nbsp;&nbsp;</span>Functions</a></span><ul class=\"toc-item\"><li><span><a href=\"#dmdt-function\" data-toc-modified-id=\"dmdt-function-1.1\"><span class=\"toc-item-num\">1.1&nbsp;&nbsp;</span>dmdt function</a></span></li></ul></li><li><span><a href=\"#Code\" data-toc-modified-id=\"Code-2\"><span class=\"toc-item-num\">2&nbsp;&nbsp;</span>Code</a></span></li><li><span><a href=\"#Optimising-reproduction\" data-toc-modified-id=\"Optimising-reproduction-3\"><span class=\"toc-item-num\">3&nbsp;&nbsp;</span>Optimising reproduction</a></span></li><li><span><a href=\"#Checking-Resource-Fluctuation\" data-toc-modified-id=\"Checking-Resource-Fluctuation-4\"><span class=\"toc-item-num\">4&nbsp;&nbsp;</span>Checking Resource Fluctuation</a></span></li></ul></div>"
   ]
  },
  {
   "cell_type": "markdown",
   "metadata": {},
   "source": [
    "This notebook is to debugg / evaluate the supply model "
   ]
  },
  {
   "cell_type": "code",
   "execution_count": 1,
   "metadata": {},
   "outputs": [],
   "source": [
    "import seaborn as sb\n",
    "sb.set(context='paper',style='whitegrid', rc={'figure.facecolor':'white'}, font_scale=1.2)\n",
    "from numpy import zeros_like, meshgrid, around"
   ]
  },
  {
   "cell_type": "markdown",
   "metadata": {},
   "source": [
    "# Functions"
   ]
  },
  {
   "cell_type": "code",
   "execution_count": 2,
   "metadata": {},
   "outputs": [],
   "source": [
    "\"\"\"\n",
    "    Contains all functions and classes needed to run the notebooks and\n",
    "    simulations for my Masters thesis on ontogenetic growth models done as part\n",
    "    of the \"Computational Methods in Ecology and Evolution\" MSc at Imperial\n",
    "    College London 2019/2020\n",
    "\"\"\"\n",
    "\n",
    "\n",
    "###### Imports ######\n",
    "from numpy import arange, array\n",
    "##optimisation\n",
    "from numpy import unravel_index, argmax, isnan, nan_to_num, zeros\n",
    "## maths functions\n",
    "from scipy.integrate import odeint \n",
    "from numpy import exp, sin, pi, log10, log\n",
    "## plotting\n",
    "import matplotlib.pyplot as plt\n",
    "\n",
    "###### Functions ######\n",
    "\n",
    "## Supply Model ##\n",
    "def am(m, dimensionality = \"2D\"):\n",
    "    \"\"\"\n",
    "    Calculates mass specific search rate in a functional response as derived in Pawar et al 2012.\n",
    "\n",
    "    Args:\n",
    "        m (float): Mass of individual\n",
    "        dimensionality (str, optional): Dimensionality of the functional response. Defaults to \"3D\".\n",
    "\n",
    "    Returns:\n",
    "        float: Mass specific search rate (a)\n",
    "    \"\"\"\n",
    "    if dimensionality == \"3D\":\n",
    "        a0 = 10** -1.77  # this is log_10(a0) in reality\n",
    "        gamma = 1.05 # scarce resources\n",
    "        return a0 * (m**gamma)\n",
    "    \n",
    "    if dimensionality == \"2D\":\n",
    "        a0 = 10** -3.08 # this is log_10(a0) in reality\n",
    "        gamma = 0.68 # scarce resources\n",
    "        return a0 * (m**gamma)\n",
    "\n",
    "def hm(m, dimensionality = \"2D\"):\n",
    "    \"\"\"\n",
    "    Calculates mass specific handling time in a functional response as derived in Pawar et al 2012.\n",
    "\n",
    "    Args:\n",
    "        m (float): Mass of individual\n",
    "        dimensionality (str, optional): Dimensionality of the functional response. Defaults to \"3D\".\n",
    "\n",
    "    Returns:\n",
    "        float: Mass specific handling time (h)\n",
    "    \"\"\"\n",
    "\n",
    "    if dimensionality == \"3D\":\n",
    "        tk0 = 10**3.04  # this is log_10(tk0) in reality\n",
    "        beta = 0.75#1.1 # scarce resoruces\n",
    "        return (m**-beta) * tk0\n",
    "\n",
    "    if dimensionality == \"2D\":\n",
    "        tk0 = 10**3.95 # this is log_10(tk0) in reality\n",
    "        beta = 0.75#1.02 # scarce resoruces\n",
    "        return (m**-beta) * tk0\n",
    "\n",
    "def Xrt(t, amp, centre, period = 365):\n",
    "    \n",
    "    \"\"\"\n",
    "    To simulate the fluctuation of resource density in a functional response \n",
    "    through time according to a sine wave.\n",
    "\n",
    "    Args:\n",
    "        t (int): time passed (is converted to radians in function)\n",
    "        amp (float): The amplitude of the sin wave\n",
    "        centre (float): The value around which resource density fluctuates.\n",
    "        period (int): Period of the wave in time. Defaults to 365\n",
    "\n",
    "\n",
    "    Returns:\n",
    "        float: Resource density\n",
    "    \"\"\"   \n",
    "\n",
    "    x = t * (2 * pi / period) \n",
    "\n",
    "    return (amp * sin(x)) + centre\n",
    "\n",
    "def Fun_Resp(m, Xr, dimensionality = \"3D\"):\n",
    "    \"\"\"\n",
    "    Calculates the functional response of an organism dependent on mass.\n",
    "\n",
    "    Args:\n",
    "        m (float): Mass of individual\n",
    "        ## a0 ([type]): mass dependent search rate \n",
    "        R (float): Resource density\n",
    "        ## h ([type]): [description]\n",
    "        dimensionality (str): Used to determine how  serach rate and handling rate are calculated. See functions for details.\n",
    "\n",
    "    Returns:\n",
    "        [float]: consumption rate of the organism\n",
    "    \"\"\"    \n",
    "    a = am(m, dimensionality) # find mass dependent search rate\n",
    "    h = hm(m, dimensionality)  # find mass dependent handling time\n",
    "    \n",
    "    f = (a*Xr) / (1 + a*h*Xr)\n",
    "    return f\n",
    "\n",
    "def L(t, k = 0.01):\n",
    "    \"\"\"\n",
    "    Suvival Function for reproduction modelled as an exponetially increasing number through time.\n",
    "    Based on thinking that most organisms will not live long enough for factors such as \n",
    "    reproductive senescence to be a factor.\n",
    "\n",
    "    Args:\n",
    "        t (int): Time\n",
    "        k (float, optional): Reproductive senescence. Defaults to 0.01.\n",
    "\n",
    "    Returns:\n",
    "        [type]: [description]\n",
    "    \"\"\"\n",
    "    return exp(-k*t)\n",
    "\n",
    "def reproduction(t, c, m, rho, alpha, k = 0.01):\n",
    "    \"\"\"\n",
    "    Calculates the reproductive output of an organisms at time `t` in terms of biomass\n",
    "\n",
    "    Args:\n",
    "        t (int): Time\n",
    "        c (float): Reproductive scaling constant\n",
    "        m (float): Mass of individual\n",
    "        rho (float): Reproductive scaling exponent\n",
    "        k (float, optional): Reproductive senescence. Defaults to 0.01.]\n",
    "        \n",
    "    Returns:\n",
    "        float: Reproductive output in terms of biomass\n",
    "\n",
    "    \"\"\"    \n",
    "    Q = L(t-alpha) # mortality\n",
    "\n",
    "    return Q * c * (m**rho)\n",
    "\n",
    "def metabolic_cost(mass, meta_exp=0.76):\n",
    "    \"\"\"\n",
    "    Calculates the metabolic cost of an organism in term of mass/time\n",
    "\n",
    "    Args:\n",
    "        m (float): Mass of individual (units: mass)\n",
    "        metabolic_rate (float): The standard metabolic rate or resting metabolic rate of the organism (units: energy * mass / time)\n",
    "        conversion_factor ([type]): Value for how much energy is in a unit of mass (units: energy / mass)\n",
    "\n",
    "    Returns:\n",
    "        float: The \"mass cost\" of the organism at the given mass\n",
    "    \"\"\"\n",
    "    # routine rate\n",
    "    alpha = 0.76\n",
    "    intercept = exp(-5.71)\n",
    "    return intercept * (m**alpha)\n",
    "\n"
   ]
  },
  {
   "cell_type": "markdown",
   "metadata": {},
   "source": [
    "## dmdt function\n",
    "All other functions appear to be behaving as expected with the exception of this when integrating"
   ]
  },
  {
   "cell_type": "code",
   "execution_count": 3,
   "metadata": {},
   "outputs": [],
   "source": [
    "def dmdt(mR0, t, \n",
    "         alpha, epsilon, norm_const, meta_prop, meta_exp, \n",
    "         c, rho, \n",
    "         Xr, amp, period, dimensionality = \"3D\"):\n",
    "    \"\"\"\n",
    "    Calculates the instantaneous change in mass at time `t`. \n",
    "\n",
    "    Args:\n",
    "        m (float): Mass of individual\n",
    "        t (int): time\n",
    "        alpha (int): maturation time\n",
    "        epsilon (float): Efficiency term\n",
    "        c (float): Metabolic cost constant\n",
    "        rho (float): Metabolic cost exponent\n",
    "        Xr (float): The expected median value for resource density\n",
    "        amp (float): amplitude of resource fluctuation around `Xr`\n",
    "        period (int): the period (duration) of the resource cycle\n",
    "        dimensionality (str): See `Func_Resp`\n",
    "\n",
    "\n",
    "    Returns:\n",
    "        float: change in mass (dm/dt) at time t\n",
    "    \"\"\"\n",
    "    \n",
    "    # check if individual is at/past maturation\n",
    "    m, R = mR0\n",
    "    k = 0.01 #  reproductive senesence\n",
    "    if t < alpha:\n",
    "        R = 0 # reproductive cost\n",
    "    repro = 0 # reproductive output\n",
    "    if t >= alpha:\n",
    "        R = c * norm_const * (m**rho) # kg/d\n",
    "        repro = repro_out = reproduction(t, c*norm_const, m, rho, alpha, k = 0.1)\n",
    "\n",
    "    # Gain\n",
    "    Xr_t = Xrt(t, amp, Xr, period)\n",
    "    gain = epsilon * Fun_Resp(m, Xr, dimensionality) # kg/s\n",
    "    gain = gain * (60 * 60 * 24)# /s -> /min -> /hour -> /day\n",
    "    # Loss\n",
    "    B_m  = norm_const * meta_prop * m**meta_exp  \n",
    "    loss = B_m + R\n",
    "    \n",
    "    dmdt =  gain - loss\n",
    "    \n",
    "    # check for shrinking\n",
    "    if dmdt + m < 0:\n",
    "        dmdt = -m\n",
    "\n",
    "        \n",
    "    return array([dmdt, repro])\n",
    "    "
   ]
  },
  {
   "cell_type": "code",
   "execution_count": 4,
   "metadata": {
    "scrolled": false
   },
   "outputs": [
    {
     "name": "stdout",
     "output_type": "stream",
     "text": [
      "gain 9.694238137452219\n",
      "loss 0.2000364393979939\n"
     ]
    },
    {
     "data": {
      "text/plain": [
       "1"
      ]
     },
     "execution_count": 4,
     "metadata": {},
     "output_type": "execute_result"
    }
   ],
   "source": [
    "m = 1\n",
    "Xr = 10**6\n",
    "dimensionality=\"2D\"\n",
    "epsilon = 0.5\n",
    "c= 0.2\n",
    "rho = 0.2\n",
    "\n",
    "gain = Fun_Resp(m, Xr, dimensionality) # kg/s\n",
    "gain = gain * (60 * 60 * 24)# /s -> /min -> /hour -> /day\n",
    "\n",
    "B_m  = metabolic_cost(m) # g C/d\n",
    "B_m = B_m * 11 # g wetmass/day\n",
    "B_m = B_m / 1000 # g/d -> kg/d\n",
    "loss = B_m+(c*m**rho)\n",
    "\n",
    "print(\"gain\", gain)\n",
    "print(\"loss\",loss)\n",
    "    \n",
    "m"
   ]
  },
  {
   "cell_type": "code",
   "execution_count": 5,
   "metadata": {},
   "outputs": [
    {
     "data": {
      "text/plain": [
       "9.694238137452219"
      ]
     },
     "execution_count": 5,
     "metadata": {},
     "output_type": "execute_result"
    }
   ],
   "source": [
    "import Functions as F\n",
    "m = 1\n",
    "Xr = 10**6\n",
    "dimensionality=\"2D\"\n",
    "epsilon = 0.5\n",
    "c= 0.2\n",
    "rho = 0.2\n",
    "\n",
    "F.Fun_Resp(m, Xr, dimensionality)* (60 * 60 * 24)# /s -> /min -> /hour -> /day\n",
    "# gain = Fun_Resp(m, Xr, dimensionality) # kg/s\n",
    "# gain = gain * (60 * 60 * 24)# /s -> /min -> /hour -> /day\n",
    "# gain"
   ]
  },
  {
   "cell_type": "markdown",
   "metadata": {},
   "source": [
    "# Code\n",
    "**Current Issues**\n",
    "- model is gaining mass too fast and over one time step metabolic cost exceeds it greatly and causes \"shrinking\"."
   ]
  },
  {
   "cell_type": "code",
   "execution_count": 6,
   "metadata": {
    "scrolled": true
   },
   "outputs": [
    {
     "data": {
      "image/png": "[encoded data removed]",
      "text/plain": [
       "<Figure size 432x288 with 1 Axes>"
      ]
     },
     "metadata": {},
     "output_type": "display_data"
    }
   ],
   "source": [
    "# params = {\"alpha\" : 200, \"epsilon\" : 0.8,\n",
    "#           \"c\" : 1, \"rho\" : 1,\n",
    "#           \"Xr\" : 10**6, \"amp\" : 0.5, \"period\" : 365}\n",
    "\n",
    "m0 = 0.1\n",
    "R0 = 0\n",
    "time = 200\n",
    "alpha = 100\n",
    "epsilon = 0.8\n",
    "#normalisation constant,1kg fish at high resources in 2D\n",
    "norm_const = Fun_Resp(1, 10**6, \"3D\")* (60 * 60 * 24)# /s -> /min -> /hour -> /day \n",
    "meta_prop = 0.1 # proportion of norm_const that is metabolic cost\n",
    "meta_exp = 1 # metabolic cost exponent\n",
    "c = 0.1\n",
    "rho = 0.4\n",
    "Xr = 10**6\n",
    "amp = 0\n",
    "period = 365\n",
    "dimensionality = \"3D\"\n",
    "\n",
    "t= arange(0,time,1)\n",
    "mR0 = array([m0,R0])\n",
    "params = (alpha, epsilon, norm_const, meta_prop, meta_exp,\n",
    "          c, rho,\n",
    "          Xr, amp, period, dimensionality)\n",
    "\n",
    "res = odeint(func=F.dmdt, y0=mR0, t=t, args=params, full_output=True)\n",
    "# repro_res = res[:,1][-1] #  final repro\n",
    "# mass_res = res[:,0][-1]\n",
    "    # res = dmdt_integrate(m0, R0, time, params)\n",
    "\n",
    "\n",
    "plt.plot(t, res[0][:,0])\n",
    "plt.plot(t, res[0][:,1])\n",
    "plt.title(\"Metabolic Exponent = \" + str(meta_exp)+ \" Epsilon =\" + str(epsilon))\n",
    "plt.savefig(\"../results/output.pdf\")"
   ]
  },
  {
   "cell_type": "code",
   "execution_count": 7,
   "metadata": {},
   "outputs": [
    {
     "data": {
      "text/plain": [
       "4096.000807288957"
      ]
     },
     "execution_count": 7,
     "metadata": {},
     "output_type": "execute_result"
    }
   ],
   "source": [
    "res[0][100,0] # mass\n"
   ]
  },
  {
   "cell_type": "code",
   "execution_count": 8,
   "metadata": {
    "scrolled": true
   },
   "outputs": [
    {
     "ename": "SyntaxError",
     "evalue": "'break' outside loop (<ipython-input-8-7da5556f9e93>, line 1)",
     "output_type": "error",
     "traceback": [
      "\u001b[0;36m  File \u001b[0;32m\"<ipython-input-8-7da5556f9e93>\"\u001b[0;36m, line \u001b[0;32m1\u001b[0m\n\u001b[0;31m    break# jsut to kill before optimisation when rerunning notebook\u001b[0m\n\u001b[0m    ^\u001b[0m\n\u001b[0;31mSyntaxError\u001b[0m\u001b[0;31m:\u001b[0m 'break' outside loop\n"
     ]
    }
   ],
   "source": [
    "break# jsut to kill before optimisation when rerunning notebook"
   ]
  },
  {
   "cell_type": "markdown",
   "metadata": {},
   "source": [
    "# Optimising reproduction"
   ]
  },
  {
   "cell_type": "code",
   "execution_count": null,
   "metadata": {
    "scrolled": false
   },
   "outputs": [],
   "source": [
    "# scanning rho and c values\n",
    "resolution = 0.1\n",
    "c_vec = arange(0.1, 2, resolution) # constant values\n",
    "rho_vec = arange(0.1, 2, resolution) #exponent values\n",
    "c_mat, rho_mat = meshgrid(c_vec, rho_vec)\n",
    "mass_matrix = zeros_like(c_mat) #  to store final mass values\n",
    "repro_matrix = zeros_like(c_mat)#  to store final reproductive output values\n",
    "\n",
    "    \n",
    "for i, rho in enumerate(rho_vec):\n",
    "    for j, c in enumerate(c_vec):\n",
    "        params = (alpha, epsilon, norm_const, meta_prop, meta_exp,\n",
    "                  c, rho,\n",
    "                  Xr, amp, period, dimensionality)\n",
    "\n",
    "        res = odeint(func=dmdt, y0=mR0, t=t, args=params)\n",
    "#         plt.plot(t, res[:,0], label=\"Mass\")\n",
    "#         plt.plot(t, res[:,1], label=\"Repro\")\n",
    "        res = nan_to_num(res, nan=0) # remove nan from the running\n",
    "        res = res[-1]\n",
    "#         if res[-1][0] <= res[alpha][0]:# if mass less than at maturation\n",
    "#             res = [0,0]\n",
    "#         else:\n",
    "#             res = res[-1]\n",
    "\n",
    "        mass_matrix[i,j] = res[0]\n",
    "        repro_matrix[i,j] =res[1]"
   ]
  },
  {
   "cell_type": "code",
   "execution_count": null,
   "metadata": {},
   "outputs": [],
   "source": [
    "sb.heatmap(mass_matrix, \n",
    "           xticklabels = around(c_vec, decimals=1), \n",
    "           yticklabels= around(rho_vec, decimals=1)).invert_yaxis()\n",
    "plt.ylabel(\"c\")\n",
    "plt.xlabel(\"rho\")\n",
    "plt.title(\"Mass\")\n",
    "\n",
    "plt.figure()\n",
    "sb.heatmap(repro_matrix, \n",
    "           xticklabels = around(c_vec, decimals=1), \n",
    "           yticklabels= around(rho_vec, decimals=1)).invert_yaxis()\n",
    "plt.ylabel(\"c\")\n",
    "plt.xlabel(\"rho\")\n",
    "plt.title(\"Reproduction\")\n"
   ]
  },
  {
   "cell_type": "markdown",
   "metadata": {},
   "source": [
    "# Checking Resource Fluctuation "
   ]
  },
  {
   "cell_type": "code",
   "execution_count": null,
   "metadata": {
    "scrolled": true
   },
   "outputs": [],
   "source": [
    "t= arange(1,10**3,1)\n",
    "m= arange(1,10**3,1)\n",
    "resources = 100\n",
    "Xr = Xrt(t, 0.5, resources, 365)\n",
    "plt.figure()\n",
    "plt.plot(t, Xr)\n",
    "\n",
    "plt.figure()\n",
    "plt.plot(t, Fun_Resp(m, Xr))"
   ]
  },
  {
   "cell_type": "code",
   "execution_count": null,
   "metadata": {},
   "outputs": [],
   "source": []
  }
 ],
 "metadata": {
  "kernelspec": {
   "display_name": "Python 3",
   "language": "python",
   "name": "python3"
  },
  "language_info": {
   "codemirror_mode": {
    "name": "ipython",
    "version": 3
   },
   "file_extension": ".py",
   "mimetype": "text/x-python",
   "name": "python",
   "nbconvert_exporter": "python",
   "pygments_lexer": "ipython3",
   "version": "3.8.2"
  },
  "toc": {
   "base_numbering": 1,
   "nav_menu": {},
   "number_sections": true,
   "sideBar": true,
   "skip_h1_title": false,
   "title_cell": "Table of Contents",
   "title_sidebar": "Contents",
   "toc_cell": true,
   "toc_position": {},
   "toc_section_display": true,
   "toc_window_display": false
  },
  "varInspector": {
   "cols": {
    "lenName": 16,
    "lenType": 16,
    "lenVar": 40
   },
   "kernels_config": {
    "python": {
     "delete_cmd_postfix": "",
     "delete_cmd_prefix": "del ",
     "library": "var_list.py",
     "varRefreshCmd": "print(var_dic_list())"
    },
    "r": {
     "delete_cmd_postfix": ") ",
     "delete_cmd_prefix": "rm(",
     "library": "var_list.r",
     "varRefreshCmd": "cat(var_dic_list()) "
    }
   },
   "types_to_exclude": [
    "module",
    "function",
    "builtin_function_or_method",
    "instance",
    "_Feature"
   ],
   "window_display": true
  }
 },
 "nbformat": 4,
 "nbformat_minor": 4
}
