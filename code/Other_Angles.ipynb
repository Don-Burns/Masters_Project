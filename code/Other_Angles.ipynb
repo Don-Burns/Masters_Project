{
 "cells": [
  {
   "cell_type": "markdown",
   "metadata": {
    "toc": true
   },
   "source": [
    "<h1>Table of Contents<span class=\"tocSkip\"></span></h1>\n",
    "<div class=\"toc\"><ul class=\"toc-item\"><li><span><a href=\"#Purpose\" data-toc-modified-id=\"Purpose-1\"><span class=\"toc-item-num\">1&nbsp;&nbsp;</span>Purpose</a></span></li><li><span><a href=\"#Intake\" data-toc-modified-id=\"Intake-2\"><span class=\"toc-item-num\">2&nbsp;&nbsp;</span>Intake</a></span></li><li><span><a href=\"#Maintanance\" data-toc-modified-id=\"Maintanance-3\"><span class=\"toc-item-num\">3&nbsp;&nbsp;</span>Maintanance</a></span></li><li><span><a href=\"#Reproduction\" data-toc-modified-id=\"Reproduction-4\"><span class=\"toc-item-num\">4&nbsp;&nbsp;</span>Reproduction</a></span></li><li><span><a href=\"#Breaking-Down-Hou-et-al.-2008\" data-toc-modified-id=\"Breaking-Down-Hou-et-al.-2008-5\"><span class=\"toc-item-num\">5&nbsp;&nbsp;</span>Breaking Down Hou et al. 2008</a></span><ul class=\"toc-item\"><li><span><a href=\"#Basal-Metabolic-rate:\" data-toc-modified-id=\"Basal-Metabolic-rate:-5.1\"><span class=\"toc-item-num\">5.1&nbsp;&nbsp;</span>Basal Metabolic rate:</a></span></li></ul></li></ul></div>"
   ]
  },
  {
   "cell_type": "markdown",
   "metadata": {},
   "source": [
    "# Purpose\n",
    "- Since traditional OGM's seem to be unfit to answer questions when thinking about supply have decided to change the way I am thinking about the problem to keep the same skeleton, but change the way the parts are derived to hopefully get something a little less tautological"
   ]
  },
  {
   "cell_type": "code",
   "execution_count": null,
   "metadata": {},
   "outputs": [],
   "source": []
  },
  {
   "cell_type": "markdown",
   "metadata": {},
   "source": [
    "# Intake\n",
    "- $am^\\frac{3}{4}$ in OGM"
   ]
  },
  {
   "cell_type": "markdown",
   "metadata": {},
   "source": [
    "- can model the intake as a functional response \n",
    "    - can modify the response equation so it scales from 0 to 1 and not up to handling time (see basset 2012)\n",
    "- the intake (funcational response) can then be reduced by some efficiency constant (einum 2014) for expressing how much energy is availible for use."
   ]
  },
  {
   "cell_type": "markdown",
   "metadata": {},
   "source": [
    "# Maintanance\n",
    "- $bm$ in OGM"
   ]
  },
  {
   "cell_type": "markdown",
   "metadata": {},
   "source": [
    "- maintenance based on Hou et al 2008?\n"
   ]
  },
  {
   "cell_type": "markdown",
   "metadata": {},
   "source": [
    "# Reproduction\n",
    "- $cm^\\rho$ in OGM"
   ]
  },
  {
   "cell_type": "markdown",
   "metadata": {},
   "source": [
    "- can take inspiration from DEB and model the energy left over after maintenance is paid to go towards either growth or reproduction depending on if the fish is mature or not? (Aoki et al 2020, jusup 2011)"
   ]
  },
  {
   "cell_type": "markdown",
   "metadata": {},
   "source": [
    "# Breaking Down Hou et al. 2008\n",
    "- looks like \"Energy uptake and allocation during ontogeny\" - Hou et al 2008 is very promising is solving some of the issues that I have so I will be breaking it down here.\n",
    "\n",
    "- Hou looks at the system as assimilated food ($A$) is either stored as biomass ($S$) or oxidised to \"pay\" metabolic costs/as fuel for metabolic rate ($B_{tot}$)\n",
    "\n",
    "\\begin{align}\n",
    "    A &= B_{tot} + S = B_{tot} + E_c \\frac{dm}{dt}\n",
    "\\end{align}\n",
    "Where:\n",
    "- $A$ : the combustion energy content of ingested food per unit time minus the combustion energy content of excreta per unit time\n",
    "- $B_{tot}$ : total metabolic rate\n",
    "- $S$ : stored biomass\n",
    "- $E_c$ : combustion energy of a unit biomass\n",
    "- $\\frac{dm}{dt}$ : rate of change of biomass \n",
    "\n",
    "\n",
    "## Basal Metabolic rate:\n",
    "\\begin{align}\n",
    "    B_{basal} &= B_{maint} + B_{syn} \\\\\n",
    "    &= B_m m + E_m \\frac{dm}{dt}\n",
    "\\end{align}\n",
    "basal metabolic rate is hard to measure since animals are growing even when they are resting, so Hou et al. use $B_{rest}$ which is $B_{basal} + SDA$ (SDA = specific dynamic action: the increment resulting from digestionm, i.e. intestinal absorptio, nutrient transport, amino acid oxidation and protein synthesis).  Since a portion of metabolic rate is assigned to SDA during growth the expression becomes:\n",
    "\\begin{align}\n",
    "    B_{rest} &= B_{maint} + B_{syn} \\\\\n",
    "    &= B_m m + E_m \\frac{dm}{dt}\n",
    "\\end{align}\n",
    "where:\n",
    "- $B_{rest}$ : resting metabolic rate\n",
    "- $B_{maint}$ : maintenance cost\n",
    "- $B_m$ ~ $M^{-\\frac{1}{4}}$ : mass-specific maintenance metabolic rate, M : adult body mass\n",
    "- $E_m$ : The energy required to synthesis body mass\n",
    "\n",
    "Note: Hou emphasis the difference between $E_m$ and $E_c$.  $E_c$ is the energy stored in newly synthesised biomassand $E_m$ is the energy expended to make biomass.\n",
    "\n",
    "$B_{syn}$ is completely dissapated as heat and not conserved in biomass\n",
    "\n",
    "The toal metabolic rate of an adult orgainism is given by:\n",
    "\\begin{align}\n",
    "    B_{tot}(M) &= B_{act}(M) + B_{rest} \\\\\n",
    "    &= f B_{rest}(M)\n",
    "\\end{align}\n",
    "\n",
    "where:\n",
    "- $M$ represents adult\n",
    "- $B_{act}$ : rate of energy expendeture for locomotion, feeding and other activities\n",
    "- $f$ : the activity scope; dimensionless is about 2 to 3 and independent of body mass\n",
    "\n",
    "If you assume a similar relationship holds during growth then:\n",
    "\\begin{align}\n",
    "    A(m) &= B_{maint}(m) + B_{act}(m) + B_{syn}(m) + S(m) \\\\\n",
    "    &= (f + \\gamma) B_{rest}(m) - \\gamma B_{maint}(m)\n",
    "\\end{align}\n",
    "\n",
    "where: \n",
    "- $\\gamma$ : $\\frac{S}{B_{syn}} = \\frac{E_c}{E_m}$\n",
    "\n",
    "It has been shown that:\n",
    "$B_{rest} \\approx B_0 m^\\frac{3}{4}$\n",
    "where:\n",
    "- $B_0$ : taxon specific constant\n",
    "\n",
    "When taking SDA into account:\n",
    "$B_m \\approx B_0 M^{-\\frac{1}{4}}$\n",
    "\n",
    "\n",
    "This all combines to give:\n",
    "\\begin{align}\n",
    "    A(m) &= (f + \\gamma) B_0 m^\\frac{3}{4} - \\gamma B_0 M^{-\\frac{1}{4}}m \\\\\n",
    "    &= B_{rest, adult} [ (f + \\gamma) \\mu^\\frac{3}{4} - \\gamma \\mu]\n",
    "\\end{align}\n",
    "\n",
    "where:\n",
    "- $\\mu \\equiv \\frac{m}{M}$ : relative mass \n",
    "- $B_{rest, adult} \\approx B_0 M^\\frac{3}{4}$ : resting metabolic rate at adult size\n",
    "\n",
    "\n",
    "##\n",
    "\n",
    "\n",
    "\n"
   ]
  },
  {
   "cell_type": "code",
   "execution_count": null,
   "metadata": {},
   "outputs": [],
   "source": []
  }
 ],
 "metadata": {
  "kernelspec": {
   "display_name": "Python 3",
   "language": "python",
   "name": "python3"
  },
  "language_info": {
   "codemirror_mode": {
    "name": "ipython",
    "version": 3
   },
   "file_extension": ".py",
   "mimetype": "text/x-python",
   "name": "python",
   "nbconvert_exporter": "python",
   "pygments_lexer": "ipython3",
   "version": "3.8.2"
  },
  "toc": {
   "base_numbering": 1,
   "nav_menu": {},
   "number_sections": true,
   "sideBar": true,
   "skip_h1_title": false,
   "title_cell": "Table of Contents",
   "title_sidebar": "Contents",
   "toc_cell": true,
   "toc_position": {},
   "toc_section_display": true,
   "toc_window_display": true
  },
  "varInspector": {
   "cols": {
    "lenName": 16,
    "lenType": 16,
    "lenVar": 40
   },
   "kernels_config": {
    "python": {
     "delete_cmd_postfix": "",
     "delete_cmd_prefix": "del ",
     "library": "var_list.py",
     "varRefreshCmd": "print(var_dic_list())"
    },
    "r": {
     "delete_cmd_postfix": ") ",
     "delete_cmd_prefix": "rm(",
     "library": "var_list.r",
     "varRefreshCmd": "cat(var_dic_list()) "
    }
   },
   "types_to_exclude": [
    "module",
    "function",
    "builtin_function_or_method",
    "instance",
    "_Feature"
   ],
   "window_display": true
  }
 },
 "nbformat": 4,
 "nbformat_minor": 2
}
