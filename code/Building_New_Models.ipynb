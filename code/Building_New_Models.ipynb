{
 "cells": [
  {
   "cell_type": "markdown",
   "metadata": {},
   "source": [
    "This notebook is to build the models for Hou et al 2011 and model based on discussions with supervisors which is based on a more bottom up aproach compared to traditional OGMs. "
   ]
  },
  {
   "cell_type": "code",
   "execution_count": 1,
   "metadata": {},
   "outputs": [],
   "source": [
    "## imports\n",
    "import Functions as F\n",
    "import scipy as sc"
   ]
  },
  {
   "cell_type": "markdown",
   "metadata": {},
   "source": [
    "# Hou et al 2011 Model\n",
    " The Hou et al 2011 model needs to be rearranged so as it can be used for my purposes.  I need to express the model in terms of $\\frac{dm}{dt}$.\n",
    "## Rearranging in  term of $\\frac{dm}{dt}$\n",
    "Hou et al. state that:\n",
    "\\begin{align}\n",
    "    E_m \\frac{dm}{dt} = B_0 m^\\frac{3}{4} - B_m m \n",
    "\\end{align}\n",
    "where:\n",
    "- $E_m$ : the amount of metabolic energy required to synthesize one unit of biomass\n",
    "- $B_0$ : Taxon specific constant = $b_0 e^{-\\frac{E_0}{KT}}$ (Boltzmann-Arrhenius equation)\n",
    "- $B_m$ : mass specific metabolic rate = $B_0 M^{-\\frac{1}{4}}$\n",
    "\n",
    "\n",
    "When trying to calculate feeding restricted growth (FR) for a proportion of *ad libitum* growth $\\beta$:\n",
    "\\begin{align}\n",
    "    \\beta [(f + \\frac{E_c}{E_m}) B_0 m(t)^{\\frac{3}{4}} - \\frac{E_c}{E_m} B_0 M^{- \\frac{1}{4}} m(t)] = f B_{0, FR}m_{FR}(t)^\\frac{3}{4} + E_c \\frac{dm_{FR}(t)}{dt} \\\\\n",
    "    \\beta [(f + \\frac{E_c}{E_m}) B_0 m(t)^{\\frac{3}{4}} - \\frac{E_c}{E_m} B_0 M^{- \\frac{1}{4}} m(t)] - f B_{0, FR}m_{FR}(t)^\\frac{3}{4} &=  E_c \\frac{dm_{FR}(t)}{dt}\\\\\n",
    "        \\frac{\\beta [(f + \\frac{E_c}{E_m}) B_0 m(t)^{\\frac{3}{4}} - \\frac{E_c}{E_m} B_0 M^{- \\frac{1}{4}} m(t)] - f B_{0, FR}m_{FR}(t)^\\frac{3}{4}}{E_c} &=  \\frac{dm_{FR}(t)}{dt}\\\\\n",
    "\\end{align}\n",
    "\n",
    "To calculate $m(t) to insert into the above equation:\n",
    "\\begin{align}\n",
    "   m(t) &= (1 - [1 - (\\frac{m_0}{M})^\\frac{1}{4}] e^{-\\frac{B_{0t}}{4 E_m M^\\frac{1}{4}}})^4 M\\\\\n",
    "\\end{align}"
   ]
  },
  {
   "cell_type": "code",
   "execution_count": 11,
   "metadata": {},
   "outputs": [
    {
     "data": {
      "image/png": "[encoded data removed]",
      "text/plain": [
       "<Figure size 432x288 with 1 Axes>"
      ]
     },
     "metadata": {
      "needs_background": "light"
     },
     "output_type": "display_data"
    },
    {
     "name": "stdout",
     "output_type": "stream",
     "text": [
      "[  2063.           2063.14526226   2063.2905297  ...,  34804.99745243\n",
      "  34804.99745247  34804.99745252]\n"
     ]
    }
   ],
   "source": [
    "# a section to test functions and other functionality\n",
    "#dog\n",
    "m0 = 2063\n",
    "time = 10**6\n",
    "params = {\"beta\":1, \"f\":1.8, \"Ec\":24000, \"Em\":4185, \"B0\":3.92, \"B0FR\":3.92,  \"M\":34805}\n",
    "mass = F.hou_integrate(m0=m0, time=time, params=params)[:,0] # using mice from hou et al 2011\n",
    "# may want to define B0 and B0FR based on b0 and calculate in function?\n",
    "F.plot_hou(m0, time, params)\n",
    "print(mass)"
   ]
  },
  {
   "cell_type": "code",
   "execution_count": 10,
   "metadata": {},
   "outputs": [
    {
     "data": {
      "text/plain": [
       "array([  2063.        ,   2063.14526226,   2063.2905297 , ...,\n",
       "        34804.99745243,  34804.99745247,  34804.99745252])"
      ]
     },
     "execution_count": 10,
     "metadata": {},
     "output_type": "execute_result"
    }
   ],
   "source": [
    "\n"
   ]
  },
  {
   "cell_type": "code",
   "execution_count": null,
   "metadata": {},
   "outputs": [],
   "source": []
  },
  {
   "cell_type": "code",
   "execution_count": null,
   "metadata": {},
   "outputs": [],
   "source": []
  },
  {
   "cell_type": "code",
   "execution_count": null,
   "metadata": {},
   "outputs": [],
   "source": []
  },
  {
   "cell_type": "code",
   "execution_count": null,
   "metadata": {},
   "outputs": [],
   "source": []
  },
  {
   "cell_type": "code",
   "execution_count": null,
   "metadata": {},
   "outputs": [],
   "source": []
  },
  {
   "cell_type": "code",
   "execution_count": null,
   "metadata": {},
   "outputs": [],
   "source": []
  },
  {
   "cell_type": "code",
   "execution_count": null,
   "metadata": {},
   "outputs": [],
   "source": []
  },
  {
   "cell_type": "code",
   "execution_count": null,
   "metadata": {},
   "outputs": [],
   "source": []
  },
  {
   "cell_type": "code",
   "execution_count": null,
   "metadata": {},
   "outputs": [],
   "source": []
  },
  {
   "cell_type": "markdown",
   "metadata": {},
   "source": [
    "# Bottom Up Supply Model\n",
    "A bottom up supply model that uses a functional response scaled by an allocation constraint to define the gain term.\n",
    "\n",
    "## Simplified Model\n",
    "\\begin{align}\n",
    "    \\frac{1}{m} \\frac{dm}{dt} &= Gain - Loss \\\\\n",
    "    \\frac{1}{m} \\frac{dm}{dt} &= \\epsilon f(\\cdot) - (L_B + L_R) \\\\\n",
    "\\end{align}\n",
    "where:\n",
    "- $\\epsilon$ : allocation constraint (efficiency of conversion from food to energy), dimensionless\n",
    "- $mf\\cdot$ : consumption (intake) rate, mass\\time\n",
    "- $L_B$ : Maintenance cost ($\\propto$ Resting metabolic rate),  \\rate (mass specific)\n",
    "- $L_R$ : reproductive cost, rate (mass specific)\n",
    "\n",
    "## Functional Response\n",
    "\\begin{align}\n",
    "    f(\\cdot) &= \\frac{a R(t)}{1 + ahR(t)} \\\\\n",
    "\\end{align}\n",
    "where:\n",
    "- $a$ : Search rate, area or volume/time\n",
    "- $R(t)$ :  Resource Density at time t, mass/area (time dependent)\n",
    "- $h$ : Handling time\n",
    "\n",
    "\\begin{align}\n",
    "    f(\\cdot)_{lim_{R \\to \\infty}} &= \\frac{1}{h} \\\\\n",
    "     \\text{at } \\textit{ad libitum} \\text{ resource availibility} & \\text{ consumption is limited by handling time}\\\\\n",
    "\\end{align}"
   ]
  },
  {
   "cell_type": "code",
   "execution_count": null,
   "metadata": {},
   "outputs": [],
   "source": []
  },
  {
   "cell_type": "code",
   "execution_count": null,
   "metadata": {},
   "outputs": [],
   "source": []
  },
  {
   "cell_type": "code",
   "execution_count": null,
   "metadata": {},
   "outputs": [],
   "source": []
  },
  {
   "cell_type": "code",
   "execution_count": null,
   "metadata": {},
   "outputs": [],
   "source": []
  },
  {
   "cell_type": "code",
   "execution_count": null,
   "metadata": {},
   "outputs": [],
   "source": []
  },
  {
   "cell_type": "code",
   "execution_count": null,
   "metadata": {},
   "outputs": [],
   "source": []
  }
 ],
 "metadata": {
  "kernelspec": {
   "display_name": "Python 3",
   "language": "python",
   "name": "python3"
  },
  "language_info": {
   "codemirror_mode": {
    "name": "ipython",
    "version": 3
   },
   "file_extension": ".py",
   "mimetype": "text/x-python",
   "name": "python",
   "nbconvert_exporter": "python",
   "pygments_lexer": "ipython3",
   "version": "3.6.9"
  },
  "toc": {
   "base_numbering": 1,
   "nav_menu": {},
   "number_sections": true,
   "sideBar": true,
   "skip_h1_title": false,
   "title_cell": "Table of Contents",
   "title_sidebar": "Contents",
   "toc_cell": false,
   "toc_position": {},
   "toc_section_display": true,
   "toc_window_display": true
  },
  "varInspector": {
   "cols": {
    "lenName": 16,
    "lenType": 16,
    "lenVar": 40
   },
   "kernels_config": {
    "python": {
     "delete_cmd_postfix": "",
     "delete_cmd_prefix": "del ",
     "library": "var_list.py",
     "varRefreshCmd": "print(var_dic_list())"
    },
    "r": {
     "delete_cmd_postfix": ") ",
     "delete_cmd_prefix": "rm(",
     "library": "var_list.r",
     "varRefreshCmd": "cat(var_dic_list()) "
    }
   },
   "position": {
    "height": "438.85px",
    "left": "1500px",
    "right": "20px",
    "top": "120px",
    "width": "333px"
   },
   "types_to_exclude": [
    "module",
    "function",
    "builtin_function_or_method",
    "instance",
    "_Feature"
   ],
   "window_display": true
  }
 },
 "nbformat": 4,
 "nbformat_minor": 2
}
