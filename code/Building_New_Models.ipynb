{
 "cells": [
  {
   "cell_type": "markdown",
   "metadata": {},
   "source": [
    "This notebook is to build the models for Hou et al 2011 and model based on discussions with supervisors which is based on a more bottom up aproach compared to traditional OGMs. "
   ]
  },
  {
   "cell_type": "code",
   "execution_count": 1,
   "metadata": {},
   "outputs": [],
   "source": [
    "## imports\n",
    "import Functions as F\n",
    "import scipy as sc"
   ]
  },
  {
   "cell_type": "markdown",
   "metadata": {},
   "source": [
    "# Hou et al 2011 Model\n",
    " The Hou et al 2011 model needs to be rearranged so as it can be used for my purposes.  I need to express the model in terms of $\\frac{dm}{dt}$.\n",
    "## Rearranging in  term of $\\frac{dm}{dt}$\n",
    "Hou et al. state that:\n",
    "\\begin{align}\n",
    "    E_m \\frac{dm}{dt} = B_0 m^\\frac{3}{4} - B_m m \n",
    "\\end{align}\n",
    "where:\n",
    "- $E_m$ : the amount of metabolic energy required to synthesize one unit of biomass\n",
    "- $B_0$ : Taxon specific constant = $b_0 e^{-\\frac{E_0}{KT}}$ (Boltzmann-Arrhenius equation)\n",
    "- $B_m$ : mass specific metabolic rate = $B_0 M^{-\\frac{1}{4}}$\n",
    "\n",
    "\n",
    "When trying to calculate feeding restricted growth (FR) for a proportion of *ad libitum* growth $\\beta$:\n",
    "\\begin{align}\n",
    "    \\beta [(f + \\frac{E_c}{E_m}) B_0 m(t)^{\\frac{3}{4}} - \\frac{E_c}{E_m} B_0 M^{- \\frac{1}{4}} m(t)] = f B_{0, FR}m_{FR}(t)^\\frac{3}{4} + E_c \\frac{dm_{FR}(t)}{dt} \\\\\n",
    "    \\beta [(f + \\frac{E_c}{E_m}) B_0 m(t)^{\\frac{3}{4}} - \\frac{E_c}{E_m} B_0 M^{- \\frac{1}{4}} m(t)] - f B_{0, FR}m_{FR}(t)^\\frac{3}{4} &=  E_c \\frac{dm_{FR}(t)}{dt}\\\\\n",
    "        \\frac{\\beta [(f + \\frac{E_c}{E_m}) B_0 m(t)^{\\frac{3}{4}} - \\frac{E_c}{E_m} B_0 M^{- \\frac{1}{4}} m(t)] - f B_{0, FR}m_{FR}(t)^\\frac{3}{4}}{E_c} &=  \\frac{dm_{FR}(t)}{dt}\\\\\n",
    "\\end{align}\n",
    "\n",
    "Where:\n",
    "- $E_c$ : the combustion energy of a cell\n",
    "\n",
    "To calculate $m(t)$ to insert into the above equation:\n",
    "\\begin{align}\n",
    "   m(t) &= (1 - [1 - (\\frac{m_0}{M})^\\frac{1}{4}] e^{-\\frac{B_{0t}}{4 E_m M^\\frac{1}{4}}})^4 M\\\\\n",
    "\\end{align}"
   ]
  },
  {
   "cell_type": "code",
   "execution_count": 28,
   "metadata": {},
   "outputs": [
    {
     "data": {
      "image/png": "[encoded data removed]",
      "text/plain": [
       "<Figure size 432x288 with 1 Axes>"
      ]
     },
     "metadata": {
      "needs_background": "light"
     },
     "output_type": "display_data"
    },
    {
     "name": "stdout",
     "output_type": "stream",
     "text": [
      "[  2063.           2063.08644663   2063.17289486 ...,  22369.73625476\n",
      "  22369.7362561   22369.73625745]\n"
     ]
    }
   ],
   "source": [
    "# a section to test functions and other functionality\n",
    "#dog\n",
    "m0 = 2063\n",
    "time = 10**6\n",
    "params = {\"beta\":0.75, \"f\":1.8, \"Ec\":24000, \"Em\":4185, \"B0\":3.92, \"B0FR\":3.92 * 1.04,  \"M\":34805}\n",
    "mass = F.hou_integrate(m0=m0, time=time, params=params)[:,0] # using mice from hou et al 2011\n",
    "# may want to define B0 and B0FR based on b0 and calculate in function?\n",
    "F.plot_hou(m0, time, params)\n",
    "print(mass)"
   ]
  },
  {
   "cell_type": "code",
   "execution_count": null,
   "metadata": {},
   "outputs": [],
   "source": [
    "\n"
   ]
  },
  {
   "cell_type": "code",
   "execution_count": null,
   "metadata": {},
   "outputs": [],
   "source": []
  },
  {
   "cell_type": "code",
   "execution_count": null,
   "metadata": {},
   "outputs": [],
   "source": []
  },
  {
   "cell_type": "code",
   "execution_count": null,
   "metadata": {},
   "outputs": [],
   "source": []
  },
  {
   "cell_type": "code",
   "execution_count": null,
   "metadata": {},
   "outputs": [],
   "source": []
  },
  {
   "cell_type": "code",
   "execution_count": null,
   "metadata": {},
   "outputs": [],
   "source": []
  },
  {
   "cell_type": "code",
   "execution_count": null,
   "metadata": {},
   "outputs": [],
   "source": []
  },
  {
   "cell_type": "code",
   "execution_count": null,
   "metadata": {},
   "outputs": [],
   "source": []
  },
  {
   "cell_type": "code",
   "execution_count": null,
   "metadata": {},
   "outputs": [],
   "source": []
  },
  {
   "cell_type": "code",
   "execution_count": null,
   "metadata": {},
   "outputs": [],
   "source": []
  },
  {
   "cell_type": "markdown",
   "metadata": {},
   "source": [
    "# Bottom Up Supply Model\n",
    "A bottom up supply model that uses a functional response scaled by an allocation constraint to define the gain term.\n",
    "\n",
    "## Simplified Model\n",
    "\\begin{align}\n",
    "    \\frac{1}{m} \\frac{dm}{dt} &= Gain - Loss \\\\\n",
    "    \\frac{1}{m} \\frac{dm}{dt} &= \\epsilon f(\\cdot) - (L_B + L_R) \\\\\n",
    "\\end{align}\n",
    "where:\n",
    "- $\\epsilon$ : allocation constraint (efficiency of conversion from food to energy), dimensionless\n",
    "- $mf\\cdot$ : consumption (intake) rate, mass\\time\n",
    "- $L_B$ : Maintenance cost ($\\propto$ Resting metabolic rate),  \\rate (mass specific)\n",
    "- $L_R$ : reproductive cost, rate (mass specific)\n",
    "\n",
    "## Functional Response\n",
    "\\begin{align}\n",
    "    f(\\cdot) &= \\frac{a R(t)}{1 + ahR(t)} \\\\\n",
    "\\end{align}\n",
    "where:\n",
    "- $a$ : Search rate, area or volume/time\n",
    "- $R(t)$ :  Resource Density at time t, mass/area (time dependent)\n",
    "- $h$ : Handling time\n",
    "\n",
    "\\begin{align}\n",
    "    f(\\cdot)_{lim_{R \\to \\infty}} &= \\frac{1}{h} \\\\\n",
    "     \\text{at } \\textit{ad libitum} \\text{ resource availibility} & \\text{ consumption is limited by handling time}\\\\\n",
    "\\end{align}\n",
    "\n",
    "## Gain\n",
    "Gain should scale with $m^\\frac{3}{4}$\n",
    "- to accomplish this it needs to be multiplied by $m^{-\\frac{1}{4}}$ to accomadate for when m is multiplied through for all LHS terms in dmdt.\n",
    "\n",
    "## Loss \n",
    "Loss, for the moment at least is assumed to scale isometrically. So no manipulation like in gain is needed.\n",
    "\n",
    "It seems RMR is reported in energy/mass/time e.g. $J/g/h$.\n",
    "- For my purposes it need to be a rate (/time) so as when $m$ is multiplied through it yields mass/time.  \n",
    "## Data\n",
    "-  resting metabolic rate (RMR) = 2.2 $J/g/h$ (Grantner 1998, refered to as SMR)"
   ]
  },
  {
   "cell_type": "markdown",
   "metadata": {},
   "source": [
    "### Testing"
   ]
  },
  {
   "cell_type": "code",
   "execution_count": 3,
   "metadata": {},
   "outputs": [
    {
     "data": {
      "image/png": "[encoded data removed]",
      "text/plain": [
       "<Figure size 432x288 with 1 Axes>"
      ]
     },
     "metadata": {
      "needs_background": "light"
     },
     "output_type": "display_data"
    },
    {
     "name": "stdout",
     "output_type": "stream",
     "text": [
      "[  1.00000000e-01   5.68296514e+01   5.37368246e+02   2.10743525e+03\n",
      "   5.55611497e+03   1.16740341e+04   2.11770738e+04   3.46627192e+04\n",
      "   5.25893418e+04   7.52711655e+04   1.02883565e+05   1.35474781e+05\n",
      "   1.72981238e+05   2.15244478e+05   2.62028353e+05   3.13035556e+05\n",
      "   3.67922942e+05   4.26315304e+05   4.87817468e+05   5.52024665e+05\n",
      "   6.18531249e+05   6.86937859e+05   7.56857161e+05   8.27918314e+05\n",
      "   8.99770330e+05   9.72084465e+05   1.04455579e+06   1.11690406e+06\n",
      "   1.18887406e+06   1.26023542e+06   1.33078211e+06   1.40033164e+06\n",
      "   1.46872404e+06   1.53582071e+06   1.60150308e+06   1.66567134e+06\n",
      "   1.72824301e+06   1.78915157e+06   1.84834514e+06   1.90578510e+06\n",
      "   1.96144486e+06   2.01530864e+06   2.06737028e+06   2.11763220e+06\n",
      "   2.16610439e+06   2.21280343e+06   2.25775165e+06   2.30097635e+06\n",
      "   2.34250902e+06   2.38238472e+06   2.42064146e+06   2.45731964e+06\n",
      "   2.49246159e+06   2.52611109e+06   2.55831303e+06   2.58911300e+06\n",
      "   2.61855703e+06   2.64669132e+06   2.67356195e+06   2.69921475e+06\n",
      "   2.72369505e+06   2.74704759e+06   2.76931635e+06   2.79054444e+06\n",
      "   2.81077405e+06   2.83004635e+06   2.84840140e+06   2.86587818e+06\n",
      "   2.88251449e+06   2.89834694e+06   2.91341097e+06   2.92774080e+06\n",
      "   2.94136946e+06   2.95432878e+06   2.96664940e+06   2.97836079e+06\n",
      "   2.98949129e+06   3.00006807e+06   3.01011724e+06   3.01966381e+06\n",
      "   3.02873173e+06   3.03734395e+06   3.04552242e+06   3.05328814e+06\n",
      "   3.06066117e+06   3.06766067e+06   3.07430496e+06   3.08061150e+06\n",
      "   3.08659696e+06   3.09227724e+06   3.09766750e+06   3.10278218e+06\n",
      "   3.10763505e+06   3.11223921e+06   3.11660716e+06   3.12075076e+06\n",
      "   3.12468134e+06   3.12840965e+06   3.13194594e+06   3.13529993e+06]\n"
     ]
    }
   ],
   "source": [
    "params = {\"epsilon\" : 1, \"L_B\" : 2.15/10, \"L_R\" : 0, \"a\" : 1, \"R\" : 100, \"h\" : 0.1} # L_B as B0 from hou\n",
    "m0 = 0.1\n",
    "time = 10**2\n",
    "\n",
    "mass = F.plot_supply(m0, time, params)\n",
    "\n",
    "\n",
    "print(mass)\n",
    "\n",
    "\n",
    "\n",
    "\n"
   ]
  },
  {
   "cell_type": "code",
   "execution_count": null,
   "metadata": {},
   "outputs": [],
   "source": []
  },
  {
   "cell_type": "code",
   "execution_count": null,
   "metadata": {},
   "outputs": [],
   "source": []
  },
  {
   "cell_type": "code",
   "execution_count": null,
   "metadata": {},
   "outputs": [],
   "source": []
  },
  {
   "cell_type": "code",
   "execution_count": null,
   "metadata": {},
   "outputs": [],
   "source": []
  }
 ],
 "metadata": {
  "kernelspec": {
   "display_name": "Python 3",
   "language": "python",
   "name": "python3"
  },
  "language_info": {
   "codemirror_mode": {
    "name": "ipython",
    "version": 3
   },
   "file_extension": ".py",
   "mimetype": "text/x-python",
   "name": "python",
   "nbconvert_exporter": "python",
   "pygments_lexer": "ipython3",
   "version": "3.6.9"
  },
  "toc": {
   "base_numbering": 1,
   "nav_menu": {},
   "number_sections": true,
   "sideBar": true,
   "skip_h1_title": false,
   "title_cell": "Table of Contents",
   "title_sidebar": "Contents",
   "toc_cell": false,
   "toc_position": {},
   "toc_section_display": true,
   "toc_window_display": true
  },
  "varInspector": {
   "cols": {
    "lenName": 16,
    "lenType": 16,
    "lenVar": 40
   },
   "kernels_config": {
    "python": {
     "delete_cmd_postfix": "",
     "delete_cmd_prefix": "del ",
     "library": "var_list.py",
     "varRefreshCmd": "print(var_dic_list())"
    },
    "r": {
     "delete_cmd_postfix": ") ",
     "delete_cmd_prefix": "rm(",
     "library": "var_list.r",
     "varRefreshCmd": "cat(var_dic_list()) "
    }
   },
   "position": {
    "height": "438.85px",
    "left": "1500px",
    "right": "20px",
    "top": "120px",
    "width": "333px"
   },
   "types_to_exclude": [
    "module",
    "function",
    "builtin_function_or_method",
    "instance",
    "_Feature"
   ],
   "window_display": true
  }
 },
 "nbformat": 4,
 "nbformat_minor": 2
}
